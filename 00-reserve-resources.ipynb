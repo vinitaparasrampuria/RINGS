{
 "cells": [
  {
   "cell_type": "markdown",
   "id": "258cbc1b-8bfb-402a-b492-db39aad22b3e",
   "metadata": {},
   "source": [
    "# Reserve and configure FABRIC resources for \"Setting Intermediate Network\""
   ]
  },
  {
   "cell_type": "markdown",
   "id": "844ee501-0bb2-41b8-a398-9d8f7f58e48e",
   "metadata": {},
   "source": [
    "## Set up your FABRIC environment\n",
    "\n",
    "This assumes that you have already configured your FABRIC account and your Jupyter environment as described in [Hello, FABRIC](https://teaching-on-testbeds.github.io/blog/hello-fabric)."
   ]
  },
  {
   "cell_type": "code",
   "execution_count": 1,
   "id": "d0494be9-b9ee-4d12-873a-7bdae4e9be9e",
   "metadata": {},
   "outputs": [
    {
     "data": {
      "text/html": [
       "<style type=\"text/css\">\n",
       "#T_f1d35 tr:nth-child(even) {\n",
       "  background: #dbf3ff;\n",
       "  color: #231f20;\n",
       "}\n",
       "#T_f1d35 tr:nth-child(odd) {\n",
       "  background: #ffffff;\n",
       "  color: #231f20;\n",
       "}\n",
       "#T_f1d35 caption {\n",
       "  text-align: center;\n",
       "  font-size: 150%;\n",
       "}\n",
       "#T_f1d35_row0_col0, #T_f1d35_row0_col1, #T_f1d35_row1_col0, #T_f1d35_row1_col1, #T_f1d35_row2_col0, #T_f1d35_row2_col1, #T_f1d35_row3_col0, #T_f1d35_row3_col1, #T_f1d35_row4_col0, #T_f1d35_row4_col1, #T_f1d35_row5_col0, #T_f1d35_row5_col1, #T_f1d35_row6_col0, #T_f1d35_row6_col1, #T_f1d35_row7_col0, #T_f1d35_row7_col1, #T_f1d35_row8_col0, #T_f1d35_row8_col1, #T_f1d35_row9_col0, #T_f1d35_row9_col1, #T_f1d35_row10_col0, #T_f1d35_row10_col1, #T_f1d35_row11_col0, #T_f1d35_row11_col1, #T_f1d35_row12_col0, #T_f1d35_row12_col1, #T_f1d35_row13_col0, #T_f1d35_row13_col1 {\n",
       "  text-align: left;\n",
       "  border: 1px #231f20 solid !important;\n",
       "  overwrite: False;\n",
       "}\n",
       "</style>\n",
       "<table id=\"T_f1d35\">\n",
       "  <caption>FABlib Config</caption>\n",
       "  <thead>\n",
       "  </thead>\n",
       "  <tbody>\n",
       "    <tr>\n",
       "      <td id=\"T_f1d35_row0_col0\" class=\"data row0 col0\" >Credential Manager</td>\n",
       "      <td id=\"T_f1d35_row0_col1\" class=\"data row0 col1\" >cm.fabric-testbed.net</td>\n",
       "    </tr>\n",
       "    <tr>\n",
       "      <td id=\"T_f1d35_row1_col0\" class=\"data row1 col0\" >Orchestrator</td>\n",
       "      <td id=\"T_f1d35_row1_col1\" class=\"data row1 col1\" >orchestrator.fabric-testbed.net</td>\n",
       "    </tr>\n",
       "    <tr>\n",
       "      <td id=\"T_f1d35_row2_col0\" class=\"data row2 col0\" >Token File</td>\n",
       "      <td id=\"T_f1d35_row2_col1\" class=\"data row2 col1\" >/home/fabric/.tokens.json</td>\n",
       "    </tr>\n",
       "    <tr>\n",
       "      <td id=\"T_f1d35_row3_col0\" class=\"data row3 col0\" >Project ID</td>\n",
       "      <td id=\"T_f1d35_row3_col1\" class=\"data row3 col1\" >073ee843-2310-45bd-a01f-a15d808827dc</td>\n",
       "    </tr>\n",
       "    <tr>\n",
       "      <td id=\"T_f1d35_row4_col0\" class=\"data row4 col0\" >Bastion Username</td>\n",
       "      <td id=\"T_f1d35_row4_col1\" class=\"data row4 col1\" >vinita_p_0000073925</td>\n",
       "    </tr>\n",
       "    <tr>\n",
       "      <td id=\"T_f1d35_row5_col0\" class=\"data row5 col0\" >Bastion Private Key File</td>\n",
       "      <td id=\"T_f1d35_row5_col1\" class=\"data row5 col1\" >/home/fabric/work/fabric_config/fabric_bastion_key</td>\n",
       "    </tr>\n",
       "    <tr>\n",
       "      <td id=\"T_f1d35_row6_col0\" class=\"data row6 col0\" >Bastion Host</td>\n",
       "      <td id=\"T_f1d35_row6_col1\" class=\"data row6 col1\" >bastion.fabric-testbed.net</td>\n",
       "    </tr>\n",
       "    <tr>\n",
       "      <td id=\"T_f1d35_row7_col0\" class=\"data row7 col0\" >Bastion Private Key Passphrase</td>\n",
       "      <td id=\"T_f1d35_row7_col1\" class=\"data row7 col1\" >None</td>\n",
       "    </tr>\n",
       "    <tr>\n",
       "      <td id=\"T_f1d35_row8_col0\" class=\"data row8 col0\" >Slice Public Key File</td>\n",
       "      <td id=\"T_f1d35_row8_col1\" class=\"data row8 col1\" >/home/fabric/work/fabric_config/slice_key.pub</td>\n",
       "    </tr>\n",
       "    <tr>\n",
       "      <td id=\"T_f1d35_row9_col0\" class=\"data row9 col0\" >Slice Private Key File</td>\n",
       "      <td id=\"T_f1d35_row9_col1\" class=\"data row9 col1\" >/home/fabric/work/fabric_config/slice_key</td>\n",
       "    </tr>\n",
       "    <tr>\n",
       "      <td id=\"T_f1d35_row10_col0\" class=\"data row10 col0\" >Slice Private Key Passphrase</td>\n",
       "      <td id=\"T_f1d35_row10_col1\" class=\"data row10 col1\" >None</td>\n",
       "    </tr>\n",
       "    <tr>\n",
       "      <td id=\"T_f1d35_row11_col0\" class=\"data row11 col0\" >Log File</td>\n",
       "      <td id=\"T_f1d35_row11_col1\" class=\"data row11 col1\" >/home/fabric/fablib.log</td>\n",
       "    </tr>\n",
       "    <tr>\n",
       "      <td id=\"T_f1d35_row12_col0\" class=\"data row12 col0\" >Log Level</td>\n",
       "      <td id=\"T_f1d35_row12_col1\" class=\"data row12 col1\" >INFO</td>\n",
       "    </tr>\n",
       "    <tr>\n",
       "      <td id=\"T_f1d35_row13_col0\" class=\"data row13 col0\" >Version</td>\n",
       "      <td id=\"T_f1d35_row13_col1\" class=\"data row13 col1\" >1.5.1</td>\n",
       "    </tr>\n",
       "  </tbody>\n",
       "</table>\n"
      ],
      "text/plain": [
       "<pandas.io.formats.style.Styler at 0x7fdd3e932d00>"
      ]
     },
     "metadata": {},
     "output_type": "display_data"
    },
    {
     "data": {
      "text/html": [
       "<style type=\"text/css\">\n",
       "#T_f1d35 tr:nth-child(even) {\n",
       "  background: #dbf3ff;\n",
       "  color: #231f20;\n",
       "}\n",
       "#T_f1d35 tr:nth-child(odd) {\n",
       "  background: #ffffff;\n",
       "  color: #231f20;\n",
       "}\n",
       "#T_f1d35 caption {\n",
       "  text-align: center;\n",
       "  font-size: 150%;\n",
       "}\n",
       "#T_f1d35_row0_col0, #T_f1d35_row0_col1, #T_f1d35_row1_col0, #T_f1d35_row1_col1, #T_f1d35_row2_col0, #T_f1d35_row2_col1, #T_f1d35_row3_col0, #T_f1d35_row3_col1, #T_f1d35_row4_col0, #T_f1d35_row4_col1, #T_f1d35_row5_col0, #T_f1d35_row5_col1, #T_f1d35_row6_col0, #T_f1d35_row6_col1, #T_f1d35_row7_col0, #T_f1d35_row7_col1, #T_f1d35_row8_col0, #T_f1d35_row8_col1, #T_f1d35_row9_col0, #T_f1d35_row9_col1, #T_f1d35_row10_col0, #T_f1d35_row10_col1, #T_f1d35_row11_col0, #T_f1d35_row11_col1, #T_f1d35_row12_col0, #T_f1d35_row12_col1, #T_f1d35_row13_col0, #T_f1d35_row13_col1 {\n",
       "  text-align: left;\n",
       "  border: 1px #231f20 solid !important;\n",
       "  overwrite: False;\n",
       "}\n",
       "</style>\n",
       "<table id=\"T_f1d35\">\n",
       "  <caption>FABlib Config</caption>\n",
       "  <thead>\n",
       "  </thead>\n",
       "  <tbody>\n",
       "    <tr>\n",
       "      <td id=\"T_f1d35_row0_col0\" class=\"data row0 col0\" >Credential Manager</td>\n",
       "      <td id=\"T_f1d35_row0_col1\" class=\"data row0 col1\" >cm.fabric-testbed.net</td>\n",
       "    </tr>\n",
       "    <tr>\n",
       "      <td id=\"T_f1d35_row1_col0\" class=\"data row1 col0\" >Orchestrator</td>\n",
       "      <td id=\"T_f1d35_row1_col1\" class=\"data row1 col1\" >orchestrator.fabric-testbed.net</td>\n",
       "    </tr>\n",
       "    <tr>\n",
       "      <td id=\"T_f1d35_row2_col0\" class=\"data row2 col0\" >Token File</td>\n",
       "      <td id=\"T_f1d35_row2_col1\" class=\"data row2 col1\" >/home/fabric/.tokens.json</td>\n",
       "    </tr>\n",
       "    <tr>\n",
       "      <td id=\"T_f1d35_row3_col0\" class=\"data row3 col0\" >Project ID</td>\n",
       "      <td id=\"T_f1d35_row3_col1\" class=\"data row3 col1\" >073ee843-2310-45bd-a01f-a15d808827dc</td>\n",
       "    </tr>\n",
       "    <tr>\n",
       "      <td id=\"T_f1d35_row4_col0\" class=\"data row4 col0\" >Bastion Username</td>\n",
       "      <td id=\"T_f1d35_row4_col1\" class=\"data row4 col1\" >vinita_p_0000073925</td>\n",
       "    </tr>\n",
       "    <tr>\n",
       "      <td id=\"T_f1d35_row5_col0\" class=\"data row5 col0\" >Bastion Private Key File</td>\n",
       "      <td id=\"T_f1d35_row5_col1\" class=\"data row5 col1\" >/home/fabric/work/fabric_config/fabric_bastion_key</td>\n",
       "    </tr>\n",
       "    <tr>\n",
       "      <td id=\"T_f1d35_row6_col0\" class=\"data row6 col0\" >Bastion Host</td>\n",
       "      <td id=\"T_f1d35_row6_col1\" class=\"data row6 col1\" >bastion.fabric-testbed.net</td>\n",
       "    </tr>\n",
       "    <tr>\n",
       "      <td id=\"T_f1d35_row7_col0\" class=\"data row7 col0\" >Bastion Private Key Passphrase</td>\n",
       "      <td id=\"T_f1d35_row7_col1\" class=\"data row7 col1\" >None</td>\n",
       "    </tr>\n",
       "    <tr>\n",
       "      <td id=\"T_f1d35_row8_col0\" class=\"data row8 col0\" >Slice Public Key File</td>\n",
       "      <td id=\"T_f1d35_row8_col1\" class=\"data row8 col1\" >/home/fabric/work/fabric_config/slice_key.pub</td>\n",
       "    </tr>\n",
       "    <tr>\n",
       "      <td id=\"T_f1d35_row9_col0\" class=\"data row9 col0\" >Slice Private Key File</td>\n",
       "      <td id=\"T_f1d35_row9_col1\" class=\"data row9 col1\" >/home/fabric/work/fabric_config/slice_key</td>\n",
       "    </tr>\n",
       "    <tr>\n",
       "      <td id=\"T_f1d35_row10_col0\" class=\"data row10 col0\" >Slice Private Key Passphrase</td>\n",
       "      <td id=\"T_f1d35_row10_col1\" class=\"data row10 col1\" >None</td>\n",
       "    </tr>\n",
       "    <tr>\n",
       "      <td id=\"T_f1d35_row11_col0\" class=\"data row11 col0\" >Log File</td>\n",
       "      <td id=\"T_f1d35_row11_col1\" class=\"data row11 col1\" >/home/fabric/fablib.log</td>\n",
       "    </tr>\n",
       "    <tr>\n",
       "      <td id=\"T_f1d35_row12_col0\" class=\"data row12 col0\" >Log Level</td>\n",
       "      <td id=\"T_f1d35_row12_col1\" class=\"data row12 col1\" >INFO</td>\n",
       "    </tr>\n",
       "    <tr>\n",
       "      <td id=\"T_f1d35_row13_col0\" class=\"data row13 col0\" >Version</td>\n",
       "      <td id=\"T_f1d35_row13_col1\" class=\"data row13 col1\" >1.5.1</td>\n",
       "    </tr>\n",
       "  </tbody>\n",
       "</table>\n"
      ],
      "text/plain": [
       "<pandas.io.formats.style.Styler at 0x7fdd3e932d00>"
      ]
     },
     "execution_count": 1,
     "metadata": {},
     "output_type": "execute_result"
    }
   ],
   "source": [
    "from fabrictestbed_extensions.fablib.fablib import FablibManager as fablib_manager\n",
    "fablib = fablib_manager() \n",
    "fablib.show_config()"
   ]
  },
  {
   "cell_type": "code",
   "execution_count": 2,
   "id": "0eccbf37-093d-4701-b6ea-c8d504d15f29",
   "metadata": {},
   "outputs": [],
   "source": [
    "!chmod 600 {fablib.get_bastion_key_filename()}\n",
    "!chmod 600 {fablib.get_default_slice_private_key_file()}"
   ]
  },
  {
   "cell_type": "markdown",
   "id": "7f841b0e-2c59-43db-80c4-83f270e068ed",
   "metadata": {},
   "source": [
    "## Create and submit a slice"
   ]
  },
  {
   "cell_type": "code",
   "execution_count": 3,
   "id": "13db87db-d3b3-4b25-8f4e-32271725fb83",
   "metadata": {},
   "outputs": [],
   "source": [
    "routers_access_network = 3\n",
    "number_of_AS=3\n",
    "routers_path=2\n",
    "routers_final_network=3\n",
    "cdn='no'\n",
    "redundancy=False"
   ]
  },
  {
   "cell_type": "code",
   "execution_count": 4,
   "id": "22ce2d56-7bbb-4a3e-be2f-8df1b8a26fe1",
   "metadata": {},
   "outputs": [],
   "source": [
    "hops=3"
   ]
  },
  {
   "cell_type": "code",
   "execution_count": 18,
   "id": "c093da86-ef5e-420a-9473-15fe0256e209",
   "metadata": {},
   "outputs": [],
   "source": [
    "slice_name=\"intermediate-network-8\"\n",
    "slice = fablib.new_slice(name=slice_name)"
   ]
  },
  {
   "cell_type": "markdown",
   "id": "00cc5d54-e26d-4bbe-a2c2-807be6723fd7",
   "metadata": {},
   "source": [
    "This cell will try to identify a site that has sufficient resources for your experiment. But, you should still check in the [FABRIC Portal](https://portal.fabric-testbed.net/resources/all) to make sure it is not in maintenance or out of service - if so, you should run the cell again until you get a site that is ready to use."
   ]
  },
  {
   "cell_type": "code",
   "execution_count": 19,
   "id": "60340ccc-00dd-4567-acd3-b9fc627f9ae6",
   "metadata": {},
   "outputs": [
    {
     "name": "stdout",
     "output_type": "stream",
     "text": [
      "[1, 1, 1]\n",
      "3\n",
      "2\n"
     ]
    }
   ],
   "source": [
    "import random\n",
    "\n",
    "\n",
    "routers=[1]\n",
    "if not redundancy:\n",
    "    for i in range(hops-1):\n",
    "        routers.append(1)\n",
    "else:\n",
    "    for i in range(hops-2):\n",
    "        routers.append(random.randint(1,3))\n",
    "    routers.append(1)\n",
    "print(routers)\n",
    "print(sum(routers))\n",
    "sum_if=0\n",
    "for r in range(len(routers)-1):\n",
    "    sum_if=sum_if+routers[r]*routers[r+1]\n",
    "print(sum_if)"
   ]
  },
  {
   "cell_type": "code",
   "execution_count": 20,
   "id": "6c4f0ba7-d16c-4416-be8d-45c9af648af4",
   "metadata": {},
   "outputs": [
    {
     "data": {
      "text/html": [
       "<style type=\"text/css\">\n",
       "#T_01f29 tr:nth-child(even) {\n",
       "  background: #dbf3ff;\n",
       "  color: #231f20;\n",
       "}\n",
       "#T_01f29 tr:nth-child(odd) {\n",
       "  background: #ffffff;\n",
       "  color: #231f20;\n",
       "}\n",
       "#T_01f29 caption {\n",
       "  text-align: center;\n",
       "  font-size: 150%;\n",
       "}\n",
       "#T_01f29_row0_col0, #T_01f29_row0_col1, #T_01f29_row1_col0, #T_01f29_row1_col1, #T_01f29_row2_col0, #T_01f29_row2_col1, #T_01f29_row3_col0, #T_01f29_row3_col1, #T_01f29_row4_col0, #T_01f29_row4_col1, #T_01f29_row5_col0, #T_01f29_row5_col1, #T_01f29_row6_col0, #T_01f29_row6_col1, #T_01f29_row7_col0, #T_01f29_row7_col1, #T_01f29_row8_col0, #T_01f29_row8_col1, #T_01f29_row9_col0, #T_01f29_row9_col1, #T_01f29_row10_col0, #T_01f29_row10_col1, #T_01f29_row11_col0, #T_01f29_row11_col1, #T_01f29_row12_col0, #T_01f29_row12_col1, #T_01f29_row13_col0, #T_01f29_row13_col1, #T_01f29_row14_col0, #T_01f29_row14_col1, #T_01f29_row15_col0, #T_01f29_row15_col1, #T_01f29_row16_col0, #T_01f29_row16_col1, #T_01f29_row17_col0, #T_01f29_row17_col1, #T_01f29_row18_col0, #T_01f29_row18_col1, #T_01f29_row19_col0, #T_01f29_row19_col1, #T_01f29_row20_col0, #T_01f29_row20_col1, #T_01f29_row21_col0, #T_01f29_row21_col1, #T_01f29_row22_col0, #T_01f29_row22_col1, #T_01f29_row23_col0, #T_01f29_row23_col1, #T_01f29_row24_col0, #T_01f29_row24_col1, #T_01f29_row25_col0, #T_01f29_row25_col1, #T_01f29_row26_col0, #T_01f29_row26_col1, #T_01f29_row27_col0, #T_01f29_row27_col1, #T_01f29_row28_col0, #T_01f29_row28_col1, #T_01f29_row29_col0, #T_01f29_row29_col1, #T_01f29_row30_col0, #T_01f29_row30_col1, #T_01f29_row31_col0, #T_01f29_row31_col1, #T_01f29_row32_col0, #T_01f29_row32_col1, #T_01f29_row33_col0, #T_01f29_row33_col1, #T_01f29_row34_col0, #T_01f29_row34_col1, #T_01f29_row35_col0, #T_01f29_row35_col1, #T_01f29_row36_col0, #T_01f29_row36_col1, #T_01f29_row37_col0, #T_01f29_row37_col1, #T_01f29_row38_col0, #T_01f29_row38_col1, #T_01f29_row39_col0, #T_01f29_row39_col1, #T_01f29_row40_col0, #T_01f29_row40_col1, #T_01f29_row41_col0, #T_01f29_row41_col1 {\n",
       "  text-align: left;\n",
       "  border: 1px #231f20 solid !important;\n",
       "  overwrite: False;\n",
       "}\n",
       "</style>\n",
       "<table id=\"T_01f29\">\n",
       "  <caption>Site</caption>\n",
       "  <thead>\n",
       "  </thead>\n",
       "  <tbody>\n",
       "    <tr>\n",
       "      <td id=\"T_01f29_row0_col0\" class=\"data row0 col0\" >Name</td>\n",
       "      <td id=\"T_01f29_row0_col1\" class=\"data row0 col1\" >GATECH</td>\n",
       "    </tr>\n",
       "    <tr>\n",
       "      <td id=\"T_01f29_row1_col0\" class=\"data row1 col0\" >State</td>\n",
       "      <td id=\"T_01f29_row1_col1\" class=\"data row1 col1\" >Active</td>\n",
       "    </tr>\n",
       "    <tr>\n",
       "      <td id=\"T_01f29_row2_col0\" class=\"data row2 col0\" >Address</td>\n",
       "      <td id=\"T_01f29_row2_col1\" class=\"data row2 col1\" >760 West Peachtree Street NW,Atlanta, GA  30308</td>\n",
       "    </tr>\n",
       "    <tr>\n",
       "      <td id=\"T_01f29_row3_col0\" class=\"data row3 col0\" >Location</td>\n",
       "      <td id=\"T_01f29_row3_col1\" class=\"data row3 col1\" >(33.7753991, -84.3875488)</td>\n",
       "    </tr>\n",
       "    <tr>\n",
       "      <td id=\"T_01f29_row4_col0\" class=\"data row4 col0\" >Hosts</td>\n",
       "      <td id=\"T_01f29_row4_col1\" class=\"data row4 col1\" >5</td>\n",
       "    </tr>\n",
       "    <tr>\n",
       "      <td id=\"T_01f29_row5_col0\" class=\"data row5 col0\" >CPUs</td>\n",
       "      <td id=\"T_01f29_row5_col1\" class=\"data row5 col1\" >10</td>\n",
       "    </tr>\n",
       "    <tr>\n",
       "      <td id=\"T_01f29_row6_col0\" class=\"data row6 col0\" >Cores Available</td>\n",
       "      <td id=\"T_01f29_row6_col1\" class=\"data row6 col1\" >632</td>\n",
       "    </tr>\n",
       "    <tr>\n",
       "      <td id=\"T_01f29_row7_col0\" class=\"data row7 col0\" >Cores Capacity</td>\n",
       "      <td id=\"T_01f29_row7_col1\" class=\"data row7 col1\" >640</td>\n",
       "    </tr>\n",
       "    <tr>\n",
       "      <td id=\"T_01f29_row8_col0\" class=\"data row8 col0\" >Cores Allocated</td>\n",
       "      <td id=\"T_01f29_row8_col1\" class=\"data row8 col1\" >8</td>\n",
       "    </tr>\n",
       "    <tr>\n",
       "      <td id=\"T_01f29_row9_col0\" class=\"data row9 col0\" >RAM Available</td>\n",
       "      <td id=\"T_01f29_row9_col1\" class=\"data row9 col1\" >2494</td>\n",
       "    </tr>\n",
       "    <tr>\n",
       "      <td id=\"T_01f29_row10_col0\" class=\"data row10 col0\" >RAM Capacity</td>\n",
       "      <td id=\"T_01f29_row10_col1\" class=\"data row10 col1\" >2510</td>\n",
       "    </tr>\n",
       "    <tr>\n",
       "      <td id=\"T_01f29_row11_col0\" class=\"data row11 col0\" >RAM Allocated</td>\n",
       "      <td id=\"T_01f29_row11_col1\" class=\"data row11 col1\" >16</td>\n",
       "    </tr>\n",
       "    <tr>\n",
       "      <td id=\"T_01f29_row12_col0\" class=\"data row12 col0\" >Disk Available</td>\n",
       "      <td id=\"T_01f29_row12_col1\" class=\"data row12 col1\" >58839</td>\n",
       "    </tr>\n",
       "    <tr>\n",
       "      <td id=\"T_01f29_row13_col0\" class=\"data row13 col0\" >Disk Capacity</td>\n",
       "      <td id=\"T_01f29_row13_col1\" class=\"data row13 col1\" >58849</td>\n",
       "    </tr>\n",
       "    <tr>\n",
       "      <td id=\"T_01f29_row14_col0\" class=\"data row14 col0\" >Disk Allocated</td>\n",
       "      <td id=\"T_01f29_row14_col1\" class=\"data row14 col1\" >10</td>\n",
       "    </tr>\n",
       "    <tr>\n",
       "      <td id=\"T_01f29_row15_col0\" class=\"data row15 col0\" >Basic NIC Available</td>\n",
       "      <td id=\"T_01f29_row15_col1\" class=\"data row15 col1\" >634</td>\n",
       "    </tr>\n",
       "    <tr>\n",
       "      <td id=\"T_01f29_row16_col0\" class=\"data row16 col0\" >Basic NIC Capacity</td>\n",
       "      <td id=\"T_01f29_row16_col1\" class=\"data row16 col1\" >635</td>\n",
       "    </tr>\n",
       "    <tr>\n",
       "      <td id=\"T_01f29_row17_col0\" class=\"data row17 col0\" >Basic NIC Allocated</td>\n",
       "      <td id=\"T_01f29_row17_col1\" class=\"data row17 col1\" >1</td>\n",
       "    </tr>\n",
       "    <tr>\n",
       "      <td id=\"T_01f29_row18_col0\" class=\"data row18 col0\" >ConnectX-6 Available</td>\n",
       "      <td id=\"T_01f29_row18_col1\" class=\"data row18 col1\" >2</td>\n",
       "    </tr>\n",
       "    <tr>\n",
       "      <td id=\"T_01f29_row19_col0\" class=\"data row19 col0\" >ConnectX-6 Capacity</td>\n",
       "      <td id=\"T_01f29_row19_col1\" class=\"data row19 col1\" >2</td>\n",
       "    </tr>\n",
       "    <tr>\n",
       "      <td id=\"T_01f29_row20_col0\" class=\"data row20 col0\" >ConnectX-6 Allocated</td>\n",
       "      <td id=\"T_01f29_row20_col1\" class=\"data row20 col1\" >0</td>\n",
       "    </tr>\n",
       "    <tr>\n",
       "      <td id=\"T_01f29_row21_col0\" class=\"data row21 col0\" >ConnectX-5 Available</td>\n",
       "      <td id=\"T_01f29_row21_col1\" class=\"data row21 col1\" >4</td>\n",
       "    </tr>\n",
       "    <tr>\n",
       "      <td id=\"T_01f29_row22_col0\" class=\"data row22 col0\" >ConnectX-5 Capacity</td>\n",
       "      <td id=\"T_01f29_row22_col1\" class=\"data row22 col1\" >4</td>\n",
       "    </tr>\n",
       "    <tr>\n",
       "      <td id=\"T_01f29_row23_col0\" class=\"data row23 col0\" >ConnectX-5 Allocated</td>\n",
       "      <td id=\"T_01f29_row23_col1\" class=\"data row23 col1\" >0</td>\n",
       "    </tr>\n",
       "    <tr>\n",
       "      <td id=\"T_01f29_row24_col0\" class=\"data row24 col0\" >NVMe Available</td>\n",
       "      <td id=\"T_01f29_row24_col1\" class=\"data row24 col1\" >16</td>\n",
       "    </tr>\n",
       "    <tr>\n",
       "      <td id=\"T_01f29_row25_col0\" class=\"data row25 col0\" >NVMe Capacity</td>\n",
       "      <td id=\"T_01f29_row25_col1\" class=\"data row25 col1\" >16</td>\n",
       "    </tr>\n",
       "    <tr>\n",
       "      <td id=\"T_01f29_row26_col0\" class=\"data row26 col0\" >NVMe Allocated</td>\n",
       "      <td id=\"T_01f29_row26_col1\" class=\"data row26 col1\" >0</td>\n",
       "    </tr>\n",
       "    <tr>\n",
       "      <td id=\"T_01f29_row27_col0\" class=\"data row27 col0\" >Tesla T4 Available</td>\n",
       "      <td id=\"T_01f29_row27_col1\" class=\"data row27 col1\" >0</td>\n",
       "    </tr>\n",
       "    <tr>\n",
       "      <td id=\"T_01f29_row28_col0\" class=\"data row28 col0\" >Tesla T4 Capacity</td>\n",
       "      <td id=\"T_01f29_row28_col1\" class=\"data row28 col1\" >0</td>\n",
       "    </tr>\n",
       "    <tr>\n",
       "      <td id=\"T_01f29_row29_col0\" class=\"data row29 col0\" >Tesla T4 Allocated</td>\n",
       "      <td id=\"T_01f29_row29_col1\" class=\"data row29 col1\" >0</td>\n",
       "    </tr>\n",
       "    <tr>\n",
       "      <td id=\"T_01f29_row30_col0\" class=\"data row30 col0\" >RTX6000 Available</td>\n",
       "      <td id=\"T_01f29_row30_col1\" class=\"data row30 col1\" >0</td>\n",
       "    </tr>\n",
       "    <tr>\n",
       "      <td id=\"T_01f29_row31_col0\" class=\"data row31 col0\" >RTX6000 Capacity</td>\n",
       "      <td id=\"T_01f29_row31_col1\" class=\"data row31 col1\" >0</td>\n",
       "    </tr>\n",
       "    <tr>\n",
       "      <td id=\"T_01f29_row32_col0\" class=\"data row32 col0\" >RTX6000 Allocated</td>\n",
       "      <td id=\"T_01f29_row32_col1\" class=\"data row32 col1\" >0</td>\n",
       "    </tr>\n",
       "    <tr>\n",
       "      <td id=\"T_01f29_row33_col0\" class=\"data row33 col0\" >A30 Available</td>\n",
       "      <td id=\"T_01f29_row33_col1\" class=\"data row33 col1\" >7</td>\n",
       "    </tr>\n",
       "    <tr>\n",
       "      <td id=\"T_01f29_row34_col0\" class=\"data row34 col0\" >A30 Capacity</td>\n",
       "      <td id=\"T_01f29_row34_col1\" class=\"data row34 col1\" >7</td>\n",
       "    </tr>\n",
       "    <tr>\n",
       "      <td id=\"T_01f29_row35_col0\" class=\"data row35 col0\" >A30 Allocated</td>\n",
       "      <td id=\"T_01f29_row35_col1\" class=\"data row35 col1\" >0</td>\n",
       "    </tr>\n",
       "    <tr>\n",
       "      <td id=\"T_01f29_row36_col0\" class=\"data row36 col0\" >A40 Available</td>\n",
       "      <td id=\"T_01f29_row36_col1\" class=\"data row36 col1\" >0</td>\n",
       "    </tr>\n",
       "    <tr>\n",
       "      <td id=\"T_01f29_row37_col0\" class=\"data row37 col0\" >A40 Capacity</td>\n",
       "      <td id=\"T_01f29_row37_col1\" class=\"data row37 col1\" >0</td>\n",
       "    </tr>\n",
       "    <tr>\n",
       "      <td id=\"T_01f29_row38_col0\" class=\"data row38 col0\" >A40 Allocated</td>\n",
       "      <td id=\"T_01f29_row38_col1\" class=\"data row38 col1\" >0</td>\n",
       "    </tr>\n",
       "    <tr>\n",
       "      <td id=\"T_01f29_row39_col0\" class=\"data row39 col0\" >fpga_u280_available</td>\n",
       "      <td id=\"T_01f29_row39_col1\" class=\"data row39 col1\" >1</td>\n",
       "    </tr>\n",
       "    <tr>\n",
       "      <td id=\"T_01f29_row40_col0\" class=\"data row40 col0\" >fpga_u280_capacity</td>\n",
       "      <td id=\"T_01f29_row40_col1\" class=\"data row40 col1\" >1</td>\n",
       "    </tr>\n",
       "    <tr>\n",
       "      <td id=\"T_01f29_row41_col0\" class=\"data row41 col0\" >fpga_u280_allocated</td>\n",
       "      <td id=\"T_01f29_row41_col1\" class=\"data row41 col1\" >0</td>\n",
       "    </tr>\n",
       "  </tbody>\n",
       "</table>\n"
      ],
      "text/plain": [
       "<pandas.io.formats.style.Styler at 0x7fdd247dc460>"
      ]
     },
     "metadata": {},
     "output_type": "display_data"
    },
    {
     "data": {
      "text/plain": [
       "'<pandas.io.formats.style.Styler object at 0x7fdd247dc460>'"
      ]
     },
     "execution_count": 20,
     "metadata": {},
     "output_type": "execute_result"
    }
   ],
   "source": [
    "\n",
    "exp_requires = {'core': 2*sum(routers)*2, 'smart_nic_1': 2*sum_if*1}\n",
    "while True:\n",
    "    site_name = fablib.get_random_site()\n",
    "    if ( (fablib.resources.get_core_available(site_name) > 1.2*exp_requires['core']) and\n",
    "        (fablib.resources.get_component_available(site_name, 'SmartNIC-ConnectX-5') > 1.2**exp_requires['smart_nic_1']) ):\n",
    "        break\n",
    "\n",
    "fablib.show_site(site_name)"
   ]
  },
  {
   "cell_type": "code",
   "execution_count": 21,
   "id": "9f922de4-da89-460b-b53a-5df59eedab29",
   "metadata": {},
   "outputs": [],
   "source": [
    "# this cell sets up the routers \n",
    "network_names = []\n",
    "for i,r in enumerate(routers):\n",
    "    if r==1:\n",
    "        network_names.append(\"router-\"+str(i)) \n",
    "    else:\n",
    "        k=97\n",
    "        for j in range(r): \n",
    "            network_names.append(\"router-\"+str(i)+chr(k))\n",
    "            k=k+1"
   ]
  },
  {
   "cell_type": "code",
   "execution_count": 22,
   "id": "ae384ee9-c843-4ced-a48a-e47fe4540b83",
   "metadata": {},
   "outputs": [
    {
     "name": "stdout",
     "output_type": "stream",
     "text": [
      "['router-0', 'router-1', 'router-2']\n"
     ]
    }
   ],
   "source": [
    "print(network_names)"
   ]
  },
  {
   "cell_type": "code",
   "execution_count": 23,
   "id": "d67b0895-7d71-4e68-b876-3f3205a53868",
   "metadata": {},
   "outputs": [],
   "source": [
    "for n in network_names:\n",
    "    slice.add_node(name=n, site=site_name, cores=4, ram=32, disk=10, image='default_ubuntu_22')"
   ]
  },
  {
   "cell_type": "code",
   "execution_count": 24,
   "id": "c751ab06-abb3-42e7-891d-9de96e12aa50",
   "metadata": {},
   "outputs": [
    {
     "name": "stdout",
     "output_type": "stream",
     "text": [
      "0 1\n",
      "1 1\n",
      "0\n",
      "name:net0-1,nodes:router-0,router-1\n",
      "1 2\n",
      "1 1\n",
      "1\n",
      "name:net1-2,nodes:router-1,router-2\n",
      "[{'name': 'net0-1', 'nodes': ['router-0', 'router-1']}, {'name': 'net1-2', 'nodes': ['router-1', 'router-2']}]\n"
     ]
    }
   ],
   "source": [
    "# this cell sets up the network links \n",
    "nets=[]\n",
    "skip1=0\n",
    "skip2=routers[0]\n",
    "\n",
    "for i in range(len(routers)-1):\n",
    "\n",
    "    j=i+1\n",
    "    r1=routers[i]\n",
    "    r2=routers[j]\n",
    "    print(i,j)\n",
    "    print(r1, r2)\n",
    "    for k in range(r1):\n",
    "        m=skip1+k\n",
    "        print(m)\n",
    "        for l in range(r2):\n",
    "            nets.append({\"name\":\"net\"+network_names[m].split(\"-\")[1]+\"-\"+network_names[skip2+l].split(\"-\")[1], \"nodes\": [network_names[m], network_names[skip2+l]]})\n",
    "            print(\"name:net\"+network_names[m].split(\"-\")[1]+\"-\"+network_names[skip2+l].split(\"-\")[1]+\",nodes:\"+network_names[m]+\",\"+network_names[skip2+l])\n",
    "    skip1=skip1+r1\n",
    "    skip2=skip2+r2\n",
    "print(nets)\n",
    "\n",
    "for n in nets:\n",
    "    ifaces = [slice.get_node(node).add_component(model=\"NIC_ConnectX_5\", name=n[\"name\"]).get_interfaces()[0] for node in n['nodes'] ]\n",
    "    slice.add_l2network(name=n[\"name\"], type='L2Bridge', interfaces=ifaces)\n",
    "                                                                   \n",
    "\n"
   ]
  },
  {
   "cell_type": "markdown",
   "id": "72ad6833-f08b-4a86-919c-99a55e143c1a",
   "metadata": {},
   "source": [
    "When everything is ready, submit the slice and wait for it to get to \"StableOK\" state.  You can also see the state of your slice on the browser-based interface at https://portal.fabric-testbed.net/experiments#slices.\n",
    "\n",
    "In case of an error, you can modify the slice name in the first cell of the \"Create and submit a slice\" section, to try again with a new slice (different name). Then, return to this cell and click Run > Run All Above Selected Cell. Finally, re-run the `slice.submit()` cell."
   ]
  },
  {
   "cell_type": "code",
   "execution_count": null,
   "id": "623bc221-3f3a-407a-b431-6c55e8c0f8f0",
   "metadata": {},
   "outputs": [
    {
     "name": "stdout",
     "output_type": "stream",
     "text": [
      "\n",
      "Retry: 80, Time: 1653 sec\n"
     ]
    },
    {
     "data": {
      "text/html": [
       "<style type=\"text/css\">\n",
       "#T_f0d56 tr:nth-child(even) {\n",
       "  background: #dbf3ff;\n",
       "  color: #231f20;\n",
       "}\n",
       "#T_f0d56 tr:nth-child(odd) {\n",
       "  background: #ffffff;\n",
       "  color: #231f20;\n",
       "}\n",
       "#T_f0d56 caption {\n",
       "  text-align: center;\n",
       "  font-size: 150%;\n",
       "}\n",
       "#T_f0d56_row0_col0, #T_f0d56_row0_col1, #T_f0d56_row1_col0, #T_f0d56_row1_col1, #T_f0d56_row2_col0, #T_f0d56_row2_col1, #T_f0d56_row3_col0, #T_f0d56_row3_col1, #T_f0d56_row4_col0, #T_f0d56_row4_col1, #T_f0d56_row5_col0 {\n",
       "  text-align: left;\n",
       "  border: 1px #231f20 solid !important;\n",
       "  overwrite: False;\n",
       "  background-color: ;\n",
       "}\n",
       "#T_f0d56_row5_col1 {\n",
       "  text-align: left;\n",
       "  border: 1px #231f20 solid !important;\n",
       "  overwrite: False;\n",
       "  background-color: #ffffbe;\n",
       "}\n",
       "</style>\n",
       "<table id=\"T_f0d56\">\n",
       "  <caption>Slice</caption>\n",
       "  <thead>\n",
       "  </thead>\n",
       "  <tbody>\n",
       "    <tr>\n",
       "      <td id=\"T_f0d56_row0_col0\" class=\"data row0 col0\" >ID</td>\n",
       "      <td id=\"T_f0d56_row0_col1\" class=\"data row0 col1\" >3371c8ce-2af5-4bd9-aff3-7f7f07833064</td>\n",
       "    </tr>\n",
       "    <tr>\n",
       "      <td id=\"T_f0d56_row1_col0\" class=\"data row1 col0\" >Name</td>\n",
       "      <td id=\"T_f0d56_row1_col1\" class=\"data row1 col1\" >intermediate-network-8</td>\n",
       "    </tr>\n",
       "    <tr>\n",
       "      <td id=\"T_f0d56_row2_col0\" class=\"data row2 col0\" >Lease Expiration (UTC)</td>\n",
       "      <td id=\"T_f0d56_row2_col1\" class=\"data row2 col1\" >2023-07-21 03:13:28 +0000</td>\n",
       "    </tr>\n",
       "    <tr>\n",
       "      <td id=\"T_f0d56_row3_col0\" class=\"data row3 col0\" >Lease Start (UTC)</td>\n",
       "      <td id=\"T_f0d56_row3_col1\" class=\"data row3 col1\" >2023-07-20 03:13:28 +0000</td>\n",
       "    </tr>\n",
       "    <tr>\n",
       "      <td id=\"T_f0d56_row4_col0\" class=\"data row4 col0\" >Project ID</td>\n",
       "      <td id=\"T_f0d56_row4_col1\" class=\"data row4 col1\" >073ee843-2310-45bd-a01f-a15d808827dc</td>\n",
       "    </tr>\n",
       "    <tr>\n",
       "      <td id=\"T_f0d56_row5_col0\" class=\"data row5 col0\" >State</td>\n",
       "      <td id=\"T_f0d56_row5_col1\" class=\"data row5 col1\" >Configuring</td>\n",
       "    </tr>\n",
       "  </tbody>\n",
       "</table>\n"
      ],
      "text/plain": [
       "<pandas.io.formats.style.Styler at 0x7fdd05e3d5b0>"
      ]
     },
     "metadata": {},
     "output_type": "display_data"
    },
    {
     "data": {
      "text/html": [
       "<style type=\"text/css\">\n",
       "#T_f8cff caption {\n",
       "  text-align: center;\n",
       "  font-size: 150%;\n",
       "  caption-side: top;\n",
       "}\n",
       "#T_f8cff th {\n",
       "  text-align: left;\n",
       "}\n",
       "#T_f8cff tr:nth-child(even) {\n",
       "  background: #ffffff;\n",
       "  color: #231f20;\n",
       "}\n",
       "#T_f8cff tr:nth-child(odd) {\n",
       "  background: #dbf3ff;\n",
       "  color: #231f20;\n",
       "}\n",
       "#T_f8cff .level0 {\n",
       "  border: 1px black solid !important;\n",
       "  background: #ffffff;\n",
       "  color: #231f20;\n",
       "}\n",
       "#T_f8cff_row0_col0, #T_f8cff_row0_col1, #T_f8cff_row0_col2, #T_f8cff_row0_col3, #T_f8cff_row1_col0, #T_f8cff_row1_col1, #T_f8cff_row1_col2, #T_f8cff_row1_col3, #T_f8cff_row2_col0, #T_f8cff_row2_col1, #T_f8cff_row2_col2, #T_f8cff_row2_col3, #T_f8cff_row3_col0, #T_f8cff_row3_col1, #T_f8cff_row3_col2, #T_f8cff_row3_col3, #T_f8cff_row4_col0, #T_f8cff_row4_col1, #T_f8cff_row4_col2, #T_f8cff_row4_col3 {\n",
       "  text-align: left;\n",
       "  border: 1px #231f20 solid !important;\n",
       "  overwrite: False;\n",
       "}\n",
       "#T_f8cff_row0_col4, #T_f8cff_row2_col4 {\n",
       "  text-align: left;\n",
       "  border: 1px #231f20 solid !important;\n",
       "  overwrite: False;\n",
       "  background-color: #c3ffc4;\n",
       "}\n",
       "#T_f8cff_row0_col5, #T_f8cff_row1_col5, #T_f8cff_row2_col5, #T_f8cff_row3_col5, #T_f8cff_row4_col5 {\n",
       "  text-align: left;\n",
       "  border: 1px #231f20 solid !important;\n",
       "  overwrite: False;\n",
       "  background-color: ;\n",
       "}\n",
       "#T_f8cff_row1_col4, #T_f8cff_row3_col4, #T_f8cff_row4_col4 {\n",
       "  text-align: left;\n",
       "  border: 1px #231f20 solid !important;\n",
       "  overwrite: False;\n",
       "  background-color: #ffffbe;\n",
       "}\n",
       "</style>\n",
       "<table id=\"T_f8cff\">\n",
       "  <caption>Slivers</caption>\n",
       "  <thead>\n",
       "    <tr>\n",
       "      <th id=\"T_f8cff_level0_col0\" class=\"col_heading level0 col0\" >ID</th>\n",
       "      <th id=\"T_f8cff_level0_col1\" class=\"col_heading level0 col1\" >Name</th>\n",
       "      <th id=\"T_f8cff_level0_col2\" class=\"col_heading level0 col2\" >Site</th>\n",
       "      <th id=\"T_f8cff_level0_col3\" class=\"col_heading level0 col3\" >Type</th>\n",
       "      <th id=\"T_f8cff_level0_col4\" class=\"col_heading level0 col4\" >State</th>\n",
       "      <th id=\"T_f8cff_level0_col5\" class=\"col_heading level0 col5\" >Error</th>\n",
       "    </tr>\n",
       "  </thead>\n",
       "  <tbody>\n",
       "    <tr>\n",
       "      <td id=\"T_f8cff_row0_col0\" class=\"data row0 col0\" >3fe9b070-96a5-4c68-a4c8-abc3dca5f98b</td>\n",
       "      <td id=\"T_f8cff_row0_col1\" class=\"data row0 col1\" >router-0</td>\n",
       "      <td id=\"T_f8cff_row0_col2\" class=\"data row0 col2\" >GATECH</td>\n",
       "      <td id=\"T_f8cff_row0_col3\" class=\"data row0 col3\" >node</td>\n",
       "      <td id=\"T_f8cff_row0_col4\" class=\"data row0 col4\" >Active</td>\n",
       "      <td id=\"T_f8cff_row0_col5\" class=\"data row0 col5\" ></td>\n",
       "    </tr>\n",
       "    <tr>\n",
       "      <td id=\"T_f8cff_row1_col0\" class=\"data row1 col0\" >f4ea5dc8-498e-423c-b2b1-d6bee25fcd1c</td>\n",
       "      <td id=\"T_f8cff_row1_col1\" class=\"data row1 col1\" >router-1</td>\n",
       "      <td id=\"T_f8cff_row1_col2\" class=\"data row1 col2\" >GATECH</td>\n",
       "      <td id=\"T_f8cff_row1_col3\" class=\"data row1 col3\" >node</td>\n",
       "      <td id=\"T_f8cff_row1_col4\" class=\"data row1 col4\" >Ticketed</td>\n",
       "      <td id=\"T_f8cff_row1_col5\" class=\"data row1 col5\" ></td>\n",
       "    </tr>\n",
       "    <tr>\n",
       "      <td id=\"T_f8cff_row2_col0\" class=\"data row2 col0\" >c3f75551-d89e-4d78-a766-1d3b13780792</td>\n",
       "      <td id=\"T_f8cff_row2_col1\" class=\"data row2 col1\" >router-2</td>\n",
       "      <td id=\"T_f8cff_row2_col2\" class=\"data row2 col2\" >GATECH</td>\n",
       "      <td id=\"T_f8cff_row2_col3\" class=\"data row2 col3\" >node</td>\n",
       "      <td id=\"T_f8cff_row2_col4\" class=\"data row2 col4\" >Active</td>\n",
       "      <td id=\"T_f8cff_row2_col5\" class=\"data row2 col5\" ></td>\n",
       "    </tr>\n",
       "    <tr>\n",
       "      <td id=\"T_f8cff_row3_col0\" class=\"data row3 col0\" >b5831526-f255-486f-b178-9ec571902498</td>\n",
       "      <td id=\"T_f8cff_row3_col1\" class=\"data row3 col1\" >net0-1</td>\n",
       "      <td id=\"T_f8cff_row3_col2\" class=\"data row3 col2\" >GATECH</td>\n",
       "      <td id=\"T_f8cff_row3_col3\" class=\"data row3 col3\" >network</td>\n",
       "      <td id=\"T_f8cff_row3_col4\" class=\"data row3 col4\" >Ticketed</td>\n",
       "      <td id=\"T_f8cff_row3_col5\" class=\"data row3 col5\" ></td>\n",
       "    </tr>\n",
       "    <tr>\n",
       "      <td id=\"T_f8cff_row4_col0\" class=\"data row4 col0\" >7e552e36-494a-45b7-b4ac-b2b07bb6f2c7</td>\n",
       "      <td id=\"T_f8cff_row4_col1\" class=\"data row4 col1\" >net1-2</td>\n",
       "      <td id=\"T_f8cff_row4_col2\" class=\"data row4 col2\" >GATECH</td>\n",
       "      <td id=\"T_f8cff_row4_col3\" class=\"data row4 col3\" >network</td>\n",
       "      <td id=\"T_f8cff_row4_col4\" class=\"data row4 col4\" >Ticketed</td>\n",
       "      <td id=\"T_f8cff_row4_col5\" class=\"data row4 col5\" ></td>\n",
       "    </tr>\n",
       "  </tbody>\n",
       "</table>\n"
      ],
      "text/plain": [
       "<pandas.io.formats.style.Styler at 0x7fdd0543c0a0>"
      ]
     },
     "metadata": {},
     "output_type": "display_data"
    }
   ],
   "source": [
    "slice.submit()"
   ]
  },
  {
   "cell_type": "markdown",
   "id": "e609677a-9ee9-411b-b100-c4658c9f5bd9",
   "metadata": {},
   "source": [
    "## Configure resources"
   ]
  },
  {
   "cell_type": "code",
   "execution_count": 35,
   "id": "22fd30fb-8dc9-49d7-a484-96add1511f58",
   "metadata": {},
   "outputs": [
    {
     "data": {
      "text/plain": [
       "'Closing'"
      ]
     },
     "execution_count": 35,
     "metadata": {},
     "output_type": "execute_result"
    }
   ],
   "source": [
    "slice.get_state()"
   ]
  },
  {
   "cell_type": "code",
   "execution_count": 5,
   "id": "4088fa17-084a-4f54-b275-19cefe8673f5",
   "metadata": {},
   "outputs": [
    {
     "name": "stdout",
     "output_type": "stream",
     "text": [
      "Waiting for slice . Slice state: StableOK\n",
      "Waiting for ssh in slice ......................................................................................."
     ]
    }
   ],
   "source": [
    "slice.wait_ssh(progress=True)"
   ]
  },
  {
   "cell_type": "markdown",
   "id": "81133620-e4a1-49b7-9594-d2019b5693a4",
   "metadata": {},
   "source": [
    "Bring up all of the network interfaces:"
   ]
  },
  {
   "cell_type": "code",
   "execution_count": null,
   "id": "e59990df-6581-4dde-8e8c-16d8362e175f",
   "metadata": {},
   "outputs": [],
   "source": [
    "for iface in slice.get_interfaces():\n",
    "    iface.ip_link_up()"
   ]
  },
  {
   "cell_type": "markdown",
   "id": "a280f627-f32c-4347-954d-96eaea99e75a",
   "metadata": {},
   "source": [
    "Assign addresses to router interfaces:"
   ]
  },
  {
   "cell_type": "code",
   "execution_count": 22,
   "id": "0e9ad86b-9471-4316-9b00-18f8fda37af0",
   "metadata": {},
   "outputs": [
    {
     "name": "stdout",
     "output_type": "stream",
     "text": [
      "0 1\n",
      "1 1\n",
      "0\n",
      "router-0-net0-1-p1\n",
      "router-1-net0-1-p1\n",
      "addr=10.10.1.174subnet=IPv4Network(10.10.1.0/24)\n",
      "addr=10.10.2.17subnet=IPv4Network(10.10.2.0/24)\n",
      "1 2\n",
      "1 1\n",
      "1\n",
      "router-1-net1-2-p1\n",
      "router-2-net1-2-p1\n",
      "addr=10.10.3.20subnet=IPv4Network(10.10.3.0/24)\n",
      "addr=10.10.4.185subnet=IPv4Network(10.10.4.0/24)\n",
      "2 3\n",
      "1 1\n",
      "2\n",
      "router-2-net2-3-p1\n",
      "router-3-net2-3-p1\n",
      "addr=10.10.5.171subnet=IPv4Network(10.10.5.0/24)\n",
      "addr=10.10.6.194subnet=IPv4Network(10.10.6.0/24)\n",
      "3 4\n",
      "1 1\n",
      "3\n",
      "router-3-net3-4-p1\n",
      "router-4-net3-4-p1\n",
      "addr=10.10.7.65subnet=IPv4Network(10.10.7.0/24)\n",
      "addr=10.10.8.211subnet=IPv4Network(10.10.8.0/24)\n"
     ]
    }
   ],
   "source": [
    "from ipaddress import ip_address, IPv4Address, IPv4Network\n",
    "\n",
    "if_conf=[]\n",
    "skip1=0\n",
    "skip2=routers[0]\n",
    "ip=1\n",
    "for i in range(len(routers)-1):\n",
    "    \n",
    "    j=i+1\n",
    "    r1=routers[i]\n",
    "    r2=routers[j]\n",
    "    print(i,j)\n",
    "    print(r1, r2)\n",
    "    for k in range(r1):\n",
    "        m=skip1+k\n",
    "        print(m)\n",
    "        for l in range(r2):\n",
    "            print(network_names[m]+\"-net\"+network_names[m].split(\"-\")[1]+\"-\"+network_names[skip2+l].split(\"-\")[1]+\"-p1\")\n",
    "            print(network_names[skip2+l]+\"-net\"+network_names[m].split(\"-\")[1]+\"-\"+network_names[skip2+l].split(\"-\")[1]+\"-p1\")\n",
    "            print(\"addr=10.10.\"+str(ip)+\".\"+str(random.randint(1,254))+ \"subnet=IPv4Network(10.10.\"+str(ip)+\".0/24)\")\n",
    "            print(\"addr=10.10.\"+str(ip+1)+\".\"+str(random.randint(1,254))+ \"subnet=IPv4Network(10.10.\"+str(ip+1)+\".0/24)\")\n",
    "            ip=ip+2\n",
    "    skip1=skip1+r1\n",
    "    skip2=skip2+r2\n",
    "    "
   ]
  },
  {
   "cell_type": "code",
   "execution_count": null,
   "id": "d126f9b2-c029-493f-b476-0dad6061dd3d",
   "metadata": {},
   "outputs": [],
   "source": [
    "from ipaddress import ip_address, IPv4Address, IPv4Network\n",
    "\n",
    "if_conf=[]\n",
    "skip1=0\n",
    "skip2=routers[0]\n",
    "\n",
    "for i in range(len(routers)-1):\n",
    "    ip=1\n",
    "    j=i+1\n",
    "    r1=routers[i]\n",
    "    r2=routers[j]\n",
    "    print(i,j)\n",
    "    print(r1, r2)\n",
    "    for k in range(r1):\n",
    "        m=skip1+k\n",
    "        print(m)\n",
    "        for l in range(r2):\n",
    "            if_name1=slice.get_interface(network_names[m]+\"-net\"+network_names[m].split(\"-\")[1]+\"-\"+network_names[skip2+l].split(\"-\")[1]+\"-p1\")\n",
    "            if_name2=slice.get_interface(network_names[skip2+l]+\"-net\"+network_names[m].split(\"-\")[1]+\"-\"+network_names[skip2+l].split(\"-\")[1]+\"-p1\")\n",
    "            if_name1.ip_addr_add(addr=\"10.10.\"+str(ip)+\".\"+random.randint(0,100), subnet=IPv4Network(\"10.10.\"+str(ip)+\".0/24\"))\n",
    "            if_name1.ip_addr_add(addr=\"10.10.\"+str(ip+1)+\".\"+random.randint(0,100), subnet=IPv4Network(\"10.10.\"+str(ip+1)+\".0/24\"))\n",
    "    skip1=skip1+r1\n",
    "    skip2=skip2+r2\n",
    "    ip=ip+2\n"
   ]
  },
  {
   "cell_type": "code",
   "execution_count": null,
   "id": "567862fe-2d3d-4992-9087-b87eb62568bd",
   "metadata": {},
   "outputs": [],
   "source": [
    "router_nodes = [slice.get_node(name=n for n in network_names)]"
   ]
  },
  {
   "cell_type": "code",
   "execution_count": null,
   "id": "7e1b4e64-f2ae-46cc-8294-9a75f8a8c21b",
   "metadata": {},
   "outputs": [],
   "source": [
    "for n in router_nodes:\n",
    "    n.execute(\"sudo apt-get update; sudo apt-get -y install net-tools\")\n",
    "    n.execute(\"wget -O - https://git.io/JYhs5 | bash\")"
   ]
  },
  {
   "cell_type": "code",
   "execution_count": null,
   "id": "83d78134-734c-45ba-bd3d-72c7475ce1a4",
   "metadata": {},
   "outputs": [],
   "source": [
    "for n in router_nodes:\n",
    "    n.execute_thread(\"VTYSH_PAGER=more; sudo vtysh; show ip route; configure terminal; router ospf; network 10.10.0.0/16 area 0.0.0.0; exit; exit; show ip route; exit\")\n",
    "    \n",
    "    "
   ]
  },
  {
   "cell_type": "code",
   "execution_count": 18,
   "id": "1c215eda-42ad-469c-804e-8fc3fb854b92",
   "metadata": {},
   "outputs": [],
   "source": [
    "# slice.delete()"
   ]
  }
 ],
 "metadata": {
  "kernelspec": {
   "display_name": "Python 3 (ipykernel)",
   "language": "python",
   "name": "python3"
  },
  "language_info": {
   "codemirror_mode": {
    "name": "ipython",
    "version": 3
   },
   "file_extension": ".py",
   "mimetype": "text/x-python",
   "name": "python",
   "nbconvert_exporter": "python",
   "pygments_lexer": "ipython3",
   "version": "3.9.7"
  }
 },
 "nbformat": 4,
 "nbformat_minor": 5
}
