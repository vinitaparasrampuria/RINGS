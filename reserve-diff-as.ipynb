{
 "cells": [
  {
   "cell_type": "markdown",
   "id": "258cbc1b-8bfb-402a-b492-db39aad22b3e",
   "metadata": {},
   "source": [
    "# Reserve and configure FABRIC resources for \"setting intermediate network\""
   ]
  },
  {
   "cell_type": "markdown",
   "id": "844ee501-0bb2-41b8-a398-9d8f7f58e48e",
   "metadata": {},
   "source": [
    "## Set up your FABRIC environment\n",
    "\n",
    "This assumes that you have already configured your FABRIC account and your Jupyter environment as described in [Hello, FABRIC](https://teaching-on-testbeds.github.io/blog/hello-fabric)."
   ]
  },
  {
   "cell_type": "code",
   "execution_count": null,
   "id": "d0494be9-b9ee-4d12-873a-7bdae4e9be9e",
   "metadata": {},
   "outputs": [],
   "source": [
    "from fabrictestbed_extensions.fablib.fablib import FablibManager as fablib_manager\n",
    "fablib = fablib_manager() \n",
    "fablib.show_config()"
   ]
  },
  {
   "cell_type": "code",
   "execution_count": null,
   "id": "0eccbf37-093d-4701-b6ea-c8d504d15f29",
   "metadata": {},
   "outputs": [],
   "source": [
    "!chmod 600 {fablib.get_bastion_key_filename()}\n",
    "!chmod 600 {fablib.get_default_slice_private_key_file()}"
   ]
  },
  {
   "cell_type": "markdown",
   "id": "7f841b0e-2c59-43db-80c4-83f270e068ed",
   "metadata": {},
   "source": [
    "## Create and submit a slice"
   ]
  },
  {
   "cell_type": "code",
   "execution_count": null,
   "id": "c093da86-ef5e-420a-9473-15fe0256e209",
   "metadata": {},
   "outputs": [],
   "source": [
    "slice_name=\"intermediate-network-8\"\n",
    "slice = fablib.new_slice(name=slice_name)"
   ]
  },
  {
   "cell_type": "markdown",
   "id": "8f5aa30e-fae0-4680-b553-56e3e10447e2",
   "metadata": {},
   "source": [
    "We will now set up all the parameters required to realize the network:"
   ]
  },
  {
   "cell_type": "code",
   "execution_count": null,
   "id": "58c94ad6-ce13-44a1-9d97-8143fa5481b6",
   "metadata": {},
   "outputs": [],
   "source": [
    "import random\n",
    "#number of routers in access network similar irrespective of cdn or not\n",
    "#redundancy_AS_1 parameter sets the hop at which redundant paths will be set\n",
    "hops_AS_1=random.randint(3,6)\n",
    "redundancy_AS_1=3\n",
    "\n",
    "# For cdn, define\n",
    "# number of autonomous systems including source and target AS (ranges between 2-4)\n",
    "# hops seen in destination network (ranges between 3-4)\n",
    "# hops seen in intermediate network (ranges bewteen 1-2)\n",
    "\n",
    "number_of_AS_cdn=random.randint(2,4)\n",
    "hops_final_AS_cdn=random.randint(3,4)\n",
    "max_hops_intermediate_cdn=3\n",
    "\n",
    "# For non CDN, define\n",
    "# number of autonomous systems including source and target AS (ranges between 3-5)\n",
    "# hops seen in destination network (ranges between 5-8)\n",
    "# hops seen in intermediate network (ranges bewteen 1-4)\n",
    "\n",
    "number_of_AS_not_cdn=random.randint(3,5)\n",
    "hops_final_AS_not_cdn=random.randint(5,8)\n",
    "max_hops_intermediate_not_cdn=4\n",
    "\n",
    "# Set cdn=True if CDN type opf network is required else False\n",
    "cdn=True\n",
    "sites=[]\n",
    "total_routers=[]\n",
    "routers_conf=[]\n",
    "routers_net=[]\n",
    "\n"
   ]
  },
  {
   "cell_type": "code",
   "execution_count": null,
   "id": "a8b49269-2ad6-4c21-ae52-98b072b3534e",
   "metadata": {},
   "outputs": [],
   "source": [
    "# Print all the parameters:\n",
    "print(\"Hops in first AS: \", hops_AS_1)\n",
    "print(\"Number of AS: \", number_of_AS_cdn if cdn else number_of_AS_not_cdn)\n",
    "print(\"Hops in final AS: \", hops_final_AS_cdn if cdn else hops_final_AS_not_cdn )\n"
   ]
  },
  {
   "cell_type": "code",
   "execution_count": null,
   "id": "38a595d7-133f-466a-9ea2-1a98e514e8a0",
   "metadata": {},
   "outputs": [],
   "source": [
    "# Set up the routers and networks in all the autonomous systems\n",
    "if cdn:\n",
    "    number_of_AS=number_of_AS_cdn\n",
    "    hops_final_AS=hops_final_AS_cdn\n",
    "    max_hops_intermediate=max_hops_intermediate_cdn\n",
    "    \n",
    "else:    \n",
    "    number_of_AS=number_of_AS_not_cdn\n",
    "    hops_final_AS=hops_final_AS_not_cdn\n",
    "    max_hops_intermediate=max_hops_intermediate_not_cdn\n",
    "\n",
    "\n",
    "# set up the number of routers in first AS\n",
    "\n",
    "data_routers=[create_AS(0, hops_AS_1, redundancy_AS_1)]\n",
    "\n",
    "  \n",
    "# set up the number of routers in intermediate AS\n",
    "# hops in intermediate AS is randomly selected between 1 and max_hops_intermediate value\n",
    "# redundant path can start at any value between 2nd hop and hops_intermediate-1 in the intermediate AS\n",
    "\n",
    "for i in range(1, number_of_AS-1):\n",
    "    hops_intermediate=random.randint(1,max_hops_intermediate)\n",
    "    print(hops_intermediate)\n",
    "    data_routers+=[create_AS(i, hops_intermediate, r=random.randint(1,hops_intermediate))]\n",
    "\n",
    "# set up the number of routers in Destination AS\n",
    "# redundant path can start at any value between 2nd hop and hops_final_AS-1 in the destination AS\n",
    "data_routers+=[create_AS(number_of_AS-1, hops_final_AS, random.randint(1,hops_final_AS))]\n",
    "\n",
    "#print the routers, configuration and network data\n",
    "total_routers+=[data_routers[i][0] for i in range(number_of_AS)]\n",
    "routers_conf+=[data_routers[i][1] for i in range(number_of_AS)]\n",
    "routers_net+=[data_routers[i][2] for i in range(number_of_AS)]\n",
    "print(total_routers)\n"
   ]
  },
  {
   "cell_type": "code",
   "execution_count": null,
   "id": "310f0b9b-f40c-450f-b3fe-1384fe3665fb",
   "metadata": {},
   "outputs": [],
   "source": [
    "# For dedicated NIC between each router pair (subnet and IP address rangs from 1 to number of networks )\n",
    "def create_AS(as_num, n_hops, r):\n",
    "    routers=[1]*min(r, n_hops) + [random.randint(2,3) for i in range(max(0, n_hops - r - 1))] + [1 for i in range(0,1) if n_hops!=r]\n",
    "    node_conf = [ {'name': \"as\" + str(as_num) + '-r-' + str(j) + '-' + str(i) ,\n",
    "        'cores': 8, 'ram': 16, 'disk': 25, 'image': 'default_ubuntu_22', 'packages': []}\n",
    "         for j,level in enumerate(routers) for i in range(level)]\n",
    "    r_mul=[0]+[routers[i-1]*routers[i] for i in range(1,len(routers))]\n",
    "    net_conf = [\n",
    "     {\"name\": \"as\"+str(as_num)+\"-net\"+str(j)+str(i)+\"-\"+str(j+1)+str(k), \"subnet\": \"10.\"+str(as_num)+\".\"+str(sum(r_mul[:j+1])+(routers[j+1]*i)+k+1)+\".0/24\", \n",
    "      \"nodes\": [{\"name\": \"as\"+str(as_num)+'-r-' + str(j) + '-' + str(i),   \"addr\": \"10.\"+str(as_num)+\".\"+str(sum(r_mul[:j+1])+(routers[j+1]*i)+k+1)+\".\"+str(1)} ]+ \n",
    "      [{\"name\": \"as\"+str(as_num)+'-r-' + str(j+1) + '-' + str(k),   \"addr\": \"10.\"+str(as_num)+\".\"+str(sum(r_mul[:j+1])+(routers[j+1]*i)+k+1)+\".\"+str(2)}]}\n",
    "            for j,level in enumerate(routers[:-1]) for i in range(level) for k in range(routers[j+1])]\n",
    "    return [routers, node_conf, net_conf]\n"
   ]
  },
  {
   "cell_type": "markdown",
   "id": "00cc5d54-e26d-4bbe-a2c2-807be6723fd7",
   "metadata": {},
   "source": [
    "This cell will try to identify a site that has sufficient resources for the experiment. "
   ]
  },
  {
   "cell_type": "code",
   "execution_count": null,
   "id": "3a17b8c2-612e-4b67-b157-d790d05d6241",
   "metadata": {},
   "outputs": [],
   "source": [
    "# Get the sites\n",
    "for i,r in enumerate(total_routers):   \n",
    "    exp_requires = {'core': (sum([(routers_conf[i][j][\"cores\"]) for j in range(len(routers_conf[i])) ])), \n",
    "                    'smart_nic_1': (sum([len(routers_net[i][j][\"nodes\"]) for j in range(len(routers_net[i])) ]))}\n",
    "    print(exp_requires)\n",
    "    while True:\n",
    "        site_name = fablib.get_random_site(avoid=sites)\n",
    "        if ( (fablib.resources.get_core_available(site_name) > 1.2*exp_requires['core']) and\n",
    "            (fablib.resources.get_component_available(site_name, 'SharedNIC-ConnectX-6') > 1.2**exp_requires['smart_nic_1']) ):\n",
    "            break\n",
    "\n",
    "    fablib.show_site(site_name)\n",
    "    sites.append(site_name)\n",
    "    "
   ]
  },
  {
   "cell_type": "code",
   "execution_count": null,
   "id": "3852ee10-b96b-436d-9901-38fd1276cdba",
   "metadata": {},
   "outputs": [],
   "source": [
    "print(sites)"
   ]
  },
  {
   "cell_type": "code",
   "execution_count": null,
   "id": "d67b0895-7d71-4e68-b876-3f3205a53868",
   "metadata": {},
   "outputs": [],
   "source": [
    "for i,r in enumerate(routers_conf):\n",
    "     for j in range(len(r)):\n",
    "        slice.add_node(name=r[j]['name'], site=sites[i+1], \n",
    "                       cores=r[j]['cores'], \n",
    "                       ram=r[j]['ram'], \n",
    "                       disk=r[j]['disk'], \n",
    "                       image=r[j]['image'])\n"
   ]
  },
  {
   "cell_type": "code",
   "execution_count": null,
   "id": "b63a269b-482d-4df9-bafb-df52fd78994e",
   "metadata": {},
   "outputs": [],
   "source": [
    "print(slice.list_nodes())"
   ]
  },
  {
   "cell_type": "code",
   "execution_count": null,
   "id": "c751ab06-abb3-42e7-891d-9de96e12aa50",
   "metadata": {},
   "outputs": [],
   "source": [
    "# this cell sets up the network links \n",
    "for i,r in enumerate(routers_net):\n",
    "     for j in range(len(r)):\n",
    "        ifaces = [slice.get_node(node[\"name\"]).add_component(model=\"NIC_Basic\", \n",
    "                                                     name=r[j][\"name\"]).get_interfaces()[0] for node in r[j]['nodes'] ]\n",
    "        slice.add_l2network(name=r[j][\"name\"], type='L2Bridge', interfaces=ifaces)\n"
   ]
  },
  {
   "cell_type": "markdown",
   "id": "72ad6833-f08b-4a86-919c-99a55e143c1a",
   "metadata": {},
   "source": [
    "When everything is ready, submit the slice and wait for it to get to \"StableOK\" state.  You can also see the state of your slice on the browser-based interface at https://portal.fabric-testbed.net/experiments#slices.\n",
    "\n",
    "In case of an error, you can modify the slice name in the first cell of the \"Create and submit a slice\" section, to try again with a new slice (different name). Then, return to this cell and click Run > Run All Above Selected Cell. Finally, re-run the `slice.submit()` cell."
   ]
  },
  {
   "cell_type": "code",
   "execution_count": null,
   "id": "623bc221-3f3a-407a-b431-6c55e8c0f8f0",
   "metadata": {},
   "outputs": [],
   "source": [
    "slice.submit()"
   ]
  },
  {
   "cell_type": "markdown",
   "id": "e609677a-9ee9-411b-b100-c4658c9f5bd9",
   "metadata": {},
   "source": [
    "## Configure resources"
   ]
  },
  {
   "cell_type": "code",
   "execution_count": null,
   "id": "22fd30fb-8dc9-49d7-a484-96add1511f58",
   "metadata": {},
   "outputs": [],
   "source": [
    "slice.get_state()"
   ]
  },
  {
   "cell_type": "code",
   "execution_count": null,
   "id": "4088fa17-084a-4f54-b275-19cefe8673f5",
   "metadata": {},
   "outputs": [],
   "source": [
    "slice.wait_ssh(progress=True)"
   ]
  },
  {
   "cell_type": "markdown",
   "id": "81133620-e4a1-49b7-9594-d2019b5693a4",
   "metadata": {},
   "source": [
    "Bring up all of the network interfaces:"
   ]
  },
  {
   "cell_type": "code",
   "execution_count": null,
   "id": "910589b0-835a-4cfe-adab-d5ddaf0751a0",
   "metadata": {},
   "outputs": [],
   "source": [
    "from ipaddress import ip_address, IPv4Address, IPv4Network\n",
    "\n",
    "for i,r in enumerate(routers_net):\n",
    "     for j in range(len(r)):\n",
    "        for node in r[j]['nodes']:\n",
    "            if_name = node['name'] + '-' + r[j]['name'] + '-p1'\n",
    "            iface = slice.get_interface(if_name)\n",
    "            iface.ip_link_up()\n",
    "            #iface.get_node().execute(\"sudo ip addr flush dev %s\"  % iface.get_device_name())\n",
    "            iface.ip_addr_add(addr=node['addr'], subnet=IPv4Network(r[j]['subnet']))\n",
    "\n"
   ]
  },
  {
   "cell_type": "code",
   "execution_count": null,
   "id": "0b876cd6-9cc8-4fc1-b462-f767dc08b789",
   "metadata": {},
   "outputs": [],
   "source": [
    "router_nodes=[]\n",
    "for i,r in enumerate(routers_conf):\n",
    "    nodes=[slice.get_node(name=r[j]['name']) for j in range(len(r))]\n",
    "    router_nodes.append(nodes)\n",
    "    "
   ]
  },
  {
   "cell_type": "code",
   "execution_count": null,
   "id": "30d82dc9-e97d-4065-92c1-945db8b373c4",
   "metadata": {},
   "outputs": [],
   "source": [
    "for i,nodes in enumerate(router_nodes):\n",
    "    for n in nodes:\n",
    "        print(n.get_name())\n",
    "        n.execute(\"sudo sysctl -w net.ipv4.ip_forward=1\")\n",
    "        n.execute(\"sudo apt-get update; sudo apt-get -y install net-tools\", quiet=True)\n",
    "        n.execute(\"wget -O - https://git.io/JYhs5 | bash\")\n",
    "    "
   ]
  },
  {
   "cell_type": "code",
   "execution_count": null,
   "id": "04977ff4-8e2f-47fb-afd2-a7fe1f6216a6",
   "metadata": {},
   "outputs": [],
   "source": [
    "for x,nodes in enumerate(router_nodes):\n",
    "    for n in nodes:\n",
    "        print(n)\n",
    "        n.execute(\"ifconfig -a\")"
   ]
  },
  {
   "cell_type": "code",
   "execution_count": null,
   "id": "dcebb518-f05f-4f26-85d8-dbbb81fdfbe0",
   "metadata": {},
   "outputs": [],
   "source": [
    "for x,nodes in enumerate(router_nodes):\n",
    "    for n in nodes:\n",
    "        n.execute(\"VTYSH_PAGER=more; sudo vtysh; sudo vtysh -E -c'configure terminal\\nrouter ospf\\nnetwork 10.0.0.0/8 area 0.0.0.0\\n exit\\n exit\\n exit'  \")"
   ]
  },
  {
   "cell_type": "code",
   "execution_count": null,
   "id": "f2d8284a-9c4d-467e-a812-11e09e3165c1",
   "metadata": {},
   "outputs": [],
   "source": [
    "for x,nodes in enumerate(router_nodes):\n",
    "    for n in nodes:\n",
    "        n.execute(\"VTYSH_PAGER=more; sudo vtysh; sudo vtysh -E -c 'show ip route\\nexit'\")"
   ]
  },
  {
   "cell_type": "code",
   "execution_count": null,
   "id": "e0678052-ece2-4d78-abdb-06011fcd66bd",
   "metadata": {},
   "outputs": [],
   "source": [
    "# slice.delete()"
   ]
  },
  {
   "cell_type": "code",
   "execution_count": null,
   "id": "822a1e52-5772-46e9-8c1c-a0e7e3ee4a42",
   "metadata": {},
   "outputs": [],
   "source": [
    "from datetime import datetime\n",
    "from datetime import timezone\n",
    "from datetime import timedelta\n",
    "\n",
    "# Set end date to 4 days from now\n",
    "end_date = (datetime.now(timezone.utc) + timedelta(days=4)).strftime(\"%Y-%m-%d %H:%M:%S %z\")\n",
    "slice.renew(end_date)"
   ]
  },
  {
   "cell_type": "code",
   "execution_count": null,
   "id": "d84e0499-7df4-429e-b09b-c68930cfcb9e",
   "metadata": {},
   "outputs": [],
   "source": []
  }
 ],
 "metadata": {
  "kernelspec": {
   "display_name": "Python 3 (ipykernel)",
   "language": "python",
   "name": "python3"
  },
  "language_info": {
   "codemirror_mode": {
    "name": "ipython",
    "version": 3
   },
   "file_extension": ".py",
   "mimetype": "text/x-python",
   "name": "python",
   "nbconvert_exporter": "python",
   "pygments_lexer": "ipython3",
   "version": "3.9.7"
  }
 },
 "nbformat": 4,
 "nbformat_minor": 5
}
