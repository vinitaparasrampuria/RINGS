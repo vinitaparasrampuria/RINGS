{
 "cells": [
  {
   "cell_type": "markdown",
   "metadata": {},
   "source": [
    "# Reserve and configure FABRIC resources for “setting a network of Autonomous systems”\n",
    "\n",
    "In the experiment setup, we try to emulate the real world network by designing a network of various autonomous systems spread across different sites available on FABRIC testbed.\n",
    "\n",
    "## Set up your FABRIC environment\n",
    "\n",
    "This assumes that you have already configured your FABRIC account and your Jupyter environment as described in [Hello, FABRIC](https://teaching-on-testbeds.github.io/blog/hello-fabric)."
   ],
   "id": "5cf547d9-0b9c-4d73-9626-6d653cbf7211"
  },
  {
   "cell_type": "code",
   "execution_count": null,
   "metadata": {},
   "outputs": [],
   "source": [
    "from fabrictestbed_extensions.fablib.fablib import FablibManager as fablib_manager\n",
    "fablib = fablib_manager() \n",
    "fablib.show_config()"
   ],
   "id": "3d0bfb10-252d-48cb-9e7b-f1e57c7a0838"
  },
  {
   "cell_type": "code",
   "execution_count": null,
   "metadata": {},
   "outputs": [],
   "source": [
    "!chmod 600 {fablib.get_bastion_key_filename()}\n",
    "!chmod 600 {fablib.get_default_slice_private_key_file()}"
   ],
   "id": "2eabe802-1aeb-48c1-b7ab-e175dc8db643"
  },
  {
   "cell_type": "markdown",
   "metadata": {},
   "source": [
    "## Create and submit a slice"
   ],
   "id": "4d93f796-f9e4-45fe-a687-2937379e2462"
  },
  {
   "cell_type": "code",
   "execution_count": null,
   "metadata": {},
   "outputs": [],
   "source": [
    "slice_name=\"network-\"+ fablib.get_bastion_username()\n",
    "slice = fablib.new_slice(name=slice_name)"
   ],
   "id": "6b8eb9ed-9c5d-4f7e-82ee-e26936b9e513"
  },
  {
   "cell_type": "markdown",
   "metadata": {},
   "source": [
    "### Set up the variables\n",
    "\n",
    "Next, we will set up the variables- number of autonomous sytems in the network, number of routers in each autonomous system, whether a system in CDN or not and the hops at which redundancy can be seen."
   ],
   "id": "2a3b2380-fb0b-4261-a6d6-ed27a8f63ff2"
  },
  {
   "cell_type": "code",
   "execution_count": null,
   "metadata": {},
   "outputs": [],
   "source": [
    "import random\n",
    "#number of routers in access network similar irrespective of cdn or not\n",
    "#redundancy_AS_1 parameter sets the hop at which redundant paths will be set\n",
    "hops_AS_1=random.randint(3,6)\n",
    "redundancy_AS_1=3\n",
    "\n",
    "# For cdn, define\n",
    "# number of autonomous systems including source and target AS (ranges between 2-4)\n",
    "# hops seen in destination network (ranges between 3-4)\n",
    "# hops seen in intermediate network (ranges bewteen 1-2)\n",
    "\n",
    "number_of_AS_cdn=random.randint(2,4)\n",
    "hops_final_AS_cdn=random.randint(3,4)\n",
    "max_hops_intermediate_cdn=3\n",
    "\n",
    "# For non CDN, define\n",
    "# number of autonomous systems including source and target AS (ranges between 3-5)\n",
    "# hops seen in destination network (ranges between 5-8)\n",
    "# hops seen in intermediate network (ranges bewteen 1-4)\n",
    "\n",
    "number_of_AS_not_cdn=random.randint(3,5)\n",
    "hops_final_AS_not_cdn=random.randint(5,8)\n",
    "max_hops_intermediate_not_cdn=4\n",
    "\n",
    "# Set cdn=True if CDN type opf network is required else False\n",
    "cdn=True\n",
    "sites=['NCSA', 'GATECH', 'WASH', 'GPN', 'INDI', 'SALT', 'CERN', 'MICH', 'DALL', 'STAR', 'EDC', 'PSC']"
   ],
   "id": "9cfbc220-d290-426b-b728-45acf12a062b"
  },
  {
   "cell_type": "markdown",
   "metadata": {},
   "source": [
    "Print all the parameters that were setup randomly."
   ],
   "id": "f430284d-ad8a-49fe-b994-e979368cf8bd"
  },
  {
   "cell_type": "code",
   "execution_count": null,
   "metadata": {},
   "outputs": [],
   "source": [
    "# Print all the parameters:\n",
    "print(\"Hops in first AS: \", hops_AS_1)\n",
    "print(\"Number of AS: \", number_of_AS_cdn if cdn else number_of_AS_not_cdn)\n",
    "print(\"Hops in final AS: \", hops_final_AS_cdn if cdn else hops_final_AS_not_cdn )"
   ],
   "id": "c6fc40f5-f115-4e84-90db-cfe72f4f45d4"
  },
  {
   "cell_type": "markdown",
   "metadata": {},
   "source": [
    "### Set up the routers and networks\n",
    "\n",
    "First we will create a function that will generate an autonomous system along with the node configuration, net configuration, resource requirement data."
   ],
   "id": "a52872ba-4892-4c13-92d0-70e415083b31"
  },
  {
   "cell_type": "code",
   "execution_count": null,
   "metadata": {},
   "outputs": [],
   "source": [
    "\n",
    "def create_AS(as_num, n_hops, r):\n",
    "    routers=[1]*min(r, n_hops) + [random.randint(2,3) for i in range(max(0, n_hops - r - 1))] + [1 for i in range(0,1) if n_hops!=r]\n",
    "    node_conf = [ {'name': \"as\" + str(as_num) + '-r-' + str(j) + '-' + str(i) ,\n",
    "        'cores': 8, 'ram': 16, 'disk': 25, 'image': 'default_ubuntu_22', 'packages': ['net-tools']}\n",
    "         for j,level in enumerate(routers) for i in range(level)]\n",
    "    r_mul=[0]+[routers[i-1]*routers[i] for i in range(1,len(routers))]\n",
    "    net_conf = [\n",
    "     {\"name\": \"as\"+str(as_num)+\"-net\"+str(j)+str(i)+\"-\"+str(j+1)+str(k), \"subnet\": \"10.\"+str(as_num)+\".\"+str(sum(r_mul[:j+1])+(routers[j+1]*i)+k+1)+\".0/24\", \n",
    "      \"nodes\": [{\"name\": \"as\"+str(as_num)+'-r-' + str(j) + '-' + str(i),   \"addr\": \"10.\"+str(as_num)+\".\"+str(sum(r_mul[:j+1])+(routers[j+1]*i)+k+1)+\".\"+str(1)} ]+ \n",
    "      [{\"name\": \"as\"+str(as_num)+'-r-' + str(j+1) + '-' + str(k),   \"addr\": \"10.\"+str(as_num)+\".\"+str(sum(r_mul[:j+1])+(routers[j+1]*i)+k+1)+\".\"+str(2)}]}\n",
    "            for j,level in enumerate(routers[:-1]) for i in range(level) for k in range(routers[j+1])]\n",
    "    exp_conf = {'cores': sum([ n['cores'] for n in node_conf]), 'nic': sum([len(n['nodes']) for n in net_conf]) }\n",
    "    return [routers, node_conf, net_conf, exp_conf]\n"
   ],
   "id": "511e93b2-93ab-4bdd-a369-650d7b26b2e7"
  },
  {
   "cell_type": "markdown",
   "metadata": {},
   "source": [
    "Next, we will call create_AS() function to generate the number of autonomous systems which was defined in one of the previous cell."
   ],
   "id": "ff67faea-8c89-47c9-acdc-6fa8d323e7ef"
  },
  {
   "cell_type": "code",
   "execution_count": null,
   "metadata": {},
   "outputs": [],
   "source": [
    "if cdn:\n",
    "    number_of_AS=number_of_AS_cdn\n",
    "    hops_final_AS=hops_final_AS_cdn\n",
    "    max_hops_intermediate=max_hops_intermediate_cdn\n",
    "    \n",
    "else:    \n",
    "    number_of_AS=number_of_AS_not_cdn\n",
    "    hops_final_AS=hops_final_AS_not_cdn\n",
    "    max_hops_intermediate=max_hops_intermediate_not_cdn\n",
    "\n",
    "\n",
    "# set up the number of routers in first AS\n",
    "\n",
    "data_routers=[create_AS(0, hops_AS_1, redundancy_AS_1)]\n",
    "\n",
    "  \n",
    "# set up the number of routers in intermediate AS\n",
    "# hops in intermediate AS is randomly selected between 1 and max_hops_intermediate value\n",
    "# redundant path can start at any value between 2nd hop and hops_intermediate-1 in the intermediate AS\n",
    "\n",
    "for i in range(1, number_of_AS-1):\n",
    "    hops_intermediate=random.randint(1,max_hops_intermediate)\n",
    "    print(hops_intermediate)\n",
    "    data_routers+=[create_AS(i, hops_intermediate, r=random.randint(1,hops_intermediate))]\n",
    "\n",
    "# set up the number of routers in Destination AS\n",
    "# redundant path can start at any value between 2nd hop and hops_final_AS-1 in the destination AS\n",
    "data_routers+=[create_AS(number_of_AS-1, hops_final_AS, random.randint(1,hops_final_AS))]\n"
   ],
   "id": "ebae9e8a-fc99-4fbd-83fd-e50048bc8c52"
  },
  {
   "cell_type": "code",
   "execution_count": null,
   "metadata": {},
   "outputs": [],
   "source": [
    "node_conf = [node for as_conf in data_routers for node in as_conf[1]]\n",
    "node_conf"
   ],
   "id": "5ff5b3bd-4266-40e4-920f-c5c021d686e4"
  },
  {
   "cell_type": "code",
   "execution_count": null,
   "metadata": {},
   "outputs": [],
   "source": [
    "net_conf = [net for as_conf in data_routers for net in as_conf[2]]\n",
    "net_conf"
   ],
   "id": "19266062-59b4-47ed-98a2-3e0a6ebfbfe0"
  },
  {
   "cell_type": "markdown",
   "metadata": {},
   "source": [
    "### Reserve resources\n",
    "\n",
    "Now we will get a list of sites that has sufficient resources for the experiment."
   ],
   "id": "da743941-58ef-4c6a-a2ec-b669dd0edb45"
  },
  {
   "cell_type": "code",
   "execution_count": null,
   "metadata": {},
   "outputs": [],
   "source": [
    "\n",
    "# Get the sites\n",
    "as_sites = []\n",
    "for i,r in enumerate(data_routers):   \n",
    "    while True:\n",
    "        site_name = fablib.get_random_site(avoid=sites + as_sites)\n",
    "        if ( (fablib.resources.get_core_available(site_name) > 1.2*r[3]['cores']) and\n",
    "            (fablib.resources.get_component_available(site_name, 'SharedNIC-ConnectX-6') > 1.2**r[3]['nic']) ):\n",
    "            break\n",
    "\n",
    "    print(f\"AS {i} will use {site_name}\")\n",
    "    #fablib.show_site(site_name)\n",
    "    as_sites.append(site_name)\n"
   ],
   "id": "cf7946e0-f85c-4238-a0bb-fca0c201e3c3"
  },
  {
   "cell_type": "code",
   "execution_count": null,
   "metadata": {},
   "outputs": [],
   "source": [
    "print(as_sites)"
   ],
   "id": "136b837f-65fd-48a5-ba97-5756d7b886ee"
  },
  {
   "cell_type": "markdown",
   "metadata": {},
   "source": [
    "Then we will add hosts and network segments"
   ],
   "id": "dd04d003-d430-4d01-813f-bd781b074b58"
  },
  {
   "cell_type": "code",
   "execution_count": null,
   "metadata": {},
   "outputs": [],
   "source": [
    "for i,r in enumerate(data_routers):\n",
    "     for rtr in r[1]: # iterate over the nodes_conf for this AS\n",
    "        slice.add_node(name=rtr['name'], site=as_sites[i], \n",
    "                       cores=rtr['cores'], \n",
    "                       ram=rtr['ram'], \n",
    "                       disk=rtr['disk'], \n",
    "                       image=rtr['image'])"
   ],
   "id": "123a7a65-f82c-48ee-a975-95ed4c9db11e"
  },
  {
   "cell_type": "code",
   "execution_count": null,
   "metadata": {},
   "outputs": [],
   "source": [
    "print(slice.list_nodes())"
   ],
   "id": "f2ca569e-641c-4b17-be4b-f6354196e7a1"
  },
  {
   "cell_type": "code",
   "execution_count": null,
   "metadata": {},
   "outputs": [],
   "source": [
    "# this cell sets up the network links \n",
    "for i,r in enumerate(data_routers):\n",
    "     for net in r[2]: # iterate over net_conf for each AS\n",
    "        ifaces = [slice.get_node(node[\"name\"]).add_component(model=\"NIC_Basic\", \n",
    "                                                     name=net[\"name\"]).get_interfaces()[0] for node in net['nodes'] ]\n",
    "        slice.add_l2network(name=net[\"name\"], type='L2Bridge', interfaces=ifaces)"
   ],
   "id": "80244f1f-9b24-406f-b29e-74ae28272c4b"
  },
  {
   "cell_type": "markdown",
   "metadata": {},
   "source": [
    "The following cell submits our request to the FABRIC site. The output of this cell will update automatically as the status of our request changes. While it is being prepared, the “State” of the slice will appear as “Configuring”. When it is ready, the “State” of the slice will change to “StableOK”."
   ],
   "id": "e41c8e0f-815c-4eac-b299-93a95ad16594"
  },
  {
   "cell_type": "code",
   "execution_count": null,
   "metadata": {},
   "outputs": [],
   "source": [
    "slice.submit()"
   ],
   "id": "2f73a29b-a477-4de7-870b-1fe5a1dc0007"
  },
  {
   "cell_type": "code",
   "execution_count": null,
   "metadata": {},
   "outputs": [],
   "source": [
    "slice.get_state()\n",
    "slice.wait_ssh(progress=True)"
   ],
   "id": "c3f363d1-f002-4566-a5a0-c6e1fd21b37f"
  },
  {
   "cell_type": "markdown",
   "metadata": {},
   "source": [
    "### Configure resources\n",
    "\n",
    "Next, we will configure the resources so they are ready to use."
   ],
   "id": "2872eca3-95f2-4075-8928-81511dcb5345"
  },
  {
   "cell_type": "code",
   "execution_count": null,
   "metadata": {},
   "outputs": [],
   "source": [
    "slice = fablib.get_slice(name=slice_name)"
   ],
   "id": "8c712324-f494-4822-beb2-d7984291b01d"
  },
  {
   "cell_type": "code",
   "execution_count": null,
   "metadata": {},
   "outputs": [],
   "source": [
    "# install packages\n",
    "# this will take a while and will run in background while you do other steps\n",
    "for n in node_conf:\n",
    "    if len(n['packages']):\n",
    "        node = slice.get_node(n['name'])\n",
    "        pkg = \" \".join(n['packages'])\n",
    "        node.execute_thread(\"sudo apt update; sudo apt -y install %s\" % pkg)"
   ],
   "id": "d721c265-d91b-4b75-a830-c6ddf0f5e220"
  },
  {
   "cell_type": "code",
   "execution_count": null,
   "metadata": {},
   "outputs": [],
   "source": [
    "# bring interfaces up and either assign an address (if there is one) or flush address\n",
    "from ipaddress import ip_address, IPv4Address, IPv4Network\n",
    "\n",
    "for net in net_conf:\n",
    "    for n in net['nodes']:\n",
    "        if_name = n['name'] + '-' + net['name'] + '-p1'\n",
    "        iface = slice.get_interface(if_name)\n",
    "        iface.ip_link_up()\n",
    "        if n['addr']:\n",
    "            iface.ip_addr_add(addr=n['addr'], subnet=IPv4Network(net['subnet']))\n",
    "        else:\n",
    "            iface.get_node().execute(\"sudo ip addr flush dev %s\"  % iface.get_device_name())"
   ],
   "id": "5e61c94a-3517-46ab-9c69-5dbcefb7e64c"
  },
  {
   "cell_type": "code",
   "execution_count": null,
   "metadata": {},
   "outputs": [],
   "source": [
    "# prepare a \"hosts\" file that has names and addresses of every node\n",
    "hosts_txt = [ \"%s\\t%s\" % ( n['addr'], n['name'] ) for net in net_conf  for n in net['nodes'] if type(n) is dict and n['addr']]\n",
    "for n in slice.get_nodes():\n",
    "    for h in hosts_txt:\n",
    "        n.execute(\"echo %s | sudo tee -a /etc/hosts\" % h)"
   ],
   "id": "6896b730-093c-4dc5-8235-10b9cc93b126"
  },
  {
   "cell_type": "code",
   "execution_count": null,
   "metadata": {},
   "outputs": [],
   "source": [
    "# enable IPv4 forwarding on all nodes\n",
    "for n in slice.get_nodes():\n",
    "    n.execute(\"sudo sysctl -w net.ipv4.ip_forward=1\")"
   ],
   "id": "1fa319bf-0000-4e78-85f5-7cc6aaa14358"
  },
  {
   "cell_type": "code",
   "execution_count": null,
   "metadata": {},
   "outputs": [],
   "source": [
    "# set up static routes\n",
    "for rt in route_conf:\n",
    "    for n in rt['nodes']:\n",
    "        slice.get_node(name=n).ip_route_add(subnet=IPv4Network(rt['addr']), gateway=rt['gw'])"
   ],
   "id": "fea44212-e76c-457d-bfcb-598d0170999d"
  },
  {
   "cell_type": "markdown",
   "metadata": {},
   "source": [
    "### Set up the routes\n",
    "\n",
    "We will then install FRR routing software on all of the routers, and then configure to use OSPF as their internal routing protocol."
   ],
   "id": "179a741d-270b-4259-b8a8-993e0e7419cb"
  },
  {
   "cell_type": "code",
   "execution_count": null,
   "metadata": {},
   "outputs": [],
   "source": [
    "router_nodes=[slice.get_node(name=r['name']) for r in node_conf]\n"
   ],
   "id": "8e6304c6-15f1-42b8-be6a-f5c2507c3f49"
  },
  {
   "cell_type": "code",
   "execution_count": null,
   "metadata": {},
   "outputs": [],
   "source": [
    "\n",
    "for n in router_nodes:\n",
    "    n.execute(\"curl -s https://deb.frrouting.org/frr/keys.asc | sudo apt-key add -\")\n",
    "    n.execute(\"echo deb https://deb.frrouting.org/frr $(lsb_release -s -c) frr-stable | sudo tee -a /etc/apt/sources.list.d/frr.list\")\n",
    "    n.execute(\"sudo apt update\")\n",
    "    n.execute(\"sudo apt -y install frr frr-pythontools nload\")\n",
    "    n.execute(\"sudo sed -i 's/ospfd=no/ospfd=yes/g' /etc/frr/daemons\")\n",
    "    n.execute(\"sudo sed -i 's/bgpd=no/bgpd=yes/g' /etc/frr/daemons\")\n",
    "    n.execute(\"sudo systemctl restart frr.service\")    "
   ],
   "id": "47bc60d3-ab64-40e2-9d38-757f7e3dddcf"
  },
  {
   "cell_type": "code",
   "execution_count": null,
   "metadata": {},
   "outputs": [],
   "source": [
    "\n",
    "for n in router_nodes:\n",
    "    n.execute(\"sudo vtysh -E -c'configure terminal\\nrouter ospf\\nnetwork 10.\"+n.get_name()[2]+\".0.0/16 area 0.0.0.0\\n exit\\n exit\\n exit'  \")    "
   ],
   "id": "363ea0b5-8208-41bf-936e-35596c162adb"
  },
  {
   "cell_type": "code",
   "execution_count": null,
   "metadata": {},
   "outputs": [],
   "source": [
    "\n",
    "for n in router_nodes:\n",
    "    n.execute(\"sudo vtysh -E -c 'show ip route\\nexit'\")   "
   ],
   "id": "57843359-1a74-4095-b191-bfc6aee6bb9f"
  },
  {
   "cell_type": "markdown",
   "metadata": {},
   "source": [
    "Validate the routing by running ping across the network"
   ],
   "id": "5cdd1a43-5f33-40e3-882d-1b192ad7c78d"
  },
  {
   "cell_type": "code",
   "execution_count": null,
   "metadata": {},
   "outputs": [],
   "source": [
    "for r in data_routers:\n",
    "    slice.get_node(name=r[1][0]['name']).execute(\"ping -c 5 \"+r[2][-1]['nodes'][-1]['addr']+\" | grep rtt\")   "
   ],
   "id": "1d6d2782-79ca-4d28-8b36-31153f51a651"
  },
  {
   "cell_type": "markdown",
   "metadata": {},
   "source": [
    "#### Draw the network topology"
   ],
   "id": "af50efe6-7c06-4229-960a-22eb4ddc3fe4"
  },
  {
   "cell_type": "markdown",
   "metadata": {},
   "source": [
    "The following cell will draw the network topology, for your reference."
   ],
   "id": "c6ebdf53-1d2a-4fa0-b67d-aa1db7c8a22a"
  },
  {
   "cell_type": "code",
   "execution_count": null,
   "metadata": {},
   "outputs": [],
   "source": [
    "l2_nets = [(n.get_name(), {'color': 'lavender'}) for n in slice.get_l2networks() ]\n",
    "l3_nets = [(n.get_name(), {'color': 'pink'}) for n in slice.get_l3networks() ]\n",
    "hosts   =   [(n.get_name(), {'color': 'lightblue'}) for n in slice.get_nodes()]\n",
    "nodes = l2_nets + l3_nets + hosts\n",
    "ifaces = [iface.toDict() for iface in slice.get_interfaces()]\n",
    "edges = [(iface['network'], iface['node']) for iface in ifaces]"
   ],
   "id": "c1d30f37-85c1-4522-a998-a16eb3b84a7e"
  },
  {
   "cell_type": "code",
   "execution_count": null,
   "metadata": {},
   "outputs": [],
   "source": [
    "import networkx as nx\n",
    "import matplotlib.pyplot as plt\n",
    "plt.figure(figsize=(len(nodes),len(nodes)))\n",
    "G = nx.Graph()\n",
    "G.add_nodes_from(nodes)\n",
    "G.add_edges_from(edges)\n",
    "pos = nx.spring_layout(G)\n",
    "nx.draw(G, pos, node_shape='s',  \n",
    "        node_color=[n[1]['color'] for n in nodes], \n",
    "        node_size=[len(n[0])*400 for n in nodes],  \n",
    "        with_labels=True);"
   ],
   "id": "314805b9-fa72-449f-9606-c36f0100e290"
  },
  {
   "cell_type": "markdown",
   "metadata": {},
   "source": [
    "### Log into resources"
   ],
   "id": "3e80936a-7877-4921-a1d0-bd26d9d8d5a7"
  },
  {
   "cell_type": "markdown",
   "metadata": {},
   "source": [
    "Now, we are finally ready to log in to our resources over SSH! Run the following cells, and observe the table output - you will see an SSH command for each of the resources in your topology."
   ],
   "id": "6ddf66ef-6919-4f1d-846d-97a82d938258"
  },
  {
   "cell_type": "code",
   "execution_count": null,
   "metadata": {},
   "outputs": [],
   "source": [
    "import pandas as pd\n",
    "pd.set_option('display.max_colwidth', None)\n",
    "slice_info = [{'Name': n.get_name(), 'SSH command': n.get_ssh_command()} for n in slice.get_nodes()]\n",
    "pd.DataFrame(slice_info).set_index('Name')"
   ],
   "id": "c44c7a26-a356-424c-9699-7f0afc41dad2"
  },
  {
   "cell_type": "markdown",
   "metadata": {},
   "source": [
    "Now, you can open an SSH session on any of the resources as follows:\n",
    "\n",
    "-   in Jupyter, from the menu bar, use File \\> New \\> Terminal to open a new terminal.\n",
    "-   copy an SSH command from the table, and paste it into the terminal. (Note that each SSH command is a single line, even if the display wraps the text to a second line! When you copy and paste it, paste it all together.)\n",
    "\n",
    "You can repeat this process (open several terminals) to start a session on each resource. Each terminal session will have a tab in the Jupyter environment, so that you can easily switch between them."
   ],
   "id": "55a90379-c293-4be8-85c5-3ef3d58ceec8"
  },
  {
   "cell_type": "markdown",
   "metadata": {},
   "source": [
    "### Delete your slice"
   ],
   "id": "083b1219-2af3-4fd6-9907-3f7304489e7e"
  },
  {
   "cell_type": "markdown",
   "metadata": {},
   "source": [
    "When you finish your experiment, you should delete your slice! The following cells deletes all the resources in your slice, freeing them for other experimenters."
   ],
   "id": "7f0fc843-3268-4da2-bc60-af5cadfd4fc8"
  },
  {
   "cell_type": "code",
   "execution_count": null,
   "metadata": {},
   "outputs": [],
   "source": [
    "slice = fablib.get_slice(name=slice_name)\n",
    "fablib.delete_slice(slice_name)"
   ],
   "id": "96359547-bd53-4633-a714-badc44552fd9"
  },
  {
   "cell_type": "code",
   "execution_count": null,
   "metadata": {},
   "outputs": [],
   "source": [
    "# slice should end up in \"Dead\" state\n",
    "# re-run this cell until you see it in \"Dead\" state\n",
    "slice.update()\n",
    "_ = slice.show()"
   ],
   "id": "f6de862b-3fe2-4c36-b6dd-4a75ad7f63e1"
  }
 ],
 "nbformat": 4,
 "nbformat_minor": 5,
 "metadata": {}
}
