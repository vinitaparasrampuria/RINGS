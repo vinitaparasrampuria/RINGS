{
 "cells": [
  {
   "cell_type": "markdown",
   "id": "047936dc-a214-4665-b49c-18471210133f",
   "metadata": {},
   "source": [
    "# Reserve and configure FABRIC resources for “setting a network of Autonomous systems”\n",
    "\n",
    "In the experiment setup, we try to emulate the real world network by designing a network of various autonomous systems spread across different sites available on FABRIC testbed.\n",
    "\n",
    "## Set up your FABRIC environment\n",
    "\n",
    "This assumes that you have already configured your FABRIC account and your Jupyter environment as described in [Hello, FABRIC](https://teaching-on-testbeds.github.io/blog/hello-fabric)."
   ]
  },
  {
   "cell_type": "code",
   "execution_count": null,
   "id": "ef7d4cf9-2448-4ce5-86b9-064ad8009497",
   "metadata": {},
   "outputs": [],
   "source": [
    "from fabrictestbed_extensions.fablib.fablib import FablibManager as fablib_manager\n",
    "fablib = fablib_manager() \n",
    "fablib.show_config()"
   ]
  },
  {
   "cell_type": "code",
   "execution_count": null,
   "id": "1dba5f70-64c7-470c-a7ad-8e1d0a2cdec8",
   "metadata": {},
   "outputs": [],
   "source": [
    "!chmod 600 {fablib.get_bastion_key_filename()}\n",
    "!chmod 600 {fablib.get_default_slice_private_key_file()}"
   ]
  },
  {
   "cell_type": "markdown",
   "id": "efb957fe-454e-481f-9fcf-662dd61e66ac",
   "metadata": {},
   "source": [
    "## Create and submit a slice"
   ]
  },
  {
   "cell_type": "code",
   "execution_count": null,
   "id": "15b806ca-3e43-4810-ab0d-7b69940cc560",
   "metadata": {},
   "outputs": [],
   "source": [
    "slice_name=\"network-\"+ fablib.get_bastion_username()\n",
    "slice = fablib.new_slice(name=slice_name)"
   ]
  },
  {
   "cell_type": "markdown",
   "id": "becebbe3-07d6-494e-8ad0-2e504ff66c85",
   "metadata": {},
   "source": [
    "### Set up the variables\n",
    "\n",
    "Next, we will set up the variables- number of autonomous sytems in the network, number of routers in each autonomous system, whether a system in CDN or not and the hops at which redundancy can be seen."
   ]
  },
  {
   "cell_type": "code",
   "execution_count": null,
   "id": "10b7d4c9-0912-4a71-af5b-912498da952b",
   "metadata": {},
   "outputs": [],
   "source": [
    "import random\n",
    "#number of routers in access network similar irrespective of cdn or not\n",
    "#redundancy_AS_1 parameter sets the hop at which redundant paths will be set\n",
    "hops_AS_1=random.randint(3,6)\n",
    "redundancy_AS_1=3\n",
    "\n",
    "# For cdn, define\n",
    "# number of autonomous systems including source and target AS (ranges between 2-4)\n",
    "# hops seen in destination network (ranges between 3-4)\n",
    "# hops seen in intermediate network (ranges bewteen 1-2)\n",
    "\n",
    "number_of_AS_cdn=random.randint(2,4)\n",
    "hops_final_AS_cdn=random.randint(3,4)\n",
    "max_hops_intermediate_cdn=3\n",
    "\n",
    "# For non CDN, define\n",
    "# number of autonomous systems including source and target AS (ranges between 3-5)\n",
    "# hops seen in destination network (ranges between 5-8)\n",
    "# hops seen in intermediate network (ranges bewteen 1-4)\n",
    "\n",
    "number_of_AS_not_cdn=random.randint(3,5)\n",
    "hops_final_AS_not_cdn=random.randint(5,8)\n",
    "max_hops_intermediate_not_cdn=4\n",
    "\n",
    "# Set cdn=True if CDN type opf network is required else False\n",
    "cdn=True\n",
    "sites=['NCSA', 'GATECH', 'WASH', 'GPN', 'INDI', 'SALT', 'CERN', 'MICH', 'DALL', 'STAR', 'EDC', 'PSC']"
   ]
  },
  {
   "cell_type": "markdown",
   "id": "1954d9b7-2405-474f-b3e6-2829f24116b7",
   "metadata": {},
   "source": [
    "Print all the parameters that were setup randomly."
   ]
  },
  {
   "cell_type": "code",
   "execution_count": null,
   "id": "144be72d-6731-4e14-9992-ce385a6db0a6",
   "metadata": {},
   "outputs": [],
   "source": [
    "# Print all the parameters:\n",
    "print(\"Hops in first AS: \", hops_AS_1)\n",
    "print(\"Number of AS: \", number_of_AS_cdn if cdn else number_of_AS_not_cdn)\n",
    "print(\"Hops in final AS: \", hops_final_AS_cdn if cdn else hops_final_AS_not_cdn )"
   ]
  },
  {
   "cell_type": "markdown",
   "id": "18acc539-1955-4ab9-b9cc-b72d58cd533a",
   "metadata": {},
   "source": [
    "### Set up the routers and networks\n",
    "\n",
    "First we will create a function that will generate an autonomous system along with the node configuration, net configuration, resource requirement data."
   ]
  },
  {
   "cell_type": "code",
   "execution_count": null,
   "id": "f2f31530-ed17-43d6-ae68-7a66286fba55",
   "metadata": {},
   "outputs": [],
   "source": [
    "\n",
    "def create_AS(as_num, n_hops, r):\n",
    "    routers=[1]*min(r, n_hops) + [random.randint(2,3) for i in range(max(0, n_hops - r - 1))] + [1 for i in range(0,1) if n_hops!=r]\n",
    "    node_conf = [ {'name': \"as\" + str(as_num) + '-r-' + str(j) + '-' + str(i) ,\n",
    "        'cores': 8, 'ram': 16, 'disk': 25, 'image': 'default_ubuntu_22', 'packages': ['net-tools']}\n",
    "         for j,level in enumerate(routers) for i in range(level)]\n",
    "    r_mul=[0]+[routers[i-1]*routers[i] for i in range(1,len(routers))]\n",
    "    net_conf = [\n",
    "     {\"name\": \"as\"+str(as_num)+\"-net\"+str(j)+str(i)+\"-\"+str(j+1)+str(k), \"subnet\": \"10.\"+str(as_num)+\".\"+str(sum(r_mul[:j+1])+(routers[j+1]*i)+k+1)+\".0/24\", \n",
    "      \"nodes\": [{\"name\": \"as\"+str(as_num)+'-r-' + str(j) + '-' + str(i),   \"addr\": \"10.\"+str(as_num)+\".\"+str(sum(r_mul[:j+1])+(routers[j+1]*i)+k+1)+\".\"+str(1)} ]+ \n",
    "      [{\"name\": \"as\"+str(as_num)+'-r-' + str(j+1) + '-' + str(k),   \"addr\": \"10.\"+str(as_num)+\".\"+str(sum(r_mul[:j+1])+(routers[j+1]*i)+k+1)+\".\"+str(2)}]}\n",
    "            for j,level in enumerate(routers[:-1]) for i in range(level) for k in range(routers[j+1])]\n",
    "    exp_conf = {'cores': sum([ n['cores'] for n in node_conf]), 'nic': sum([len(n['nodes'])+2 for n in net_conf]) }\n",
    "    return [routers, node_conf, net_conf, exp_conf]\n"
   ]
  },
  {
   "cell_type": "markdown",
   "id": "f0548a64-5b8b-43df-9b53-25d11c2a4596",
   "metadata": {},
   "source": [
    "Next, we will call create_AS() function to generate the number of autonomous systems which was defined in one of the previous cell."
   ]
  },
  {
   "cell_type": "code",
   "execution_count": null,
   "id": "e5eb510a-9c10-4bea-9455-db68347898f8",
   "metadata": {},
   "outputs": [],
   "source": [
    "if cdn:\n",
    "    number_of_AS=number_of_AS_cdn\n",
    "    hops_final_AS=hops_final_AS_cdn\n",
    "    max_hops_intermediate=max_hops_intermediate_cdn\n",
    "    \n",
    "else:    \n",
    "    number_of_AS=number_of_AS_not_cdn\n",
    "    hops_final_AS=hops_final_AS_not_cdn\n",
    "    max_hops_intermediate=max_hops_intermediate_not_cdn\n",
    "\n",
    "\n",
    "# set up the number of routers in first AS\n",
    "\n",
    "data_routers=[create_AS(0, hops_AS_1, redundancy_AS_1)]\n",
    "\n",
    "  \n",
    "# set up the number of routers in intermediate AS\n",
    "# hops in intermediate AS is randomly selected between 1 and max_hops_intermediate value\n",
    "# redundant path can start at any value between 2nd hop and hops_intermediate-1 in the intermediate AS\n",
    "\n",
    "for i in range(1, number_of_AS-1):\n",
    "    hops_intermediate=random.randint(1,max_hops_intermediate)\n",
    "    print(hops_intermediate)\n",
    "    data_routers+=[create_AS(i, hops_intermediate, r=random.randint(1,hops_intermediate))]\n",
    "\n",
    "# set up the number of routers in Destination AS\n",
    "# redundant path can start at any value between 2nd hop and hops_final_AS-1 in the destination AS\n",
    "data_routers+=[create_AS(number_of_AS-1, hops_final_AS, random.randint(1,hops_final_AS))]\n"
   ]
  },
  {
   "cell_type": "code",
   "execution_count": null,
   "id": "6cc75cd7-e793-4920-a676-92b728418bde",
   "metadata": {},
   "outputs": [],
   "source": [
    "node_conf = [node for as_conf in data_routers for node in as_conf[1]]\n",
    "node_conf"
   ]
  },
  {
   "cell_type": "code",
   "execution_count": null,
   "id": "4d01eb6d-3432-4ea9-a0cd-650977209d4b",
   "metadata": {},
   "outputs": [],
   "source": [
    "net_conf = [net for as_conf in data_routers for net in as_conf[2]]\n",
    "net_conf"
   ]
  },
  {
   "cell_type": "code",
   "execution_count": null,
   "id": "ae05198b-b109-4fbc-a3a5-4d5c7cf46f05",
   "metadata": {},
   "outputs": [],
   "source": [
    "# as_net_conf=[{\"net-name\":\"ext-net\"+str(i)+\"-\"+str(i+1), \"subnet\": \"100.\"+str(i)+\".\"+str(i+1)+\".0/24\",\n",
    "#               \"nodes\": [{\"name\":r[1][-1]['name'], \"addr\":\"100.\"+str(i)+\".\"+str(i+1)+\".1\"}]+\n",
    "#               [{\"name\":data_routers[i+1][1][0]['name'], \"addr\":\"100.\"+str(i)+\".\"+str(i+1)+\".2\"}]}\n",
    "#               for i, r in enumerate(data_routers[:-1])]\n",
    "\n",
    "\n",
    "as_net_conf=[{\"net-name\":\"ext-net\"+str(i)+\"-\"+str(i+1), \"subnet\": \"192.168.\"+str(i+1)+str(i)+\".0/24\",\n",
    "              \"nodes\": [{\"name\":r[1][-1]['name'], \"addr\":\"192.168.\"+str(i+1)+str(i)+\".1\"}]+\n",
    "              [{\"name\":data_routers[i+1][1][0]['name'], \"addr\":\"192.168.\"+str(i+1)+str(i)+\".2\"}]}\n",
    "              for i, r in enumerate(data_routers[:-1])]\n"
   ]
  },
  {
   "cell_type": "markdown",
   "id": "db803548-9253-4fef-afda-977093fbde77",
   "metadata": {},
   "source": [
    "::: {.cell .code}go\n",
    "\n",
    "``` python\n",
    "as_net_conf\n",
    "```\n",
    "\n",
    ":::"
   ]
  },
  {
   "cell_type": "markdown",
   "id": "25a58cba-6d54-47ab-b197-4fe44eb8edea",
   "metadata": {},
   "source": [
    "### Reserve resources\n",
    "\n",
    "Now we will get a list of sites that has sufficient resources for the experiment."
   ]
  },
  {
   "cell_type": "code",
   "execution_count": null,
   "id": "296bee78-59d3-4f65-bc2f-2790dc89428d",
   "metadata": {},
   "outputs": [],
   "source": [
    "\n",
    "# Get the sites\n",
    "as_sites = []\n",
    "for i,r in enumerate(data_routers):   \n",
    "    while True:\n",
    "        site_name = fablib.get_random_site(avoid=[''] + as_sites)\n",
    "        if ( (fablib.resources.get_core_available(site_name) > 1.2*r[3]['cores']) and\n",
    "            (fablib.resources.get_component_available(site_name, 'SharedNIC-ConnectX-6') > 1.2**r[3]['nic']) ):\n",
    "            break\n",
    "\n",
    "    print(f\"AS {i} will use {site_name}\")\n",
    "    #fablib.show_site(site_name)\n",
    "    as_sites.append(site_name)\n"
   ]
  },
  {
   "cell_type": "code",
   "execution_count": null,
   "id": "d5cc7ea7-0602-436f-b9f4-b5d03c28fc98",
   "metadata": {},
   "outputs": [],
   "source": [
    "print(as_sites)"
   ]
  },
  {
   "cell_type": "markdown",
   "id": "85506f6a-0f45-4de7-8101-dbd05f57a150",
   "metadata": {},
   "source": [
    "Then we will add hosts and network segments"
   ]
  },
  {
   "cell_type": "code",
   "execution_count": null,
   "id": "9239ff20-b0f1-4aaf-99e6-991b81faf91d",
   "metadata": {},
   "outputs": [],
   "source": [
    "for i,r in enumerate(data_routers):\n",
    "     for rtr in r[1]: # iterate over the nodes_conf for this AS\n",
    "        slice.add_node(name=rtr['name'], site=as_sites[i], \n",
    "                       cores=rtr['cores'], \n",
    "                       ram=rtr['ram'], \n",
    "                       disk=rtr['disk'], \n",
    "                       image=rtr['image'])"
   ]
  },
  {
   "cell_type": "code",
   "execution_count": null,
   "id": "97d103de-9640-483e-8ee5-ab257b97fff2",
   "metadata": {},
   "outputs": [],
   "source": [
    "print(slice.list_nodes())"
   ]
  },
  {
   "cell_type": "code",
   "execution_count": null,
   "id": "1fa8a0b9-903c-4fdf-af1e-0b10b2ebf461",
   "metadata": {},
   "outputs": [],
   "source": [
    "# this cell sets up the network links \n",
    "for i,r in enumerate(data_routers):\n",
    "     for net in r[2]: # iterate over net_conf for each AS\n",
    "        ifaces = [slice.get_node(node[\"name\"]).add_component(model=\"NIC_Basic\", \n",
    "                                                     name=net[\"name\"]).get_interfaces()[0] for node in net['nodes'] ]\n",
    "        slice.add_l2network(name=net[\"name\"], type='L2Bridge', interfaces=ifaces)\n",
    "\n",
    "for i,r in enumerate(as_net_conf):\n",
    "    iface1 = slice.get_node(r['nodes'][0]['name']).add_component(model='NIC_Basic', name=r['net-name']).get_interfaces()[0]\n",
    "    iface2 = slice.get_node(r['nodes'][1]['name']).add_component(model='NIC_Basic', name=r['net-name']).get_interfaces()[0]\n",
    "    slice.add_l2network(name=r['net-name'], interfaces=[iface1, iface2])"
   ]
  },
  {
   "cell_type": "markdown",
   "id": "1d0f953c-692b-4734-b53c-87fa0e98148d",
   "metadata": {},
   "source": [
    "The following cell submits our request to the FABRIC site. The output of this cell will update automatically as the status of our request changes. While it is being prepared, the “State” of the slice will appear as “Configuring”. When it is ready, the “State” of the slice will change to “StableOK”."
   ]
  },
  {
   "cell_type": "code",
   "execution_count": null,
   "id": "81031027-fdce-41b4-af47-dc7d3f039f8f",
   "metadata": {},
   "outputs": [],
   "source": [
    "slice.submit()"
   ]
  },
  {
   "cell_type": "code",
   "execution_count": null,
   "id": "901d5b4e-46f2-45ea-9099-4f80e4f53163",
   "metadata": {},
   "outputs": [],
   "source": [
    "slice.get_state()\n",
    "slice.wait_ssh(progress=True)"
   ]
  },
  {
   "cell_type": "markdown",
   "id": "172ed340-4b8b-46c0-8e96-874e18945792",
   "metadata": {},
   "source": [
    "### Configure resources\n",
    "\n",
    "Next, we will configure the resources so they are ready to use."
   ]
  },
  {
   "cell_type": "code",
   "execution_count": null,
   "id": "d02c1a95-ea78-47f5-b070-5e02c7dce039",
   "metadata": {},
   "outputs": [],
   "source": [
    "slice = fablib.get_slice(name=slice_name)"
   ]
  },
  {
   "cell_type": "code",
   "execution_count": null,
   "id": "28322d59-edb2-4751-831b-5c3b7b3d47f3",
   "metadata": {},
   "outputs": [],
   "source": [
    "# install packages\n",
    "# this will take a while and will run in background while you do other steps\n",
    "for n in node_conf:\n",
    "    if len(n['packages']):\n",
    "        node = slice.get_node(n['name'])\n",
    "        pkg = \" \".join(n['packages'])\n",
    "        node.execute_thread(\"sudo apt update; sudo apt -y install %s\" % pkg)"
   ]
  },
  {
   "cell_type": "code",
   "execution_count": null,
   "id": "e68b9e3d-48d6-4564-8936-300454b69175",
   "metadata": {},
   "outputs": [],
   "source": [
    "# bring interfaces up and either assign an address (if there is one) or flush address\n",
    "from ipaddress import ip_address, IPv4Address, IPv4Network\n",
    "\n",
    "for net in net_conf:\n",
    "    for n in net['nodes']:\n",
    "        if_name = n['name'] + '-' + net['name'] + '-p1'\n",
    "        iface = slice.get_interface(if_name)\n",
    "        iface.ip_link_up()\n",
    "        if n['addr']:\n",
    "            iface.ip_addr_add(addr=n['addr'], subnet=IPv4Network(net['subnet']))\n",
    "        else:\n",
    "            iface.get_node().execute(\"sudo ip addr flush dev %s\"  % iface.get_device_name())"
   ]
  },
  {
   "cell_type": "code",
   "execution_count": null,
   "id": "ab0b6039-2d4c-43fd-b21e-18cb7143e84f",
   "metadata": {},
   "outputs": [],
   "source": [
    "# prepare a \"hosts\" file that has names and addresses of every node\n",
    "hosts_txt = [ \"%s\\t%s\" % ( n['addr'], n['name'] ) for net in net_conf  for n in net['nodes'] if type(n) is dict and n['addr']]\n",
    "for n in slice.get_nodes():\n",
    "    for h in hosts_txt:\n",
    "        n.execute(\"echo %s | sudo tee -a /etc/hosts\" % h)"
   ]
  },
  {
   "cell_type": "code",
   "execution_count": null,
   "id": "1ad67621-b9fa-477c-8e0b-1b105c53d040",
   "metadata": {},
   "outputs": [],
   "source": [
    "# enable IPv4 forwarding on all nodes\n",
    "for n in slice.get_nodes():\n",
    "    n.execute(\"sudo sysctl -w net.ipv4.ip_forward=1\")"
   ]
  },
  {
   "cell_type": "code",
   "execution_count": null,
   "id": "9f556124-629c-410d-8cad-8bd815e2cca5",
   "metadata": {},
   "outputs": [],
   "source": [
    "# set up static routes\n",
    "# for rt in route_conf:\n",
    "#     for n in rt['nodes']:\n",
    "#         slice.get_node(name=n).ip_route_add(subnet=IPv4Network(rt['addr']), gateway=rt['gw'])"
   ]
  },
  {
   "cell_type": "markdown",
   "id": "32603def-48c3-40cd-97b3-0e2a869d6525",
   "metadata": {},
   "source": [
    "Now we will set up the interface connecting two autonomous systems."
   ]
  },
  {
   "cell_type": "code",
   "execution_count": null,
   "id": "410571d2-bf89-4849-b414-4c18b922dfef",
   "metadata": {},
   "outputs": [],
   "source": [
    "# bring interfaces up and either assign an address (if there is one) or flush address\n",
    "from ipaddress import ip_address, IPv4Address, IPv4Network\n",
    "\n",
    "for as_net in as_net_conf:\n",
    "    for n in as_net['nodes']:\n",
    "        if_name = n['name'] + '-' + as_net['net-name'] + '-p1'\n",
    "        iface = slice.get_interface(if_name)\n",
    "        iface.ip_link_up()\n",
    "        if n['addr']:\n",
    "            iface.ip_addr_add(addr=n['addr'], subnet=IPv4Network(as_net['subnet']))\n",
    "        else:\n",
    "            iface.get_node().execute(\"sudo ip addr flush dev %s\"  % iface.get_device_name())"
   ]
  },
  {
   "cell_type": "markdown",
   "id": "1c59a512-1a05-4549-9f27-c7c2286f0d36",
   "metadata": {},
   "source": [
    "### Set up the routes\n",
    "\n",
    "We will then install FRR routing software on all of the routers, and then configure to use OSPF as their internal routing protocol."
   ]
  },
  {
   "cell_type": "code",
   "execution_count": null,
   "id": "ece2eac0-149c-4bfe-b5e3-c39eadb2d516",
   "metadata": {},
   "outputs": [],
   "source": [
    "router_nodes=[slice.get_node(name=r['name']) for r in node_conf]\n"
   ]
  },
  {
   "cell_type": "code",
   "execution_count": null,
   "id": "af995ac3-053f-49ce-9533-7f03312de7e6",
   "metadata": {},
   "outputs": [],
   "source": [
    "\n",
    "for n in router_nodes:\n",
    "    n.execute(\"curl -s https://deb.frrouting.org/frr/keys.asc | sudo apt-key add -\")\n",
    "    n.execute(\"echo deb https://deb.frrouting.org/frr $(lsb_release -s -c) frr-stable | sudo tee -a /etc/apt/sources.list.d/frr.list\")\n",
    "    n.execute(\"sudo apt update\")\n",
    "    n.execute(\"sudo apt -y install frr frr-pythontools nload\")\n",
    "    n.execute(\"sudo sed -i 's/ospfd=no/ospfd=yes/g' /etc/frr/daemons\")\n",
    "    n.execute(\"sudo sed -i 's/bgpd=no/bgpd=yes/g' /etc/frr/daemons\")\n",
    "    n.execute(\"sudo systemctl restart frr.service\")    "
   ]
  },
  {
   "cell_type": "code",
   "execution_count": null,
   "id": "71561316-2548-4321-bf0e-8b194b9bed3b",
   "metadata": {},
   "outputs": [],
   "source": [
    "\n",
    "for n in router_nodes:\n",
    "    n.execute(\"sudo vtysh -E -c'configure terminal\\nrouter ospf\\nnetwork 10.\"+n.get_name()[2]+\".0.0/16 area 0.0.0.0\\n exit\\n exit\\n exit'  \")    "
   ]
  },
  {
   "cell_type": "code",
   "execution_count": null,
   "id": "e05a52c8-beeb-49a8-92e3-7b2a519b7a36",
   "metadata": {},
   "outputs": [],
   "source": [
    "\n",
    "for n in router_nodes:\n",
    "    n.execute(\"sudo vtysh -E -c 'show ip route\\nexit'\")   "
   ]
  },
  {
   "cell_type": "markdown",
   "id": "f5ec740e-2555-43d7-8ead-974e2ff49a9e",
   "metadata": {},
   "source": [
    "Validate the routing by running ping across the network within an Autonomous system:"
   ]
  },
  {
   "cell_type": "code",
   "execution_count": null,
   "id": "7f0c2500-62a0-43f7-94a0-2d49a276f772",
   "metadata": {},
   "outputs": [],
   "source": [
    "for r in data_routers:\n",
    "    print([i['addr'] for i in r[2][-1]['nodes']])\n",
    "    [(slice.get_node(name=r[1][0]['name']).execute(\"ping -c 5 \"+i['addr'] +\" | grep rtt\")) for i in r[2][-1]['nodes']]  "
   ]
  },
  {
   "cell_type": "markdown",
   "id": "12d49991-dde4-485f-93c8-4d7990158a04",
   "metadata": {},
   "source": [
    "Setup BGP as the exterior routing protocol:"
   ]
  },
  {
   "cell_type": "code",
   "execution_count": null,
   "id": "10ff0670-79ab-4786-8e66-6ef387767ef6",
   "metadata": {},
   "outputs": [],
   "source": [
    "for i, as_net in enumerate(as_net_conf):\n",
    "    nodes=[slice.get_node(name=r['name']) for r in as_net['nodes']]\n",
    "    print(as_net['nodes'][1])\n",
    "   \n",
    "    for node_num, n in enumerate(nodes):\n",
    "        n.execute(\"sudo vtysh -E -c'configure terminal\\nrouter bgp \"+str(i+node_num+1)+ \"00\\nno bgp ebgp-requires-policy\\nno bgp network import-check\\nneighbor \"+ as_net['nodes'][(node_num+1)%2]['addr']+ \" remote-as \" + str((1+node_num)%2+i+1) +\"00\\nredistribute ospf\\nexit\\nrouter ospf\\nredistribute bgp\\nredistribute connected\\nexit\\n exit'  \")  \n",
    "        "
   ]
  },
  {
   "cell_type": "markdown",
   "id": "4477fbfd-e054-4e49-a7fc-f1e317c51d4d",
   "metadata": {},
   "source": [
    "Validate the external routing by running ping across the network from first AS to last AS:"
   ]
  },
  {
   "cell_type": "code",
   "execution_count": null,
   "id": "79fa576c-0276-43e9-8bec-da347bc6eafa",
   "metadata": {},
   "outputs": [],
   "source": [
    "[(slice.get_node(name=net_conf[0]['nodes'][0]['name']).execute(\"ping -c 5 \"+i['addr'])) for i in net_conf[-1]['nodes']]"
   ]
  },
  {
   "cell_type": "markdown",
   "id": "255817af-9700-47c6-8ff6-db53e86e292a",
   "metadata": {},
   "source": [
    "#### Draw the network topology"
   ]
  },
  {
   "cell_type": "markdown",
   "id": "de6c8d50-4116-4a62-aa3d-bdb067df6b0c",
   "metadata": {},
   "source": [
    "The following cell will draw the network topology, for your reference."
   ]
  },
  {
   "cell_type": "code",
   "execution_count": null,
   "id": "4f61a2ac-bdfb-4e54-a70e-1b294af0ff88",
   "metadata": {},
   "outputs": [],
   "source": [
    "l2_nets = [(n.get_name(), {'color': 'lavender'}) for n in slice.get_l2networks() ]\n",
    "l3_nets = [(n.get_name(), {'color': 'pink'}) for n in slice.get_l3networks() ]\n",
    "hosts   =   [(n.get_name(), {'color': 'lightblue'}) for n in slice.get_nodes()]\n",
    "nodes = l2_nets + l3_nets + hosts\n",
    "ifaces = [iface.toDict() for iface in slice.get_interfaces()]\n",
    "edges = [(iface['network'], iface['node']) for iface in ifaces]"
   ]
  },
  {
   "cell_type": "code",
   "execution_count": null,
   "id": "ed682db8-0232-43b7-b174-e15c6f31f464",
   "metadata": {},
   "outputs": [],
   "source": [
    "import networkx as nx\n",
    "import matplotlib.pyplot as plt\n",
    "plt.figure(figsize=(len(nodes),len(nodes)))\n",
    "G = nx.Graph()\n",
    "G.add_nodes_from(nodes)\n",
    "G.add_edges_from(edges)\n",
    "pos = nx.spring_layout(G)\n",
    "nx.draw(G, pos, node_shape='s',  \n",
    "        node_color=[n[1]['color'] for n in nodes], \n",
    "        node_size=[len(n[0])*400 for n in nodes],  \n",
    "        with_labels=True);"
   ]
  },
  {
   "cell_type": "markdown",
   "id": "c6914782-7792-4483-a884-c0fbfe4198aa",
   "metadata": {},
   "source": [
    "### Log into resources"
   ]
  },
  {
   "cell_type": "markdown",
   "id": "c460d053-66e6-4bd3-9f80-112b0e31e811",
   "metadata": {},
   "source": [
    "Now, we are finally ready to log in to our resources over SSH! Run the following cells, and observe the table output - you will see an SSH command for each of the resources in your topology."
   ]
  },
  {
   "cell_type": "code",
   "execution_count": null,
   "id": "2e1c8eab-0d3b-4448-8b1d-18848e779e24",
   "metadata": {},
   "outputs": [],
   "source": [
    "import pandas as pd\n",
    "pd.set_option('display.max_colwidth', None)\n",
    "slice_info = [{'Name': n.get_name(), 'SSH command': n.get_ssh_command()} for n in slice.get_nodes()]\n",
    "pd.DataFrame(slice_info).set_index('Name')"
   ]
  },
  {
   "cell_type": "markdown",
   "id": "06c4d08f-041b-48ab-b0a2-bc84ca2d2aaa",
   "metadata": {},
   "source": [
    "Now, you can open an SSH session on any of the resources as follows:\n",
    "\n",
    "-   in Jupyter, from the menu bar, use File \\> New \\> Terminal to open a new terminal.\n",
    "-   copy an SSH command from the table, and paste it into the terminal. (Note that each SSH command is a single line, even if the display wraps the text to a second line! When you copy and paste it, paste it all together.)\n",
    "\n",
    "You can repeat this process (open several terminals) to start a session on each resource. Each terminal session will have a tab in the Jupyter environment, so that you can easily switch between them."
   ]
  },
  {
   "cell_type": "markdown",
   "id": "3969dc27-138c-4c58-b59d-29274447787d",
   "metadata": {},
   "source": [
    "### Delete your slice"
   ]
  },
  {
   "cell_type": "markdown",
   "id": "91661358-6b6b-4e7a-b219-fe6ce21c4cdd",
   "metadata": {},
   "source": [
    "When you finish your experiment, you should delete your slice! The following cells deletes all the resources in your slice, freeing them for other experimenters."
   ]
  },
  {
   "cell_type": "code",
   "execution_count": null,
   "id": "b0bb8ef9-31f6-49b1-908e-cfe34c13dbf7",
   "metadata": {},
   "outputs": [],
   "source": [
    "slice = fablib.get_slice(name=slice_name)\n",
    "fablib.delete_slice(slice_name)"
   ]
  },
  {
   "cell_type": "code",
   "execution_count": null,
   "id": "1a2f8992-0c68-407d-807a-c9b7919c0de9",
   "metadata": {},
   "outputs": [],
   "source": [
    "# slice should end up in \"Dead\" state\n",
    "# re-run this cell until you see it in \"Dead\" state\n",
    "slice.update()\n",
    "_ = slice.show()"
   ]
  }
 ],
 "metadata": {
  "language_info": {
   "name": "python"
  }
 },
 "nbformat": 4,
 "nbformat_minor": 5
}
