{
 "cells": [
  {
   "cell_type": "markdown",
   "metadata": {},
   "source": [
    "# Reserve and configure FABRIC resources for “setting a network of Autonomous systems”\n",
    "\n",
    "In the experiment setup, we try to emulate the real world network by designing a network of various autonomous systems spread across different sites available on FABRIC testbed.\n",
    "\n",
    "## Set up your FABRIC environment\n",
    "\n",
    "This assumes that you have already configured your FABRIC account and your Jupyter environment as described in [Hello, FABRIC](https://teaching-on-testbeds.github.io/blog/hello-fabric)."
   ],
   "id": "112f2422-fe71-4b3e-9108-016519b520b7"
  },
  {
   "cell_type": "code",
   "execution_count": null,
   "metadata": {},
   "outputs": [],
   "source": [
    "from fabrictestbed_extensions.fablib.fablib import FablibManager as fablib_manager\n",
    "fablib = fablib_manager() \n",
    "fablib.show_config()"
   ],
   "id": "0300b6ff-4e59-4801-89ce-6071d854a313"
  },
  {
   "cell_type": "code",
   "execution_count": null,
   "metadata": {},
   "outputs": [],
   "source": [
    "!chmod 600 {fablib.get_bastion_key_filename()}\n",
    "!chmod 600 {fablib.get_default_slice_private_key_file()}"
   ],
   "id": "75ca4fd9-f6d5-4710-b82f-d3c7c9ef7472"
  },
  {
   "cell_type": "markdown",
   "metadata": {},
   "source": [
    "## Create and submit a slice"
   ],
   "id": "184b8017-909c-4be3-832c-579e9580e758"
  },
  {
   "cell_type": "code",
   "execution_count": null,
   "metadata": {},
   "outputs": [],
   "source": [
    "slice_name=\"network-\"+ fablib.get_bastion_username()\n",
    "slice = fablib.new_slice(name=slice_name)"
   ],
   "id": "c7650218-3360-4c01-906f-6925e81a00c0"
  },
  {
   "cell_type": "markdown",
   "metadata": {},
   "source": [
    "### Set up the variables\n",
    "\n",
    "Next, we will set up the variables- number of autonomous sytems in the network, number of routers in each autonomous system, whether a system in CDN or not and the hops at which redundancy can be seen."
   ],
   "id": "c46ceac8-0e59-4447-b3eb-b365e16d7306"
  },
  {
   "cell_type": "code",
   "execution_count": null,
   "metadata": {},
   "outputs": [],
   "source": [
    "import random\n",
    "#number of routers in access network similar irrespective of cdn or not\n",
    "#redundancy_AS_1 parameter sets the hop at which redundant paths will be set\n",
    "hops_AS_1=random.randint(3,6)\n",
    "redundancy_AS_1=3\n",
    "\n",
    "# For cdn, define\n",
    "# number of autonomous systems including source and target AS (ranges between 2-4)\n",
    "# hops seen in destination network (ranges between 3-4)\n",
    "# hops seen in intermediate network (ranges bewteen 1-2)\n",
    "\n",
    "number_of_AS_cdn=random.randint(2,4)\n",
    "hops_final_AS_cdn=random.randint(3,4)\n",
    "max_hops_intermediate_cdn=3\n",
    "\n",
    "# For non CDN, define\n",
    "# number of autonomous systems including source and target AS (ranges between 3-5)\n",
    "# hops seen in destination network (ranges between 5-8)\n",
    "# hops seen in intermediate network (ranges bewteen 1-4)\n",
    "\n",
    "number_of_AS_not_cdn=random.randint(3,5)\n",
    "hops_final_AS_not_cdn=random.randint(5,8)\n",
    "max_hops_intermediate_not_cdn=4\n",
    "\n",
    "# Set cdn=True if CDN type opf network is required else False\n",
    "cdn=True\n",
    "sites=['NCSA', 'GATECH', 'WASH', 'GPN', 'INDI', 'SALT', 'CERN', 'MICH', 'DALL', 'STAR', 'EDC', 'PSC']"
   ],
   "id": "68015313-67aa-4c20-8289-20c90dba91bc"
  },
  {
   "cell_type": "markdown",
   "metadata": {},
   "source": [
    "Print all the parameters that were setup randomly."
   ],
   "id": "89bc5802-4bae-4960-a9da-82ce64e4a163"
  },
  {
   "cell_type": "code",
   "execution_count": null,
   "metadata": {},
   "outputs": [],
   "source": [
    "# Print all the parameters:\n",
    "print(\"Hops in first AS: \", hops_AS_1)\n",
    "print(\"Number of AS: \", number_of_AS_cdn if cdn else number_of_AS_not_cdn)\n",
    "print(\"Hops in final AS: \", hops_final_AS_cdn if cdn else hops_final_AS_not_cdn )"
   ],
   "id": "36c42319-03ef-4241-8aac-8fc71d9f1625"
  },
  {
   "cell_type": "markdown",
   "metadata": {},
   "source": [
    "### Set up the routers and networks\n",
    "\n",
    "First we will create a function that will generate an autonomous system along with the node configuration, net configuration, resource requirement data."
   ],
   "id": "925f2ed8-9da3-4080-ae02-fcb862ec0d5d"
  },
  {
   "cell_type": "code",
   "execution_count": null,
   "metadata": {},
   "outputs": [],
   "source": [
    "\n",
    "def create_AS(as_num, n_hops, r):\n",
    "    routers=[1]*min(r, n_hops) + [random.randint(2,3) for i in range(max(0, n_hops - r - 1))] + [1 for i in range(0,1) if n_hops!=r]\n",
    "    node_conf = [ {'name': \"as\" + str(as_num) + '-r-' + str(j) + '-' + str(i) ,\n",
    "        'cores': 8, 'ram': 16, 'disk': 25, 'image': 'default_ubuntu_22', 'packages': ['net-tools']}\n",
    "         for j,level in enumerate(routers) for i in range(level)]\n",
    "    r_mul=[0]+[routers[i-1]*routers[i] for i in range(1,len(routers))]\n",
    "    net_conf = [\n",
    "     {\"name\": \"as\"+str(as_num)+\"-net\"+str(j)+str(i)+\"-\"+str(j+1)+str(k), \"subnet\": \"10.\"+str(as_num)+\".\"+str(sum(r_mul[:j+1])+(routers[j+1]*i)+k+1)+\".0/24\", \n",
    "      \"nodes\": [{\"name\": \"as\"+str(as_num)+'-r-' + str(j) + '-' + str(i),   \"addr\": \"10.\"+str(as_num)+\".\"+str(sum(r_mul[:j+1])+(routers[j+1]*i)+k+1)+\".\"+str(1)} ]+ \n",
    "      [{\"name\": \"as\"+str(as_num)+'-r-' + str(j+1) + '-' + str(k),   \"addr\": \"10.\"+str(as_num)+\".\"+str(sum(r_mul[:j+1])+(routers[j+1]*i)+k+1)+\".\"+str(2)}]}\n",
    "            for j,level in enumerate(routers[:-1]) for i in range(level) for k in range(routers[j+1])]\n",
    "    exp_conf = {'cores': sum([ n['cores'] for n in node_conf]), 'nic': sum([len(n['nodes'])+2 for n in net_conf]) }\n",
    "    return [routers, node_conf, net_conf, exp_conf]\n"
   ],
   "id": "9e4b3cd6-269f-4c71-bfea-a1ef0e889527"
  },
  {
   "cell_type": "markdown",
   "metadata": {},
   "source": [
    "Next, we will call create_AS() function to generate the number of autonomous systems which was defined in one of the previous cell."
   ],
   "id": "3f8b3a86-910f-4a05-bd66-ca4b52a27037"
  },
  {
   "cell_type": "code",
   "execution_count": null,
   "metadata": {},
   "outputs": [],
   "source": [
    "if cdn:\n",
    "    number_of_AS=number_of_AS_cdn\n",
    "    hops_final_AS=hops_final_AS_cdn\n",
    "    max_hops_intermediate=max_hops_intermediate_cdn\n",
    "    \n",
    "else:    \n",
    "    number_of_AS=number_of_AS_not_cdn\n",
    "    hops_final_AS=hops_final_AS_not_cdn\n",
    "    max_hops_intermediate=max_hops_intermediate_not_cdn\n",
    "\n",
    "\n",
    "# set up the number of routers in first AS\n",
    "\n",
    "data_routers=[create_AS(0, hops_AS_1, redundancy_AS_1)]\n",
    "\n",
    "  \n",
    "# set up the number of routers in intermediate AS\n",
    "# hops in intermediate AS is randomly selected between 1 and max_hops_intermediate value\n",
    "# redundant path can start at any value between 2nd hop and hops_intermediate-1 in the intermediate AS\n",
    "\n",
    "for i in range(1, number_of_AS-1):\n",
    "    hops_intermediate=random.randint(1,max_hops_intermediate)\n",
    "    print(hops_intermediate)\n",
    "    data_routers+=[create_AS(i, hops_intermediate, r=random.randint(1,hops_intermediate))]\n",
    "\n",
    "# set up the number of routers in Destination AS\n",
    "# redundant path can start at any value between 2nd hop and hops_final_AS-1 in the destination AS\n",
    "data_routers+=[create_AS(number_of_AS-1, hops_final_AS, random.randint(1,hops_final_AS))]\n"
   ],
   "id": "ab6a6bb1-c4f5-44e9-b66a-e0d83dea8dbd"
  },
  {
   "cell_type": "code",
   "execution_count": null,
   "metadata": {},
   "outputs": [],
   "source": [
    "node_conf = [node for as_conf in data_routers for node in as_conf[1]]\n",
    "node_conf"
   ],
   "id": "a48be20a-3bd8-491c-abbf-ad4eb162ff52"
  },
  {
   "cell_type": "code",
   "execution_count": null,
   "metadata": {},
   "outputs": [],
   "source": [
    "net_conf = [net for as_conf in data_routers for net in as_conf[2]]\n",
    "net_conf"
   ],
   "id": "1408bd20-12bc-4770-885b-ba49656b1ff2"
  },
  {
   "cell_type": "code",
   "execution_count": null,
   "metadata": {},
   "outputs": [],
   "source": [
    "# as_net_conf=[{\"net-name\":\"ext-net\"+str(i)+\"-\"+str(i+1), \"subnet\": \"100.\"+str(i)+\".\"+str(i+1)+\".0/24\",\n",
    "#               \"nodes\": [{\"name\":r[1][-1]['name'], \"addr\":\"100.\"+str(i)+\".\"+str(i+1)+\".1\"}]+\n",
    "#               [{\"name\":data_routers[i+1][1][0]['name'], \"addr\":\"100.\"+str(i)+\".\"+str(i+1)+\".2\"}]}\n",
    "#               for i, r in enumerate(data_routers[:-1])]\n",
    "\n",
    "\n",
    "as_net_conf=[{\"net-name\":\"ext-net\"+str(i)+\"-\"+str(i+1), \"subnet\": \"192.168.\"+str(i+1)+str(i)+\".0/24\",\n",
    "              \"nodes\": [{\"name\":r[1][-1]['name'], \"addr\":\"192.168.\"+str(i+1)+str(i)+\".1\"}]+\n",
    "              [{\"name\":data_routers[i+1][1][0]['name'], \"addr\":\"192.168.\"+str(i+1)+str(i)+\".2\"}]}\n",
    "              for i, r in enumerate(data_routers[:-1])]\n"
   ],
   "id": "3d459e58-fa2d-482e-af6f-cdea5b272b1c"
  },
  {
   "cell_type": "code",
   "execution_count": null,
   "metadata": {},
   "outputs": [],
   "source": [
    "as_net_conf"
   ],
   "id": "b2881abc-d978-45b9-bf08-91fb9bcfdb26"
  },
  {
   "cell_type": "markdown",
   "metadata": {},
   "source": [
    "### Reserve resources\n",
    "\n",
    "Now we will get a list of sites that has sufficient resources for the experiment."
   ],
   "id": "16755787-6c63-4826-951e-14e082d3ebe2"
  },
  {
   "cell_type": "code",
   "execution_count": null,
   "metadata": {},
   "outputs": [],
   "source": [
    "\n",
    "# Get the sites\n",
    "as_sites = []\n",
    "for i,r in enumerate(data_routers):   \n",
    "    while True:\n",
    "        site_name = fablib.get_random_site(avoid=sites + as_sites)\n",
    "        if ( (fablib.resources.get_core_available(site_name) > 1.2*r[3]['cores']) and\n",
    "            (fablib.resources.get_component_available(site_name, 'SharedNIC-ConnectX-6') > 1.2**r[3]['nic']) ):\n",
    "            break\n",
    "\n",
    "    print(f\"AS {i} will use {site_name}\")\n",
    "    #fablib.show_site(site_name)\n",
    "    as_sites.append(site_name)\n"
   ],
   "id": "c14ece01-e191-4fcf-99ed-afc0ecb0fd39"
  },
  {
   "cell_type": "code",
   "execution_count": null,
   "metadata": {},
   "outputs": [],
   "source": [
    "print(as_sites)"
   ],
   "id": "ba3b9ff2-a821-4e5a-88e0-18f935e78b91"
  },
  {
   "cell_type": "markdown",
   "metadata": {},
   "source": [
    "Then we will add hosts and network segments"
   ],
   "id": "b072a73b-6f7b-48fb-8e7a-7a60e7e1f9e3"
  },
  {
   "cell_type": "code",
   "execution_count": null,
   "metadata": {},
   "outputs": [],
   "source": [
    "for i,r in enumerate(data_routers):\n",
    "     for rtr in r[1]: # iterate over the nodes_conf for this AS\n",
    "        slice.add_node(name=rtr['name'], site=as_sites[i], \n",
    "                       cores=rtr['cores'], \n",
    "                       ram=rtr['ram'], \n",
    "                       disk=rtr['disk'], \n",
    "                       image=rtr['image'])"
   ],
   "id": "9be5010c-1444-4ae1-9e84-9f36b3dfc580"
  },
  {
   "cell_type": "code",
   "execution_count": null,
   "metadata": {},
   "outputs": [],
   "source": [
    "print(slice.list_nodes())"
   ],
   "id": "cffc2d59-96e4-432e-929c-0c0bb833698f"
  },
  {
   "cell_type": "code",
   "execution_count": null,
   "metadata": {},
   "outputs": [],
   "source": [
    "# this cell sets up the network links \n",
    "for i,r in enumerate(data_routers):\n",
    "     for net in r[2]: # iterate over net_conf for each AS\n",
    "        ifaces = [slice.get_node(node[\"name\"]).add_component(model=\"NIC_Basic\", \n",
    "                                                     name=net[\"name\"]).get_interfaces()[0] for node in net['nodes'] ]\n",
    "        slice.add_l2network(name=net[\"name\"], type='L2Bridge', interfaces=ifaces)\n",
    "\n",
    "for i,r in enumerate(as_net_conf):\n",
    "    iface1 = slice.get_node(r['nodes'][0]['name']).add_component(model='NIC_Basic', name=r['net-name']).get_interfaces()[0]\n",
    "    iface2 = slice.get_node(r['nodes'][1]['name']).add_component(model='NIC_Basic', name=r['net-name']).get_interfaces()[0]\n",
    "    slice.add_l2network(name=r['net-name'], interfaces=[iface1, iface2])"
   ],
   "id": "5194c0f9-35ba-4768-b1a3-4707d4e4e691"
  },
  {
   "cell_type": "markdown",
   "metadata": {},
   "source": [
    "The following cell submits our request to the FABRIC site. The output of this cell will update automatically as the status of our request changes. While it is being prepared, the “State” of the slice will appear as “Configuring”. When it is ready, the “State” of the slice will change to “StableOK”."
   ],
   "id": "c897b46a-64f8-4cb1-b9f2-57668c06f09e"
  },
  {
   "cell_type": "code",
   "execution_count": null,
   "metadata": {},
   "outputs": [],
   "source": [
    "slice.submit()"
   ],
   "id": "2ea97b01-5552-432e-a9e4-cd6a623e5b91"
  },
  {
   "cell_type": "code",
   "execution_count": null,
   "metadata": {},
   "outputs": [],
   "source": [
    "slice.get_state()\n",
    "slice.wait_ssh(progress=True)"
   ],
   "id": "83d9a152-bb58-4d94-a45a-7146bba94e29"
  },
  {
   "cell_type": "markdown",
   "metadata": {},
   "source": [
    "### Configure resources\n",
    "\n",
    "Next, we will configure the resources so they are ready to use."
   ],
   "id": "8ef7bcbf-5dbf-464b-96c9-3a49f9704d00"
  },
  {
   "cell_type": "code",
   "execution_count": null,
   "metadata": {},
   "outputs": [],
   "source": [
    "slice = fablib.get_slice(name=slice_name)"
   ],
   "id": "d9199750-9c05-4ba0-803e-3443ea06e60a"
  },
  {
   "cell_type": "code",
   "execution_count": null,
   "metadata": {},
   "outputs": [],
   "source": [
    "# install packages\n",
    "# this will take a while and will run in background while you do other steps\n",
    "for n in node_conf:\n",
    "    if len(n['packages']):\n",
    "        node = slice.get_node(n['name'])\n",
    "        pkg = \" \".join(n['packages'])\n",
    "        node.execute_thread(\"sudo apt update; sudo apt -y install %s\" % pkg)"
   ],
   "id": "bcca0bb3-72e6-4a44-8fd4-c73e35d972fe"
  },
  {
   "cell_type": "code",
   "execution_count": null,
   "metadata": {},
   "outputs": [],
   "source": [
    "# bring interfaces up and either assign an address (if there is one) or flush address\n",
    "from ipaddress import ip_address, IPv4Address, IPv4Network\n",
    "\n",
    "for net in net_conf:\n",
    "    for n in net['nodes']:\n",
    "        if_name = n['name'] + '-' + net['name'] + '-p1'\n",
    "        iface = slice.get_interface(if_name)\n",
    "        iface.ip_link_up()\n",
    "        if n['addr']:\n",
    "            iface.ip_addr_add(addr=n['addr'], subnet=IPv4Network(net['subnet']))\n",
    "        else:\n",
    "            iface.get_node().execute(\"sudo ip addr flush dev %s\"  % iface.get_device_name())"
   ],
   "id": "0ccd6b6d-aa7b-471b-9c17-bb88fc520b44"
  },
  {
   "cell_type": "code",
   "execution_count": null,
   "metadata": {},
   "outputs": [],
   "source": [
    "# prepare a \"hosts\" file that has names and addresses of every node\n",
    "hosts_txt = [ \"%s\\t%s\" % ( n['addr'], n['name'] ) for net in net_conf  for n in net['nodes'] if type(n) is dict and n['addr']]\n",
    "for n in slice.get_nodes():\n",
    "    for h in hosts_txt:\n",
    "        n.execute(\"echo %s | sudo tee -a /etc/hosts\" % h)"
   ],
   "id": "14962839-b10a-49d1-b480-be65f876b9ad"
  },
  {
   "cell_type": "code",
   "execution_count": null,
   "metadata": {},
   "outputs": [],
   "source": [
    "# enable IPv4 forwarding on all nodes\n",
    "for n in slice.get_nodes():\n",
    "    n.execute(\"sudo sysctl -w net.ipv4.ip_forward=1\")"
   ],
   "id": "a744d125-2d5d-41a6-a67a-5420f7ffccdf"
  },
  {
   "cell_type": "code",
   "execution_count": null,
   "metadata": {},
   "outputs": [],
   "source": [
    "# set up static routes\n",
    "for rt in route_conf:\n",
    "    for n in rt['nodes']:\n",
    "        slice.get_node(name=n).ip_route_add(subnet=IPv4Network(rt['addr']), gateway=rt['gw'])"
   ],
   "id": "011a5099-6c93-42e5-92c8-404e1e062d17"
  },
  {
   "cell_type": "code",
   "execution_count": null,
   "metadata": {},
   "outputs": [],
   "source": [
    "# bring interfaces up and either assign an address (if there is one) or flush address\n",
    "from ipaddress import ip_address, IPv4Address, IPv4Network\n",
    "\n",
    "for as_net in as_net_conf:\n",
    "    for n in as_net['nodes']:\n",
    "        if_name = n['name'] + '-' + as_net['net-name'] + '-p1'\n",
    "        iface = slice.get_interface(if_name)\n",
    "        iface.ip_link_up()\n",
    "        if n['addr']:\n",
    "            iface.ip_addr_add(addr=n['addr'], subnet=IPv4Network(as_net['subnet']))\n",
    "        else:\n",
    "            iface.get_node().execute(\"sudo ip addr flush dev %s\"  % iface.get_device_name())"
   ],
   "id": "abaaf538-c51a-4eb5-aad0-11c9783af091"
  },
  {
   "cell_type": "markdown",
   "metadata": {},
   "source": [
    "### Set up the routes\n",
    "\n",
    "We will then install FRR routing software on all of the routers, and then configure to use OSPF as their internal routing protocol."
   ],
   "id": "02b43ea1-1244-4b95-9b8d-a7dc44d34d0b"
  },
  {
   "cell_type": "code",
   "execution_count": null,
   "metadata": {},
   "outputs": [],
   "source": [
    "router_nodes=[slice.get_node(name=r['name']) for r in node_conf]\n"
   ],
   "id": "f55e9312-9e76-49b5-93b2-77f965265084"
  },
  {
   "cell_type": "code",
   "execution_count": null,
   "metadata": {},
   "outputs": [],
   "source": [
    "\n",
    "for n in router_nodes:\n",
    "    n.execute(\"curl -s https://deb.frrouting.org/frr/keys.asc | sudo apt-key add -\")\n",
    "    n.execute(\"echo deb https://deb.frrouting.org/frr $(lsb_release -s -c) frr-stable | sudo tee -a /etc/apt/sources.list.d/frr.list\")\n",
    "    n.execute(\"sudo apt update\")\n",
    "    n.execute(\"sudo apt -y install frr frr-pythontools nload\")\n",
    "    n.execute(\"sudo sed -i 's/ospfd=no/ospfd=yes/g' /etc/frr/daemons\")\n",
    "    n.execute(\"sudo sed -i 's/bgpd=no/bgpd=yes/g' /etc/frr/daemons\")\n",
    "    n.execute(\"sudo systemctl restart frr.service\")    "
   ],
   "id": "434ccd6e-e9f6-4a0f-9367-9c08f0d51127"
  },
  {
   "cell_type": "code",
   "execution_count": null,
   "metadata": {},
   "outputs": [],
   "source": [
    "\n",
    "for n in router_nodes:\n",
    "    n.execute(\"sudo vtysh -E -c'configure terminal\\nrouter ospf\\nnetwork 10.\"+n.get_name()[2]+\".0.0/16 area 0.0.0.0\\n exit\\n exit\\n exit'  \")    "
   ],
   "id": "eb0a23cf-ba77-4de0-b34b-7bbc19c63b93"
  },
  {
   "cell_type": "code",
   "execution_count": null,
   "metadata": {},
   "outputs": [],
   "source": [
    "\n",
    "for n in router_nodes:\n",
    "    n.execute(\"sudo vtysh -E -c 'show ip route\\nexit'\")   "
   ],
   "id": "6989a8ac-35bb-44b0-8bce-f669074786cd"
  },
  {
   "cell_type": "markdown",
   "metadata": {},
   "source": [
    "Validate the routing by running ping across the network"
   ],
   "id": "f7d180b4-8ace-475e-9339-55756b450460"
  },
  {
   "cell_type": "code",
   "execution_count": null,
   "metadata": {},
   "outputs": [],
   "source": [
    "for r in data_routers:\n",
    "    print([i['addr'] for i in r[2][-1]['nodes']])\n",
    "    [(slice.get_node(name=r[1][0]['name']).execute(\"ping -c 5 \"+i['addr'] +\" | grep rtt\")) for i in r[2][-1]['nodes']]  "
   ],
   "id": "f3ca0cfa-02ca-4ccc-96b1-105dccbdbebd"
  },
  {
   "cell_type": "markdown",
   "metadata": {},
   "source": [
    "Setup BGP as the exterior routing protocol:"
   ],
   "id": "b69a7ce6-fad5-4dec-b555-08150494852a"
  },
  {
   "cell_type": "code",
   "execution_count": null,
   "metadata": {},
   "outputs": [],
   "source": [
    "for i, as_net in enumerate(as_net_conf):\n",
    "    nodes=[slice.get_node(name=r['name']) for r in as_net['nodes']]\n",
    "    print(as_net['nodes'][1])\n",
    "   \n",
    "    for node_num, n in enumerate(nodes):\n",
    "        n.execute(\"sudo vtysh -E -c'configure terminal\\nrouter bgp \"+str(i+node_num+1)+ \"00\\nno bgp ebgp-requires-policy\\nno bgp network import-check\\nneighbor \"+ as_net['nodes'][(node_num+1)%2]['addr']+ \" remote-as \" + str((1+node_num)%2+i+1) +\"00\\nredistribute ospf\\nexit\\nrouter ospf\\nredistribute bgp\\nredistribute connected\\nexit\\n exit'  \")  \n",
    "        "
   ],
   "id": "9c19961c-7bd0-400f-8207-c97d56ebef57"
  },
  {
   "cell_type": "markdown",
   "metadata": {},
   "source": [
    "Validate the external routing by running ping across the network from first AS to last AS"
   ],
   "id": "f465207c-c24c-41f2-bd76-48544e6214c1"
  },
  {
   "cell_type": "code",
   "execution_count": null,
   "metadata": {},
   "outputs": [],
   "source": [
    "[(slice.get_node(name=net_conf[0]['nodes'][0]['name']).execute(\"ping -c 5 \"+i['addr'])) for i in net_conf[-1]['nodes']]"
   ],
   "id": "b4cb550f-0655-4d1d-abd4-744d49b3b218"
  },
  {
   "cell_type": "markdown",
   "metadata": {},
   "source": [
    "#### Draw the network topology"
   ],
   "id": "b4914741-5975-421c-b441-270340ca40a6"
  },
  {
   "cell_type": "markdown",
   "metadata": {},
   "source": [
    "The following cell will draw the network topology, for your reference."
   ],
   "id": "314da444-0b3a-4a52-bac0-3bc318209cf3"
  },
  {
   "cell_type": "code",
   "execution_count": null,
   "metadata": {},
   "outputs": [],
   "source": [
    "l2_nets = [(n.get_name(), {'color': 'lavender'}) for n in slice.get_l2networks() ]\n",
    "l3_nets = [(n.get_name(), {'color': 'pink'}) for n in slice.get_l3networks() ]\n",
    "hosts   =   [(n.get_name(), {'color': 'lightblue'}) for n in slice.get_nodes()]\n",
    "nodes = l2_nets + l3_nets + hosts\n",
    "ifaces = [iface.toDict() for iface in slice.get_interfaces()]\n",
    "edges = [(iface['network'], iface['node']) for iface in ifaces]"
   ],
   "id": "cce71cb7-3554-4a23-aec8-bec9248d4352"
  },
  {
   "cell_type": "code",
   "execution_count": null,
   "metadata": {},
   "outputs": [],
   "source": [
    "import networkx as nx\n",
    "import matplotlib.pyplot as plt\n",
    "plt.figure(figsize=(len(nodes),len(nodes)))\n",
    "G = nx.Graph()\n",
    "G.add_nodes_from(nodes)\n",
    "G.add_edges_from(edges)\n",
    "pos = nx.spring_layout(G)\n",
    "nx.draw(G, pos, node_shape='s',  \n",
    "        node_color=[n[1]['color'] for n in nodes], \n",
    "        node_size=[len(n[0])*400 for n in nodes],  \n",
    "        with_labels=True);"
   ],
   "id": "9dd916af-ff1c-4651-b165-7aff5117768b"
  },
  {
   "cell_type": "markdown",
   "metadata": {},
   "source": [
    "### Log into resources"
   ],
   "id": "1e272569-2cbe-478e-a384-4d31f980dda8"
  },
  {
   "cell_type": "markdown",
   "metadata": {},
   "source": [
    "Now, we are finally ready to log in to our resources over SSH! Run the following cells, and observe the table output - you will see an SSH command for each of the resources in your topology."
   ],
   "id": "17670dfb-ebc2-42bb-b4d9-a4984a143845"
  },
  {
   "cell_type": "code",
   "execution_count": null,
   "metadata": {},
   "outputs": [],
   "source": [
    "import pandas as pd\n",
    "pd.set_option('display.max_colwidth', None)\n",
    "slice_info = [{'Name': n.get_name(), 'SSH command': n.get_ssh_command()} for n in slice.get_nodes()]\n",
    "pd.DataFrame(slice_info).set_index('Name')"
   ],
   "id": "45d3fc4c-191e-4028-bc38-59397c935dff"
  },
  {
   "cell_type": "markdown",
   "metadata": {},
   "source": [
    "Now, you can open an SSH session on any of the resources as follows:\n",
    "\n",
    "-   in Jupyter, from the menu bar, use File \\> New \\> Terminal to open a new terminal.\n",
    "-   copy an SSH command from the table, and paste it into the terminal. (Note that each SSH command is a single line, even if the display wraps the text to a second line! When you copy and paste it, paste it all together.)\n",
    "\n",
    "You can repeat this process (open several terminals) to start a session on each resource. Each terminal session will have a tab in the Jupyter environment, so that you can easily switch between them."
   ],
   "id": "0a5adbfe-d409-44d7-b031-7dd40272213c"
  },
  {
   "cell_type": "markdown",
   "metadata": {},
   "source": [
    "### Delete your slice"
   ],
   "id": "049ffa14-6d26-462a-80e3-2f44181a2765"
  },
  {
   "cell_type": "markdown",
   "metadata": {},
   "source": [
    "When you finish your experiment, you should delete your slice! The following cells deletes all the resources in your slice, freeing them for other experimenters."
   ],
   "id": "d42b597a-93c3-4768-8b98-94a6a1342bff"
  },
  {
   "cell_type": "code",
   "execution_count": null,
   "metadata": {},
   "outputs": [],
   "source": [
    "slice = fablib.get_slice(name=slice_name)\n",
    "fablib.delete_slice(slice_name)"
   ],
   "id": "e69662af-0ffa-4538-8782-21760c2a427b"
  },
  {
   "cell_type": "code",
   "execution_count": null,
   "metadata": {},
   "outputs": [],
   "source": [
    "# slice should end up in \"Dead\" state\n",
    "# re-run this cell until you see it in \"Dead\" state\n",
    "slice.update()\n",
    "_ = slice.show()"
   ],
   "id": "9c2544f4-e03a-4077-b907-fad921b383dd"
  }
 ],
 "nbformat": 4,
 "nbformat_minor": 5,
 "metadata": {}
}
