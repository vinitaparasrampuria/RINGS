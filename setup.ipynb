{
 "cells": [
  {
   "cell_type": "markdown",
   "metadata": {},
   "source": [
    "# Reserve and configure FABRIC resources for “setting a network of Autonomous systems”\n",
    "\n",
    "In the experiment setup, we try to emulate the real world network by designing a network of various autonomous systems spread across different sites available on FABRIC testbed.\n",
    "\n",
    "## Set up your FABRIC environment\n",
    "\n",
    "This assumes that you have already configured your FABRIC account and your Jupyter environment as described in [Hello, FABRIC](https://teaching-on-testbeds.github.io/blog/hello-fabric)."
   ],
   "id": "48bc7f05-430b-465c-a582-93c76340a46d"
  },
  {
   "cell_type": "code",
   "execution_count": null,
   "metadata": {},
   "outputs": [],
   "source": [
    "from fabrictestbed_extensions.fablib.fablib import FablibManager as fablib_manager\n",
    "fablib = fablib_manager() \n",
    "fablib.show_config()"
   ],
   "id": "76b32b70-9a57-4369-b352-fc5451d491ad"
  },
  {
   "cell_type": "code",
   "execution_count": null,
   "metadata": {},
   "outputs": [],
   "source": [
    "!chmod 600 {fablib.get_bastion_key_filename()}\n",
    "!chmod 600 {fablib.get_default_slice_private_key_file()}"
   ],
   "id": "b2a9599d-339a-4999-905c-22e783417283"
  },
  {
   "cell_type": "markdown",
   "metadata": {},
   "source": [
    "## Create and submit a slice"
   ],
   "id": "73ca2e37-8222-40a5-9f01-c453c22d4d02"
  },
  {
   "cell_type": "code",
   "execution_count": null,
   "metadata": {},
   "outputs": [],
   "source": [
    "slice_name=\"network-\"+ fablib.get_bastion_username()\n",
    "slice = fablib.new_slice(name=slice_name)"
   ],
   "id": "682adedd-b358-4ddb-a56a-cb194fe60052"
  },
  {
   "cell_type": "markdown",
   "metadata": {},
   "source": [
    "### Set up the variables\n",
    "\n",
    "Next, we will set up the variables- number of autonomous sytems in the network, number of routers in each autonomous system, whether a system in CDN or not and the hops at which redundancy can be seen."
   ],
   "id": "38eecf7b-0761-4e85-944c-b94285b8b1e0"
  },
  {
   "cell_type": "code",
   "execution_count": null,
   "metadata": {},
   "outputs": [],
   "source": [
    "# install packages\n",
    "# this will take a while and will run in background while you do other steps\n",
    "import random\n",
    "#number of routers in access network similar irrespective of cdn or not\n",
    "#redundancy_AS_1 parameter sets the hop at which redundant paths will be set\n",
    "hops_AS_1=random.randint(3,6)\n",
    "redundancy_AS_1=3\n",
    "\n",
    "# For cdn, define\n",
    "# number of autonomous systems including source and target AS (ranges between 2-4)\n",
    "# hops seen in destination network (ranges between 3-4)\n",
    "# hops seen in intermediate network (ranges bewteen 1-2)\n",
    "\n",
    "number_of_AS_cdn=random.randint(2,4)\n",
    "hops_final_AS_cdn=random.randint(3,4)\n",
    "max_hops_intermediate_cdn=3\n",
    "\n",
    "# For non CDN, define\n",
    "# number of autonomous systems including source and target AS (ranges between 3-5)\n",
    "# hops seen in destination network (ranges between 5-8)\n",
    "# hops seen in intermediate network (ranges bewteen 1-4)\n",
    "\n",
    "number_of_AS_not_cdn=random.randint(3,5)\n",
    "hops_final_AS_not_cdn=random.randint(5,8)\n",
    "max_hops_intermediate_not_cdn=4\n",
    "\n",
    "# Set cdn=True if CDN type opf network is required else False\n",
    "cdn=True\n",
    "sites=['NCSA', 'GATECH', 'WASH', 'GPN', 'INDI', 'SALT', 'CERN', 'MICH', 'DALL', 'STAR', 'EDC', 'PSC']"
   ],
   "id": "db5f02e2-3942-4a75-83fc-847cbc8353c6"
  },
  {
   "cell_type": "markdown",
   "metadata": {},
   "source": [
    "Print all the parameters that were setup randomly."
   ],
   "id": "319c0700-edd0-43d2-8e74-779c9785a19d"
  },
  {
   "cell_type": "code",
   "execution_count": null,
   "metadata": {},
   "outputs": [],
   "source": [
    "# Print all the parameters:\n",
    "print(\"Hops in first AS: \", hops_AS_1)\n",
    "print(\"Number of AS: \", number_of_AS_cdn if cdn else number_of_AS_not_cdn)\n",
    "print(\"Hops in final AS: \", hops_final_AS_cdn if cdn else hops_final_AS_not_cdn )"
   ],
   "id": "cd9f35ca-ceee-4afb-82fe-ded2ac5cfdf6"
  },
  {
   "cell_type": "markdown",
   "metadata": {},
   "source": [
    "### Set up the routers and networks\n",
    "\n",
    "First we will create a function that will generate an autonomous system along with the node configuration, net configuration, resource requirement data."
   ],
   "id": "0eaf55ce-10ae-4fee-a210-12419a418746"
  },
  {
   "cell_type": "code",
   "execution_count": null,
   "metadata": {},
   "outputs": [],
   "source": [
    "\n",
    "def create_AS(as_num, n_hops, r):\n",
    "    routers=[1]*min(r, n_hops) + [random.randint(2,3) for i in range(max(0, n_hops - r - 1))] + [1 for i in range(0,1) if n_hops!=r]\n",
    "    node_conf = [ {'name': \"as\" + str(as_num) + '-r-' + str(j) + '-' + str(i) ,\n",
    "        'cores': 8, 'ram': 16, 'disk': 25, 'image': 'default_ubuntu_22', 'packages': ['net-tools']}\n",
    "         for j,level in enumerate(routers) for i in range(level)]\n",
    "    r_mul=[0]+[routers[i-1]*routers[i] for i in range(1,len(routers))]\n",
    "    net_conf = [\n",
    "     {\"name\": \"as\"+str(as_num)+\"-net\"+str(j)+str(i)+\"-\"+str(j+1)+str(k), \"subnet\": \"10.\"+str(as_num)+\".\"+str(sum(r_mul[:j+1])+(routers[j+1]*i)+k+1)+\".0/24\", \n",
    "      \"nodes\": [{\"name\": \"as\"+str(as_num)+'-r-' + str(j) + '-' + str(i),   \"addr\": \"10.\"+str(as_num)+\".\"+str(sum(r_mul[:j+1])+(routers[j+1]*i)+k+1)+\".\"+str(1)} ]+ \n",
    "      [{\"name\": \"as\"+str(as_num)+'-r-' + str(j+1) + '-' + str(k),   \"addr\": \"10.\"+str(as_num)+\".\"+str(sum(r_mul[:j+1])+(routers[j+1]*i)+k+1)+\".\"+str(2)}]}\n",
    "            for j,level in enumerate(routers[:-1]) for i in range(level) for k in range(routers[j+1])]\n",
    "    exp_conf = {'cores': sum([ n['cores'] for n in node_conf]), 'nic': sum([len(n['nodes']) for n in net_conf]) }\n",
    "    return [routers, node_conf, net_conf, exp_conf]\n"
   ],
   "id": "6f8e4170-255e-4485-8df3-bc9541a7cdf8"
  },
  {
   "cell_type": "markdown",
   "metadata": {},
   "source": [
    "Next, we will call create_AS() function to generate the number of autonomous systems which was defined in one of the previous cell."
   ],
   "id": "7ff852c4-7de9-4f99-a2f4-c05036054903"
  },
  {
   "cell_type": "code",
   "execution_count": null,
   "metadata": {},
   "outputs": [],
   "source": [
    "if cdn:\n",
    "    number_of_AS=number_of_AS_cdn\n",
    "    hops_final_AS=hops_final_AS_cdn\n",
    "    max_hops_intermediate=max_hops_intermediate_cdn\n",
    "    \n",
    "else:    \n",
    "    number_of_AS=number_of_AS_not_cdn\n",
    "    hops_final_AS=hops_final_AS_not_cdn\n",
    "    max_hops_intermediate=max_hops_intermediate_not_cdn\n",
    "\n",
    "\n",
    "# set up the number of routers in first AS\n",
    "\n",
    "data_routers=[create_AS(0, hops_AS_1, redundancy_AS_1)]\n",
    "\n",
    "  \n",
    "# set up the number of routers in intermediate AS\n",
    "# hops in intermediate AS is randomly selected between 1 and max_hops_intermediate value\n",
    "# redundant path can start at any value between 2nd hop and hops_intermediate-1 in the intermediate AS\n",
    "\n",
    "for i in range(1, number_of_AS-1):\n",
    "    hops_intermediate=random.randint(1,max_hops_intermediate)\n",
    "    print(hops_intermediate)\n",
    "    data_routers+=[create_AS(i, hops_intermediate, r=random.randint(1,hops_intermediate))]\n",
    "\n",
    "# set up the number of routers in Destination AS\n",
    "# redundant path can start at any value between 2nd hop and hops_final_AS-1 in the destination AS\n",
    "data_routers+=[create_AS(number_of_AS-1, hops_final_AS, random.randint(1,hops_final_AS))]\n"
   ],
   "id": "532fd055-e663-4526-bc38-b4aef0f81eb3"
  },
  {
   "cell_type": "code",
   "execution_count": null,
   "metadata": {},
   "outputs": [],
   "source": [
    "node_conf = [node for as_conf in data_routers for node in as_conf[1]]\n",
    "node_conf"
   ],
   "id": "6062b73b-b225-49d7-b38b-d8fad62fe26f"
  },
  {
   "cell_type": "code",
   "execution_count": null,
   "metadata": {},
   "outputs": [],
   "source": [
    "net_conf = [net for as_conf in data_routers for net in as_conf[2]]\n",
    "net_conf"
   ],
   "id": "4fdd5791-b672-4ac6-8c5a-ac424ec2687b"
  },
  {
   "cell_type": "markdown",
   "metadata": {},
   "source": [
    "### Reserve resources\n",
    "\n",
    "Now we will get a list of sites that has sufficient resources for the experiment."
   ],
   "id": "1036dab0-10d5-4550-910a-66fb90a6fa1d"
  },
  {
   "cell_type": "code",
   "execution_count": null,
   "metadata": {},
   "outputs": [],
   "source": [
    "\n",
    "# Get the sites\n",
    "as_sites = []\n",
    "for i,r in enumerate(data_routers):   \n",
    "    while True:\n",
    "        site_name = fablib.get_random_site(avoid=sites + as_sites)\n",
    "        if ( (fablib.resources.get_core_available(site_name) > 1.2*r[3]['cores']) and\n",
    "            (fablib.resources.get_component_available(site_name, 'SharedNIC-ConnectX-6') > 1.2**r[3]['nic']) ):\n",
    "            break\n",
    "\n",
    "    print(f\"AS {i} will use {site_name}\")\n",
    "    #fablib.show_site(site_name)\n",
    "    as_sites.append(site_name)\n"
   ],
   "id": "4ff2355b-2fd5-417d-bfa9-acdcaf8a4ab1"
  },
  {
   "cell_type": "code",
   "execution_count": null,
   "metadata": {},
   "outputs": [],
   "source": [
    "print(as_sites)"
   ],
   "id": "9ef61058-97f9-4e9b-95e5-069ed198e213"
  },
  {
   "cell_type": "markdown",
   "metadata": {},
   "source": [
    "Then we will add hosts and network segments"
   ],
   "id": "abae4e0e-f036-449b-9aad-d0755b11a5ee"
  },
  {
   "cell_type": "code",
   "execution_count": null,
   "metadata": {},
   "outputs": [],
   "source": [
    "for i,r in enumerate(data_routers):\n",
    "     for rtr in r[1]: # iterate over the nodes_conf for this AS\n",
    "        slice.add_node(name=rtr['name'], site=as_sites[i], \n",
    "                       cores=rtr['cores'], \n",
    "                       ram=rtr['ram'], \n",
    "                       disk=rtr['disk'], \n",
    "                       image=rtr['image'])"
   ],
   "id": "1497b28d-442c-4b79-aa81-2528f5e44cbd"
  },
  {
   "cell_type": "code",
   "execution_count": null,
   "metadata": {},
   "outputs": [],
   "source": [
    "print(slice.list_nodes())"
   ],
   "id": "87ad7fcb-e0cd-48e4-b6e0-261e695e86e3"
  },
  {
   "cell_type": "code",
   "execution_count": null,
   "metadata": {},
   "outputs": [],
   "source": [
    "# this cell sets up the network links \n",
    "for i,r in enumerate(data_routers):\n",
    "     for net in r[2]: # iterate over net_conf for each AS\n",
    "        ifaces = [slice.get_node(node[\"name\"]).add_component(model=\"NIC_Basic\", \n",
    "                                                     name=net[\"name\"]).get_interfaces()[0] for node in net['nodes'] ]\n",
    "        slice.add_l2network(name=net[\"name\"], type='L2Bridge', interfaces=ifaces)"
   ],
   "id": "32d8677a-d5c4-4a4d-ac6a-9d94b8a27f1c"
  },
  {
   "cell_type": "markdown",
   "metadata": {},
   "source": [
    "The following cell submits our request to the FABRIC site. The output of this cell will update automatically as the status of our request changes. While it is being prepared, the “State” of the slice will appear as “Configuring”. When it is ready, the “State” of the slice will change to “StableOK”."
   ],
   "id": "cffdaf23-d90f-41d7-85a7-5cca7a749fbb"
  },
  {
   "cell_type": "code",
   "execution_count": null,
   "metadata": {},
   "outputs": [],
   "source": [
    "slice.submit()"
   ],
   "id": "2525c1d6-55b4-4510-9222-91257febbab2"
  },
  {
   "cell_type": "code",
   "execution_count": null,
   "metadata": {},
   "outputs": [],
   "source": [
    "slice.get_state()\n",
    "slice.wait_ssh(progress=True)"
   ],
   "id": "9780867c-8a0b-45a3-aaee-2ea36c111011"
  },
  {
   "cell_type": "markdown",
   "metadata": {},
   "source": [
    "### Configure resources\n",
    "\n",
    "Next, we will configure the resources so they are ready to use."
   ],
   "id": "dfc48c08-21a7-493b-aab4-8b71827c2427"
  },
  {
   "cell_type": "code",
   "execution_count": null,
   "metadata": {},
   "outputs": [],
   "source": [
    "slice = fablib.get_slice(name=slice_name)"
   ],
   "id": "c24e0579-3c82-40b4-a9c1-edce231b64c6"
  },
  {
   "cell_type": "code",
   "execution_count": null,
   "metadata": {},
   "outputs": [],
   "source": [
    "# install packages\n",
    "# this will take a while and will run in background while you do other steps\n",
    "for n in node_conf:\n",
    "    if len(n['packages']):\n",
    "        node = slice.get_node(n['name'])\n",
    "        pkg = \" \".join(n['packages'])\n",
    "        node.execute_thread(\"sudo apt update; sudo apt -y install %s\" % pkg)"
   ],
   "id": "026437a4-ca7b-4f52-bcfd-cd57b4e61fbf"
  },
  {
   "cell_type": "code",
   "execution_count": null,
   "metadata": {},
   "outputs": [],
   "source": [
    "# bring interfaces up and either assign an address (if there is one) or flush address\n",
    "from ipaddress import ip_address, IPv4Address, IPv4Network\n",
    "\n",
    "for net in net_conf:\n",
    "    for n in net['nodes']:\n",
    "        if_name = n['name'] + '-' + net['name'] + '-p1'\n",
    "        iface = slice.get_interface(if_name)\n",
    "        iface.ip_link_up()\n",
    "        if n['addr']:\n",
    "            iface.ip_addr_add(addr=n['addr'], subnet=IPv4Network(net['subnet']))\n",
    "        else:\n",
    "            iface.get_node().execute(\"sudo ip addr flush dev %s\"  % iface.get_device_name())"
   ],
   "id": "e3a5365d-3147-4a2a-ab92-c47404d65e75"
  },
  {
   "cell_type": "code",
   "execution_count": null,
   "metadata": {},
   "outputs": [],
   "source": [
    "# prepare a \"hosts\" file that has names and addresses of every node\n",
    "hosts_txt = [ \"%s\\t%s\" % ( n['addr'], n['name'] ) for net in net_conf  for n in net['nodes'] if type(n) is dict and n['addr']]\n",
    "for n in slice.get_nodes():\n",
    "    for h in hosts_txt:\n",
    "        n.execute(\"echo %s | sudo tee -a /etc/hosts\" % h)"
   ],
   "id": "6e355cde-1d79-4a56-bb6d-5fd46968f2b2"
  },
  {
   "cell_type": "code",
   "execution_count": null,
   "metadata": {},
   "outputs": [],
   "source": [
    "# enable IPv4 forwarding on all nodes\n",
    "for n in slice.get_nodes():\n",
    "    n.execute(\"sudo sysctl -w net.ipv4.ip_forward=1\")"
   ],
   "id": "2ba25191-23ec-4b6f-94da-6d50174bb020"
  },
  {
   "cell_type": "code",
   "execution_count": null,
   "metadata": {},
   "outputs": [],
   "source": [
    "# set up static routes\n",
    "for rt in route_conf:\n",
    "    for n in rt['nodes']:\n",
    "        slice.get_node(name=n).ip_route_add(subnet=IPv4Network(rt['addr']), gateway=rt['gw'])"
   ],
   "id": "46008025-4abd-4b9e-91d4-c88eb7ff5a33"
  },
  {
   "cell_type": "markdown",
   "metadata": {},
   "source": [
    "### Set up the routes\n",
    "\n",
    "We will then install FRR routing software on all of the routers, and then configure to use OSPF as their internal routing protocol."
   ],
   "id": "c26bb324-3957-451f-bee9-dc45b2ea84be"
  },
  {
   "cell_type": "code",
   "execution_count": null,
   "metadata": {},
   "outputs": [],
   "source": [
    "router_nodes=[slice.get_node(name=r['name']) for r in node_conf]\n"
   ],
   "id": "3476ee82-434b-41b6-9c5d-fe249cb34c5b"
  },
  {
   "cell_type": "code",
   "execution_count": null,
   "metadata": {},
   "outputs": [],
   "source": [
    "\n",
    "for n in router_nodes:\n",
    "    n.execute(\"curl -s https://deb.frrouting.org/frr/keys.asc | sudo apt-key add -\")\n",
    "    n.execute(\"echo deb https://deb.frrouting.org/frr $(lsb_release -s -c) frr-stable | sudo tee -a /etc/apt/sources.list.d/frr.list\")\n",
    "    n.execute(\"sudo apt update\")\n",
    "    n.execute(\"sudo apt -y install frr frr-pythontools nload\")\n",
    "    n.execute(\"sudo sed -i 's/ospfd=no/ospfd=yes/g' /etc/frr/daemons\")\n",
    "    n.execute(\"sudo sed -i 's/bgpd=no/bgpd=yes/g' /etc/frr/daemons\")\n",
    "    n.execute(\"sudo systemctl restart frr.service\")    "
   ],
   "id": "91ff88fa-ac26-421d-80db-f7f7a3be96a5"
  },
  {
   "cell_type": "code",
   "execution_count": null,
   "metadata": {},
   "outputs": [],
   "source": [
    "\n",
    "for n in router_nodes:\n",
    "    n.execute(\"sudo vtysh -E -c'configure terminal\\nrouter ospf\\nnetwork 10.\"+n.get_name()[2]+\".0.0/16 area 0.0.0.0\\n exit\\n exit\\n exit'  \")    "
   ],
   "id": "28f4a8c0-63f7-4e3a-b774-da9da4368b97"
  },
  {
   "cell_type": "markdown",
   "metadata": {},
   "source": [
    "#### Draw the network topology"
   ],
   "id": "a5146c22-bd5b-47ff-98d0-ef2fde346994"
  },
  {
   "cell_type": "markdown",
   "metadata": {},
   "source": [
    "The following cell will draw the network topology, for your reference."
   ],
   "id": "f9fe4d75-40c5-4790-9ab9-889241d00e4c"
  },
  {
   "cell_type": "code",
   "execution_count": null,
   "metadata": {},
   "outputs": [],
   "source": [
    "l2_nets = [(n.get_name(), {'color': 'lavender'}) for n in slice.get_l2networks() ]\n",
    "l3_nets = [(n.get_name(), {'color': 'pink'}) for n in slice.get_l3networks() ]\n",
    "hosts   =   [(n.get_name(), {'color': 'lightblue'}) for n in slice.get_nodes()]\n",
    "nodes = l2_nets + l3_nets + hosts\n",
    "ifaces = [iface.toDict() for iface in slice.get_interfaces()]\n",
    "edges = [(iface['network'], iface['node']) for iface in ifaces]"
   ],
   "id": "7a6cd99b-d0c8-4811-96e5-5b0a7135aa77"
  },
  {
   "cell_type": "code",
   "execution_count": null,
   "metadata": {},
   "outputs": [],
   "source": [
    "import networkx as nx\n",
    "import matplotlib.pyplot as plt\n",
    "plt.figure(figsize=(len(nodes),len(nodes)))\n",
    "G = nx.Graph()\n",
    "G.add_nodes_from(nodes)\n",
    "G.add_edges_from(edges)\n",
    "pos = nx.spring_layout(G)\n",
    "nx.draw(G, pos, node_shape='s',  \n",
    "        node_color=[n[1]['color'] for n in nodes], \n",
    "        node_size=[len(n[0])*400 for n in nodes],  \n",
    "        with_labels=True);"
   ],
   "id": "3d120775-c1ad-4042-a695-b0248740dee8"
  },
  {
   "cell_type": "markdown",
   "metadata": {},
   "source": [
    "### Log into resources"
   ],
   "id": "fc3425ae-da5e-45ec-81ef-4d1b36039bff"
  },
  {
   "cell_type": "markdown",
   "metadata": {},
   "source": [
    "Now, we are finally ready to log in to our resources over SSH! Run the following cells, and observe the table output - you will see an SSH command for each of the resources in your topology."
   ],
   "id": "e9b611df-6e20-4ccd-ad27-08afbc0b2dbe"
  },
  {
   "cell_type": "code",
   "execution_count": null,
   "metadata": {},
   "outputs": [],
   "source": [
    "import pandas as pd\n",
    "pd.set_option('display.max_colwidth', None)\n",
    "slice_info = [{'Name': n.get_name(), 'SSH command': n.get_ssh_command()} for n in slice.get_nodes()]\n",
    "pd.DataFrame(slice_info).set_index('Name')"
   ],
   "id": "aa4dc636-57c3-4160-91cc-4e56707dcb57"
  },
  {
   "cell_type": "markdown",
   "metadata": {},
   "source": [
    "Now, you can open an SSH session on any of the resources as follows:\n",
    "\n",
    "-   in Jupyter, from the menu bar, use File \\> New \\> Terminal to open a new terminal.\n",
    "-   copy an SSH command from the table, and paste it into the terminal. (Note that each SSH command is a single line, even if the display wraps the text to a second line! When you copy and paste it, paste it all together.)\n",
    "\n",
    "You can repeat this process (open several terminals) to start a session on each resource. Each terminal session will have a tab in the Jupyter environment, so that you can easily switch between them."
   ],
   "id": "1a744e73-95f4-4489-b62c-b6f72dcb9550"
  },
  {
   "cell_type": "markdown",
   "metadata": {},
   "source": [
    "### Delete your slice"
   ],
   "id": "9bc24319-f5f5-4390-af8d-a4edbcdad776"
  },
  {
   "cell_type": "markdown",
   "metadata": {},
   "source": [
    "When you finish your experiment, you should delete your slice! The following cells deletes all the resources in your slice, freeing them for other experimenters."
   ],
   "id": "ff221c0b-9112-45bd-9c26-99b6ca2450ea"
  },
  {
   "cell_type": "code",
   "execution_count": null,
   "metadata": {},
   "outputs": [],
   "source": [
    "slice = fablib.get_slice(name=slice_name)\n",
    "fablib.delete_slice(slice_name)"
   ],
   "id": "cd961dd4-1cb9-4d17-acd2-2ef2fa9bbf33"
  },
  {
   "cell_type": "code",
   "execution_count": null,
   "metadata": {},
   "outputs": [],
   "source": [
    "# slice should end up in \"Dead\" state\n",
    "# re-run this cell until you see it in \"Dead\" state\n",
    "slice.update()\n",
    "_ = slice.show()"
   ],
   "id": "f857f9c0-65aa-424b-b4db-fcdc63fc8d4f"
  }
 ],
 "nbformat": 4,
 "nbformat_minor": 5,
 "metadata": {}
}
