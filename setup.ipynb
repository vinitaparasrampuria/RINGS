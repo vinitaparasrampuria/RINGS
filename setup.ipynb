{
 "cells": [
  {
   "cell_type": "markdown",
   "metadata": {},
   "source": [
    "# Reserve and configure FABRIC resources for “setting a network of Autonomous systems”\n",
    "\n",
    "In the experiment setup, we try to emulate the real world network by designing a network of various autonomous systems spread across different sites available on FABRIC testbed.\n",
    "\n",
    "## Set up your FABRIC environment\n",
    "\n",
    "This assumes that you have already configured your FABRIC account and your Jupyter environment as described in [Hello, FABRIC](https://teaching-on-testbeds.github.io/blog/hello-fabric)."
   ],
   "id": "f5f36645-1a0a-4723-8646-00138f50bf68"
  },
  {
   "cell_type": "code",
   "execution_count": null,
   "metadata": {},
   "outputs": [],
   "source": [
    "from fabrictestbed_extensions.fablib.fablib import FablibManager as fablib_manager\n",
    "fablib = fablib_manager() \n",
    "fablib.show_config()"
   ],
   "id": "ec1faa2c-53f1-4af0-a097-249865f79869"
  },
  {
   "cell_type": "code",
   "execution_count": null,
   "metadata": {},
   "outputs": [],
   "source": [
    "!chmod 600 {fablib.get_bastion_key_filename()}\n",
    "!chmod 600 {fablib.get_default_slice_private_key_file()}"
   ],
   "id": "863fe16a-e706-47a7-b1c6-8381774ce62a"
  },
  {
   "cell_type": "markdown",
   "metadata": {},
   "source": [
    "## Create and submit a slice"
   ],
   "id": "a6170a67-b27f-4773-bd1c-ca4fd2505ff3"
  },
  {
   "cell_type": "code",
   "execution_count": null,
   "metadata": {},
   "outputs": [],
   "source": [
    "slice_name=\"network-\"+ fablib.get_bastion_username()\n",
    "slice = fablib.new_slice(name=slice_name)"
   ],
   "id": "62518c4b-a7a9-4d89-89c4-3e05ba356d7f"
  },
  {
   "cell_type": "markdown",
   "metadata": {},
   "source": [
    "### Set up the variables\n",
    "\n",
    "Next, we will set up the variables- number of autonomous sytems in the network, number of routers in each autonomous system, whether a system in CDN or not and the hops at which redundancy can be seen."
   ],
   "id": "147944b6-7304-44dd-ae7b-1c95df6eb906"
  },
  {
   "cell_type": "code",
   "execution_count": null,
   "metadata": {},
   "outputs": [],
   "source": [
    "import random\n",
    "#number of routers in access network similar irrespective of cdn or not\n",
    "#redundancy_AS_1 parameter sets the hop at which redundant paths will be set\n",
    "hops_AS_1=random.randint(3,6)\n",
    "redundancy_AS_1=3\n",
    "\n",
    "# For cdn, define\n",
    "# number of autonomous systems including source and target AS (ranges between 2-4)\n",
    "# hops seen in destination network (ranges between 3-4)\n",
    "# hops seen in intermediate network (ranges bewteen 1-2)\n",
    "\n",
    "number_of_AS_cdn=random.randint(2,4)\n",
    "hops_final_AS_cdn=random.randint(3,4)\n",
    "max_hops_intermediate_cdn=3\n",
    "\n",
    "# For non CDN, define\n",
    "# number of autonomous systems including source and target AS (ranges between 3-5)\n",
    "# hops seen in destination network (ranges between 5-8)\n",
    "# hops seen in intermediate network (ranges bewteen 1-4)\n",
    "\n",
    "number_of_AS_not_cdn=random.randint(3,5)\n",
    "hops_final_AS_not_cdn=random.randint(5,8)\n",
    "max_hops_intermediate_not_cdn=4\n",
    "\n",
    "# Set cdn=True if CDN type opf network is required else False\n",
    "cdn=True"
   ],
   "id": "497ea817-9715-4da2-b916-6af6b1bb2734"
  },
  {
   "cell_type": "markdown",
   "metadata": {},
   "source": [
    "Print all the parameters that were setup randomly."
   ],
   "id": "8d1c2f43-265d-4613-a370-8f4a67f13263"
  },
  {
   "cell_type": "code",
   "execution_count": null,
   "metadata": {},
   "outputs": [],
   "source": [
    "# Print all the parameters:\n",
    "print(\"Hops in first AS: \", hops_AS_1)\n",
    "print(\"Number of AS: \", number_of_AS_cdn if cdn else number_of_AS_not_cdn)\n",
    "print(\"Hops in final AS: \", hops_final_AS_cdn if cdn else hops_final_AS_not_cdn )"
   ],
   "id": "b1049899-0640-44cc-b6b4-47ec618591d7"
  },
  {
   "cell_type": "markdown",
   "metadata": {},
   "source": [
    "### Set up the routers and networks\n",
    "\n",
    "First we will create a function that will generate an autonomous system along with the node configuration, net configuration, resource requirement data."
   ],
   "id": "c5462b33-6860-42e7-a12d-2ae094f7f47d"
  },
  {
   "cell_type": "code",
   "execution_count": null,
   "metadata": {},
   "outputs": [],
   "source": [
    "\n",
    "def create_AS(as_num, n_hops, r):\n",
    "    routers=[1]*min(r, n_hops) + [random.randint(2,3) for i in range(max(0, n_hops - r - 1))] + [1 for i in range(0,1) if n_hops!=r]\n",
    "    node_conf = [ {'name': \"as\" + str(as_num) + '-r-' + str(j) + '-' + str(i) ,\n",
    "        'cores': 8, 'ram': 16, 'disk': 25, 'image': 'default_ubuntu_22', 'packages': ['net-tools']}\n",
    "         for j,level in enumerate(routers) for i in range(level)]\n",
    "    r_mul=[0]+[routers[i-1]*routers[i] for i in range(1,len(routers))]\n",
    "    net_conf = [\n",
    "     {\"name\": \"as\"+str(as_num)+\"-net\"+str(j)+str(i)+\"-\"+str(j+1)+str(k), \"subnet\": \"10.\"+str(as_num)+\".\"+str(sum(r_mul[:j+1])+(routers[j+1]*i)+k+1)+\".0/24\", \n",
    "      \"nodes\": [{\"name\": \"as\"+str(as_num)+'-r-' + str(j) + '-' + str(i),   \"addr\": \"10.\"+str(as_num)+\".\"+str(sum(r_mul[:j+1])+(routers[j+1]*i)+k+1)+\".\"+str(1)} ]+ \n",
    "      [{\"name\": \"as\"+str(as_num)+'-r-' + str(j+1) + '-' + str(k),   \"addr\": \"10.\"+str(as_num)+\".\"+str(sum(r_mul[:j+1])+(routers[j+1]*i)+k+1)+\".\"+str(2)}]}\n",
    "            for j,level in enumerate(routers[:-1]) for i in range(level) for k in range(routers[j+1])]\n",
    "    exp_conf = {'cores': sum([ n['cores'] for n in node_conf]), 'nic': sum([len(n['nodes'])+4 for n in net_conf]) }\n",
    "    return [routers, node_conf, net_conf, exp_conf]\n"
   ],
   "id": "6d3748fb-702c-44cf-93d8-1ca82a48c2f8"
  },
  {
   "cell_type": "markdown",
   "metadata": {},
   "source": [
    "Next, we will call create_AS() function to generate the number of autonomous systems which was defined in one of the previous cell."
   ],
   "id": "c55c3a5e-a462-4c22-b0a5-b2f64f34c4c7"
  },
  {
   "cell_type": "code",
   "execution_count": null,
   "metadata": {},
   "outputs": [],
   "source": [
    "if cdn:\n",
    "    number_of_AS=number_of_AS_cdn\n",
    "    hops_final_AS=hops_final_AS_cdn\n",
    "    max_hops_intermediate=max_hops_intermediate_cdn\n",
    "    \n",
    "else:    \n",
    "    number_of_AS=number_of_AS_not_cdn\n",
    "    hops_final_AS=hops_final_AS_not_cdn\n",
    "    max_hops_intermediate=max_hops_intermediate_not_cdn\n",
    "\n",
    "\n",
    "# set up the number of routers in first AS\n",
    "\n",
    "data_routers=[create_AS(0, hops_AS_1, redundancy_AS_1)]\n",
    "\n",
    "  \n",
    "# set up the number of routers in intermediate AS\n",
    "# hops in intermediate AS is randomly selected between 1 and max_hops_intermediate value\n",
    "# redundant path can start at any value between 2nd hop and hops_intermediate-1 in the intermediate AS\n",
    "\n",
    "for i in range(1, 2*number_of_AS-3):\n",
    "    hops_intermediate=random.randint(1,max_hops_intermediate)\n",
    "    print(hops_intermediate)\n",
    "    data_routers+=[create_AS(i, hops_intermediate, r=random.randint(1,hops_intermediate))]\n",
    "\n",
    "# set up the number of routers in Destination AS\n",
    "# redundant path can start at any value between 2nd hop and hops_final_AS-1 in the destination AS\n",
    "data_routers+=[create_AS(2*number_of_AS-3, hops_final_AS, random.randint(1,hops_final_AS))]"
   ],
   "id": "acf3255c-3b99-4eca-b0dd-d883aa9907cb"
  },
  {
   "cell_type": "markdown",
   "metadata": {},
   "source": [
    "Get node configuration from the list of routers."
   ],
   "id": "8c6e0411-aa34-47e0-886a-34569e6e4b55"
  },
  {
   "cell_type": "code",
   "execution_count": null,
   "metadata": {},
   "outputs": [],
   "source": [
    "node_conf = [node for as_conf in data_routers for node in as_conf[1]]\n",
    "node_conf"
   ],
   "id": "01141ef3-f406-4e9d-b772-69651039ee9e"
  },
  {
   "cell_type": "markdown",
   "metadata": {},
   "source": [
    "Get network configuration inside an autonomous system from the list of routers."
   ],
   "id": "9388d90c-2418-47b6-b5b1-422b372416fe"
  },
  {
   "cell_type": "code",
   "execution_count": null,
   "metadata": {},
   "outputs": [],
   "source": [
    "as_net_conf = [net for as_conf in data_routers for net in as_conf[2]]\n",
    "as_net_conf"
   ],
   "id": "2b1ffe9e-702c-4eaf-ae36-244e4eae3321"
  },
  {
   "cell_type": "markdown",
   "metadata": {},
   "source": [
    "Below is a function to create network configuration between autonomous systems. First all possible edges are defined between two AS, then we select randomly between two edges and length of all possible edges to have redundant paths."
   ],
   "id": "b5479796-002e-4f59-b8c9-01211cbafc4d"
  },
  {
   "cell_type": "code",
   "execution_count": null,
   "metadata": {},
   "outputs": [],
   "source": [
    "def create_out_AS_conf(out_first,out_last,inner_loop):\n",
    "    all_edges=[[k,k+k%2+j] for k in range(out_first,out_last) for j in range(1,inner_loop)]\n",
    "    edges=sorted(random.sample(all_edges, random.randint(2,len(all_edges))))\n",
    "    print(sorted(edges))\n",
    "    out_as_net_conf=[{\"name\":\"ext-net\"+str(e[0])+\"-\"+str(e[1]), \"subnet\": \"10.100.\"+str(e[1])+str(e[0])+\".0/24\",\n",
    "              \"nodes\": [{\"name\":data_routers[e[0]][1][-1]['name'], \"addr\":\"10.100.\"+str(e[1])+str(e[0])+\".1\"}]+\n",
    "              [{\"name\":data_routers[e[1]][1][0]['name'], \"addr\":\"10.100.\"+str(e[1])+str(e[0])+\".2\"}]}\n",
    "              for e in edges]\n",
    "    return out_as_net_conf"
   ],
   "id": "0eec6a48-8bb5-4f3c-9117-7d815bb6fe0b"
  },
  {
   "cell_type": "markdown",
   "metadata": {},
   "source": [
    "Call create_out_AS_conf() to get the network configuration outside the Autonomous system."
   ],
   "id": "8fb4aaf1-c839-4f80-80a0-f48111430d40"
  },
  {
   "cell_type": "code",
   "execution_count": null,
   "metadata": {},
   "outputs": [],
   "source": [
    "\n",
    "out_as_net_conf=[]\n",
    "out_as_net_conf+=create_out_AS_conf(0,1,3)\n",
    "for i in range(1,2*number_of_AS-5,2):\n",
    "    out_as_net_conf+=create_out_AS_conf(i,i+2,3)\n",
    "\n",
    "out_as_net_conf+=create_out_AS_conf(2*number_of_AS-5,2*number_of_AS-3,2)\n"
   ],
   "id": "5080b056-574a-4875-8069-b30ba7254840"
  },
  {
   "cell_type": "code",
   "execution_count": null,
   "metadata": {},
   "outputs": [],
   "source": [
    "out_as_net_conf"
   ],
   "id": "986a919f-e2f8-4515-8db0-51125af64409"
  },
  {
   "cell_type": "markdown",
   "metadata": {},
   "source": [
    "Combine both types of network configuration into one"
   ],
   "id": "7510250b-40b2-4acc-9b6f-7dcc53e99460"
  },
  {
   "cell_type": "code",
   "execution_count": null,
   "metadata": {},
   "outputs": [],
   "source": [
    "net_conf=as_net_conf+out_as_net_conf\n",
    "net_conf"
   ],
   "id": "6c116f59-81fd-4ab2-bb6f-ff2c469e05fc"
  },
  {
   "cell_type": "markdown",
   "metadata": {},
   "source": [
    "### Reserve resources\n",
    "\n",
    "Now we will get a list of sites that has sufficient resources for the experiment."
   ],
   "id": "9cd0e8bf-a6d3-4cfb-b1a0-c053cd353c22"
  },
  {
   "cell_type": "code",
   "execution_count": null,
   "metadata": {},
   "outputs": [],
   "source": [
    "\n",
    "# Get the sites\n",
    "as_sites = []\n",
    "for i,r in enumerate(data_routers):   \n",
    "    while True:\n",
    "        site_name = fablib.get_random_site(avoid=[''] + as_sites)\n",
    "        if ( (fablib.resources.get_core_available(site_name) > 1.2*r[3]['cores']) and\n",
    "            (fablib.resources.get_component_available(site_name, 'SharedNIC-ConnectX-6') > 1.2**r[3]['nic']) ):\n",
    "            break\n",
    "\n",
    "    print(f\"AS {i} will use {site_name}\")\n",
    "    #fablib.show_site(site_name)\n",
    "    as_sites.append(site_name)\n"
   ],
   "id": "9b19b5d7-18a7-40f1-a6b6-3e6d8d4b27d5"
  },
  {
   "cell_type": "code",
   "execution_count": null,
   "metadata": {},
   "outputs": [],
   "source": [
    "print(as_sites)"
   ],
   "id": "62c805f8-fed8-4b0e-a55d-b383bf98c860"
  },
  {
   "cell_type": "markdown",
   "metadata": {},
   "source": [
    "Then we will add hosts and network segments"
   ],
   "id": "44a773f0-f17c-4da1-a000-d437c2600718"
  },
  {
   "cell_type": "code",
   "execution_count": null,
   "metadata": {},
   "outputs": [],
   "source": [
    "for i,r in enumerate(data_routers):\n",
    "     for n in r[1]: # iterate over the nodes_conf for this AS\n",
    "        slice.add_node(name=n['name'], site=as_sites[i], \n",
    "                       cores=n['cores'], \n",
    "                       ram=n['ram'], \n",
    "                       disk=n['disk'], \n",
    "                       image=n['image'])"
   ],
   "id": "4cb3f1af-76f5-4c5b-99eb-8f14ba43628b"
  },
  {
   "cell_type": "code",
   "execution_count": null,
   "metadata": {},
   "outputs": [],
   "source": [
    "print(slice.list_nodes())"
   ],
   "id": "385d7515-a851-47f2-b514-cb579e9abc38"
  },
  {
   "cell_type": "code",
   "execution_count": null,
   "metadata": {},
   "outputs": [],
   "source": [
    "# this cell sets up the network links \n",
    "for n in net_conf:\n",
    "    ifaces = [slice.get_node(node[\"name\"]).add_component(model=\"NIC_Basic\", \n",
    "                                                 name=n[\"name\"]).get_interfaces()[0] for node in n['nodes'] ]\n",
    "    slice.add_l2network(name=n[\"name\"], interfaces=ifaces)"
   ],
   "id": "1a1cd5c1-d370-424a-8cd6-05a1c7734200"
  },
  {
   "cell_type": "markdown",
   "metadata": {},
   "source": [
    "The following cell submits our request to the FABRIC site. The output of this cell will update automatically as the status of our request changes. While it is being prepared, the “State” of the slice will appear as “Configuring”. When it is ready, the “State” of the slice will change to “StableOK”."
   ],
   "id": "43cf4b45-5f64-4a15-8151-04a46cd30a12"
  },
  {
   "cell_type": "code",
   "execution_count": null,
   "metadata": {},
   "outputs": [],
   "source": [
    "slice.submit()"
   ],
   "id": "2e428fb2-3cc8-483e-a3e6-a0368e00d13f"
  },
  {
   "cell_type": "code",
   "execution_count": null,
   "metadata": {},
   "outputs": [],
   "source": [
    "slice.get_state()\n",
    "slice.wait_ssh(progress=True)"
   ],
   "id": "98abbe1e-5658-44b3-b759-e96676e92b25"
  },
  {
   "cell_type": "markdown",
   "metadata": {},
   "source": [
    "### Configure resources\n",
    "\n",
    "Next, we will configure the resources so they are ready to use."
   ],
   "id": "37fea3ff-8e16-4411-aad0-062f4d4f2b10"
  },
  {
   "cell_type": "code",
   "execution_count": null,
   "metadata": {},
   "outputs": [],
   "source": [
    "slice = fablib.get_slice(name=slice_name)"
   ],
   "id": "b19eaff3-3180-4343-a7aa-bdc20dce92c8"
  },
  {
   "cell_type": "code",
   "execution_count": null,
   "metadata": {},
   "outputs": [],
   "source": [
    "# install packages\n",
    "# this will take a while and will run in background while you do other steps\n",
    "for n in node_conf:\n",
    "    if len(n['packages']):\n",
    "        node = slice.get_node(n['name'])\n",
    "        pkg = \" \".join(n['packages'])\n",
    "        node.execute_thread(\"sudo apt update; sudo apt -y install %s\" % pkg)"
   ],
   "id": "19edcdc6-05b0-41f2-8d3a-f18064003e38"
  },
  {
   "cell_type": "code",
   "execution_count": null,
   "metadata": {},
   "outputs": [],
   "source": [
    "# bring interfaces up and either assign an address (if there is one) or flush address\n",
    "from ipaddress import ip_address, IPv4Address, IPv4Network\n",
    "\n",
    "for net in net_conf:\n",
    "    for n in net['nodes']:\n",
    "        if_name = n['name'] + '-' + net['name'] + '-p1'\n",
    "        iface = slice.get_interface(if_name)\n",
    "        iface.ip_link_up()\n",
    "        if n['addr']:\n",
    "            iface.ip_addr_add(addr=n['addr'], subnet=IPv4Network(net['subnet']))\n",
    "        else:\n",
    "            iface.get_node().execute(\"sudo ip addr flush dev %s\"  % iface.get_device_name())"
   ],
   "id": "9dee6af4-9184-49f7-9a23-cf96783e2440"
  },
  {
   "cell_type": "code",
   "execution_count": null,
   "metadata": {},
   "outputs": [],
   "source": [
    "# prepare a \"hosts\" file that has names and addresses of every node\n",
    "hosts_txt = [ \"%s\\t%s\" % ( n['addr'], n['name'] ) for net in net_conf  for n in net['nodes'] if type(n) is dict and n['addr']]\n",
    "for n in slice.get_nodes():\n",
    "    for h in hosts_txt:\n",
    "        n.execute(\"echo %s | sudo tee -a /etc/hosts\" % h)"
   ],
   "id": "8be68a73-ad35-428d-9203-e7f8fbbec832"
  },
  {
   "cell_type": "code",
   "execution_count": null,
   "metadata": {},
   "outputs": [],
   "source": [
    "# enable IPv4 forwarding on all nodes\n",
    "for n in slice.get_nodes():\n",
    "    n.execute(\"sudo sysctl -w net.ipv4.ip_forward=1\")"
   ],
   "id": "70ae595a-064a-44a8-a279-370ebb00c96d"
  },
  {
   "cell_type": "code",
   "execution_count": null,
   "metadata": {},
   "outputs": [],
   "source": [
    "# set up static routes\n",
    "for rt in route_conf:\n",
    "    for n in rt['nodes']:\n",
    "        slice.get_node(name=n).ip_route_add(subnet=IPv4Network(rt['addr']), gateway=rt['gw'])"
   ],
   "id": "b82afe4c-5d6d-4a77-a531-e120b8c9565f"
  },
  {
   "cell_type": "markdown",
   "metadata": {},
   "source": [
    "### Set up the routes\n",
    "\n",
    "We will then install FRR routing software on all of the routers, and then configure to use OSPF as their internal routing protocol."
   ],
   "id": "d20625c9-6291-4a20-b144-29a26e685ffc"
  },
  {
   "cell_type": "code",
   "execution_count": null,
   "metadata": {},
   "outputs": [],
   "source": [
    "router_nodes=[slice.get_node(name=r['name']) for r in node_conf]\n"
   ],
   "id": "f9624a9b-861f-4596-9d9c-d475e6852771"
  },
  {
   "cell_type": "code",
   "execution_count": null,
   "metadata": {},
   "outputs": [],
   "source": [
    "\n",
    "for n in router_nodes:\n",
    "    n.execute(\"curl -s https://deb.frrouting.org/frr/keys.asc | sudo apt-key add -\")\n",
    "    n.execute(\"echo deb https://deb.frrouting.org/frr $(lsb_release -s -c) frr-stable | sudo tee -a /etc/apt/sources.list.d/frr.list\")\n",
    "    n.execute(\"sudo apt update\")\n",
    "    n.execute(\"sudo apt -y install frr frr-pythontools nload\")\n",
    "    n.execute(\"sudo sed -i 's/ospfd=no/ospfd=yes/g' /etc/frr/daemons\")\n",
    "    n.execute(\"sudo sed -i 's/bgpd=no/bgpd=yes/g' /etc/frr/daemons\")\n",
    "    n.execute(\"sudo systemctl restart frr.service\")    "
   ],
   "id": "2146e205-8372-4fa5-ac33-d1aebe6ba026"
  },
  {
   "cell_type": "code",
   "execution_count": null,
   "metadata": {},
   "outputs": [],
   "source": [
    "\n",
    "for n in router_nodes:\n",
    "    n.execute(\"sudo vtysh -E -c'configure terminal\\nrouter ospf\\nnetwork 10.\"+n.get_name()[2]+\".0.0/16 area 0.0.0.0\\n exit\\n exit\\n exit'  \")    "
   ],
   "id": "481e0528-488a-4937-846d-3ffec00eb7ea"
  },
  {
   "cell_type": "code",
   "execution_count": null,
   "metadata": {},
   "outputs": [],
   "source": [
    "\n",
    "for n in router_nodes:\n",
    "    n.execute(\"sudo vtysh -E -c 'show ip route\\nexit'\")   "
   ],
   "id": "be81bd81-4de1-453a-a82e-2e57274d8dc5"
  },
  {
   "cell_type": "markdown",
   "metadata": {},
   "source": [
    "Validate internal routing by running ping across the network within an Autonomous system:"
   ],
   "id": "e90949bb-374a-49bd-99f9-8f8b40c3d567"
  },
  {
   "cell_type": "code",
   "execution_count": null,
   "metadata": {},
   "outputs": [],
   "source": [
    "for r in data_routers:\n",
    "    if r[2]:\n",
    "        [(slice.get_node(name=r[1][0]['name']).execute(\"ping -c 5 \"+i['addr'] +\" | grep rtt\")) for i in r[2][-1]['nodes']]"
   ],
   "id": "639a45ce-ced3-4fe5-a0c7-c0841b653d20"
  },
  {
   "cell_type": "markdown",
   "metadata": {},
   "source": [
    "Setup BGP as the exterior routing protocol:"
   ],
   "id": "6b193a8f-b5cc-4d39-8237-7f61cdff811b"
  },
  {
   "cell_type": "code",
   "execution_count": null,
   "metadata": {},
   "outputs": [],
   "source": [
    "import re\n",
    "for i, as_net in enumerate(out_as_net_conf):\n",
    "    nodes=[slice.get_node(name=r['name']) for r in as_net['nodes']]\n",
    "    print(as_net['nodes'][0])\n",
    "    print(as_net['nodes'][1])\n",
    "    for node_num, n in enumerate(nodes):\n",
    "        as_no=int(re.search(r'as(\\d+)-',n.get_name()).group(1))+1\n",
    "        neighbor=as_net['nodes'][(node_num+1)%2]['addr']\n",
    "        neighbor_as=int(as_net['nodes'][(1+node_num)%2]['name'][2])+1\n",
    "        n.execute(\"sudo vtysh -E -c'configure terminal\\nrouter bgp \"+str(as_no)+ \"00\\nno bgp ebgp-requires-policy\\nno bgp network import-check\\nneighbor \"+ neighbor + \" remote-as \" + str(neighbor_as) +\"00\\nredistribute ospf \\nredistribute connected \\nexit\\nrouter ospf \\nredistribute bgp \\nredistribute connected \\nexit\\n exit'  \")  \n",
    " \n",
    "        "
   ],
   "id": "82740967-f838-4586-8e8c-333857ab72dd"
  },
  {
   "cell_type": "markdown",
   "metadata": {},
   "source": [
    "Validate the external routing by running ping across the network from first AS to last AS:"
   ],
   "id": "91b63338-c39c-458f-a80f-c20a7a36abf3"
  },
  {
   "cell_type": "code",
   "execution_count": null,
   "metadata": {},
   "outputs": [],
   "source": [
    "[(slice.get_node(name=net_conf[0]['nodes'][0]['name']).execute(\"ping -c 5 \"+i['addr'])) for i in as_net_conf[-1]['nodes']]"
   ],
   "id": "c470a016-8ea3-49ee-a4b2-f64d9b82a0c8"
  },
  {
   "cell_type": "markdown",
   "metadata": {},
   "source": [
    "#### Draw the network topology"
   ],
   "id": "aff1f1c3-55b2-4950-b46f-5e71df21aa8a"
  },
  {
   "cell_type": "markdown",
   "metadata": {},
   "source": [
    "The following cell will draw the network topology, for your reference."
   ],
   "id": "592c5e7e-ca27-492c-a39a-16a6c55e6e5c"
  },
  {
   "cell_type": "code",
   "execution_count": null,
   "metadata": {},
   "outputs": [],
   "source": [
    "colors=['bisque', 'aquamarine', 'lightblue', 'lightsalmon', 'lightgreen', 'pink', 'cyan', 'yellow', 'peachpuff', 'gold', 'plum' , 'lightskyblue',  ]\n",
    "color_dict=dict(zip(as_sites,colors[:len(as_sites)]))"
   ],
   "id": "1fc99555-c7d1-40be-a4b2-7534186dd197"
  },
  {
   "cell_type": "code",
   "execution_count": null,
   "metadata": {},
   "outputs": [],
   "source": [
    "l2_nets = [(n.get_name(), {'color': 'lavender'}) for n in slice.get_l2networks() ]\n",
    "l3_nets = [(n.get_name(), {'color': 'pink'}) for n in slice.get_l3networks() ]\n",
    "hosts   =   [(n.get_name(), {'color': color_dict[n.get_site()]}) for n in slice.get_nodes()]\n",
    "nodes = l2_nets + l3_nets + hosts\n",
    "ifaces = [iface.toDict() for iface in slice.get_interfaces()]\n",
    "edges = [(iface['network'], iface['node']) for iface in ifaces]"
   ],
   "id": "f1c203c5-cbc2-4e90-96fa-6827ad0aa92e"
  },
  {
   "cell_type": "code",
   "execution_count": null,
   "metadata": {},
   "outputs": [],
   "source": [
    "import networkx as nx\n",
    "import matplotlib.pyplot as plt\n",
    "plt.figure(figsize=(len(nodes),len(nodes)))\n",
    "G = nx.Graph()\n",
    "G.add_nodes_from(nodes)\n",
    "G.add_edges_from(edges)\n",
    "pos = nx.spring_layout(G)\n",
    "nx.draw(G, pos, node_shape='s',  \n",
    "        node_color=[n[1]['color'] for n in nodes], \n",
    "        node_size=[len(n[0])*400 for n in nodes],  \n",
    "        with_labels=True);"
   ],
   "id": "faae720c-1b79-4d02-91bb-0581c3d8fb1f"
  },
  {
   "cell_type": "markdown",
   "metadata": {},
   "source": [
    "### Log into resources"
   ],
   "id": "703750a9-40b6-491c-b86e-8f29d02e2598"
  },
  {
   "cell_type": "markdown",
   "metadata": {},
   "source": [
    "Now, we are finally ready to log in to our resources over SSH! Run the following cells, and observe the table output - you will see an SSH command for each of the resources in your topology."
   ],
   "id": "023db509-6f56-49ce-9c88-bb10c577786a"
  },
  {
   "cell_type": "code",
   "execution_count": null,
   "metadata": {},
   "outputs": [],
   "source": [
    "import pandas as pd\n",
    "pd.set_option('display.max_colwidth', None)\n",
    "slice_info = [{'Name': n.get_name(), 'SSH command': n.get_ssh_command()} for n in slice.get_nodes()]\n",
    "pd.DataFrame(slice_info).set_index('Name')"
   ],
   "id": "f5043fdb-2a9b-42d0-b551-184f6f684d86"
  },
  {
   "cell_type": "markdown",
   "metadata": {},
   "source": [
    "Now, you can open an SSH session on any of the resources as follows:\n",
    "\n",
    "-   in Jupyter, from the menu bar, use File \\> New \\> Terminal to open a new terminal.\n",
    "-   copy an SSH command from the table, and paste it into the terminal. (Note that each SSH command is a single line, even if the display wraps the text to a second line! When you copy and paste it, paste it all together.)\n",
    "\n",
    "You can repeat this process (open several terminals) to start a session on each resource. Each terminal session will have a tab in the Jupyter environment, so that you can easily switch between them."
   ],
   "id": "ecb5a08c-18cc-407f-adac-13ed60e1f910"
  },
  {
   "cell_type": "markdown",
   "metadata": {},
   "source": [
    "### Delete your slice"
   ],
   "id": "9bdecbb2-969f-47c3-9883-30fd920513dd"
  },
  {
   "cell_type": "markdown",
   "metadata": {},
   "source": [
    "When you finish your experiment, you should delete your slice! The following cells deletes all the resources in your slice, freeing them for other experimenters."
   ],
   "id": "324f46d6-6a46-49d8-bed1-58a2b6191172"
  },
  {
   "cell_type": "code",
   "execution_count": null,
   "metadata": {},
   "outputs": [],
   "source": [
    "slice = fablib.get_slice(name=slice_name)\n",
    "fablib.delete_slice(slice_name)"
   ],
   "id": "261a5ef2-f234-4465-877a-ffbd27bd863a"
  },
  {
   "cell_type": "code",
   "execution_count": null,
   "metadata": {},
   "outputs": [],
   "source": [
    "# slice should end up in \"Dead\" state\n",
    "# re-run this cell until you see it in \"Dead\" state\n",
    "slice.update()\n",
    "_ = slice.show()"
   ],
   "id": "5285a605-b1fb-4844-b7f5-e5c36915549e"
  }
 ],
 "nbformat": 4,
 "nbformat_minor": 5,
 "metadata": {}
}
