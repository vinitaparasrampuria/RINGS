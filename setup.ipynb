{
 "cells": [
  {
   "cell_type": "markdown",
   "id": "f9216560-7c83-411c-905c-68734bba7b38",
   "metadata": {},
   "source": [
    "# Reserve and configure FABRIC resources for “setting a network of Autonomous systems”\n",
    "\n",
    "In the experiment setup, we try to emulate the real world network by designing a network of various autonomous systems spread across different sites available on FABRIC testbed.\n",
    "\n",
    "## Set up your FABRIC environment\n",
    "\n",
    "This assumes that you have already configured your FABRIC account and your Jupyter environment as described in [Hello, FABRIC](https://teaching-on-testbeds.github.io/blog/hello-fabric)."
   ]
  },
  {
   "cell_type": "code",
   "execution_count": null,
   "id": "5eac120f-3ac5-4f16-a765-c1c6fedc0c03",
   "metadata": {},
   "outputs": [],
   "source": [
    "from fabrictestbed_extensions.fablib.fablib import FablibManager as fablib_manager\n",
    "fablib = fablib_manager() \n",
    "fablib.show_config()"
   ]
  },
  {
   "cell_type": "code",
   "execution_count": null,
   "id": "1dcb142f-5cd7-4cde-b0a9-4cf7f0df182e",
   "metadata": {},
   "outputs": [],
   "source": [
    "!chmod 600 {fablib.get_bastion_key_filename()}\n",
    "!chmod 600 {fablib.get_default_slice_private_key_file()}"
   ]
  },
  {
   "cell_type": "markdown",
   "id": "7bdcdf1a-a7a9-4a64-8458-92380f98e0f8",
   "metadata": {},
   "source": [
    "## Create and submit a slice"
   ]
  },
  {
   "cell_type": "code",
   "execution_count": null,
   "id": "f168cd0c-9011-4af6-a04e-fba7e4c640e1",
   "metadata": {},
   "outputs": [],
   "source": [
    "slice_name=\"network-\"+ fablib.get_bastion_username()\n",
    "slice = fablib.new_slice(name=slice_name)"
   ]
  },
  {
   "cell_type": "markdown",
   "id": "b794c061-a807-45a0-94e5-70a8677987a3",
   "metadata": {},
   "source": [
    "### Set up the variables\n",
    "\n",
    "Next, we will set up the variables- number of autonomous sytems in the network, number of routers in each autonomous system, whether a system in CDN or not and the hops at which redundancy can be seen."
   ]
  },
  {
   "cell_type": "code",
   "execution_count": null,
   "id": "84a81e96-c1fb-4686-9042-7da23ecac639",
   "metadata": {},
   "outputs": [],
   "source": [
    "import random\n",
    "#number of routers in access network similar irrespective of cdn or not\n",
    "#redundancy_AS_1 parameter sets the hop at which redundant paths will be set\n",
    "hops_AS_1=random.randint(3,6)\n",
    "redundancy_AS_1=3\n",
    "\n",
    "# For cdn, define\n",
    "# number of autonomous systems including source and target AS (ranges between 2-4)\n",
    "# hops seen in destination network (ranges between 3-4)\n",
    "# hops seen in intermediate network (ranges bewteen 1-2)\n",
    "\n",
    "number_of_AS_cdn=random.randint(2,4)\n",
    "hops_final_AS_cdn=random.randint(3,4)\n",
    "max_hops_intermediate_cdn=3\n",
    "\n",
    "# For non CDN, define\n",
    "# number of autonomous systems including source and target AS (ranges between 3-5)\n",
    "# hops seen in destination network (ranges between 5-8)\n",
    "# hops seen in intermediate network (ranges bewteen 1-4)\n",
    "\n",
    "number_of_AS_not_cdn=random.randint(3,5)\n",
    "hops_final_AS_not_cdn=random.randint(5,8)\n",
    "max_hops_intermediate_not_cdn=4\n",
    "\n",
    "# Set cdn=True if CDN type opf network is required else False\n",
    "cdn=True"
   ]
  },
  {
   "cell_type": "markdown",
   "id": "be232181-0610-47d9-bc9a-3d362f371812",
   "metadata": {},
   "source": [
    "Print all the parameters that were setup randomly."
   ]
  },
  {
   "cell_type": "code",
   "execution_count": null,
   "id": "1692cca4-bcab-4d61-a22d-b15a42b0993a",
   "metadata": {},
   "outputs": [],
   "source": [
    "# Print all the parameters:\n",
    "print(\"Hops in first AS: \", hops_AS_1)\n",
    "print(\"Number of AS: \", number_of_AS_cdn if cdn else number_of_AS_not_cdn)\n",
    "print(\"Hops in final AS: \", hops_final_AS_cdn if cdn else hops_final_AS_not_cdn )"
   ]
  },
  {
   "cell_type": "markdown",
   "id": "e1dd9ad3-2d16-49be-a5a4-98fc7c80805f",
   "metadata": {},
   "source": [
    "### Set up the routers and networks\n",
    "\n",
    "First we will create a function that will generate an autonomous system along with the node configuration, net configuration, resource requirement data."
   ]
  },
  {
   "cell_type": "code",
   "execution_count": null,
   "id": "2a1be5a8-009a-4077-855c-9ed9dc888140",
   "metadata": {},
   "outputs": [],
   "source": [
    "\n",
    "def create_AS(as_num, n_hops, r):\n",
    "    routers=[1]*min(r, n_hops) + [random.randint(2,3) for i in range(max(0, n_hops - r - 1))] + [1 for i in range(0,1) if n_hops!=r]\n",
    "    node_conf = [ {'name': \"as\" + str(as_num) + '-r-' + str(j) + '-' + str(i) ,\n",
    "        'cores': 8, 'ram': 16, 'disk': 25, 'image': 'default_ubuntu_22', 'packages': ['net-tools']}\n",
    "         for j,level in enumerate(routers) for i in range(level)]\n",
    "    r_mul=[0]+[routers[i-1]*routers[i] for i in range(1,len(routers))]\n",
    "    net_conf = [\n",
    "     {\"name\": \"as\"+str(as_num)+\"-net\"+str(j)+str(i)+\"-\"+str(j+1)+str(k), \"subnet\": \"10.\"+str(as_num)+\".\"+str(sum(r_mul[:j+1])+(routers[j+1]*i)+k+1)+\".0/24\", \n",
    "      \"nodes\": [{\"name\": \"as\"+str(as_num)+'-r-' + str(j) + '-' + str(i),   \"addr\": \"10.\"+str(as_num)+\".\"+str(sum(r_mul[:j+1])+(routers[j+1]*i)+k+1)+\".\"+str(1)} ]+ \n",
    "      [{\"name\": \"as\"+str(as_num)+'-r-' + str(j+1) + '-' + str(k),   \"addr\": \"10.\"+str(as_num)+\".\"+str(sum(r_mul[:j+1])+(routers[j+1]*i)+k+1)+\".\"+str(2)}]}\n",
    "            for j,level in enumerate(routers[:-1]) for i in range(level) for k in range(routers[j+1])]\n",
    "    exp_conf = {'cores': sum([ n['cores'] for n in node_conf]), 'nic': sum([len(n['nodes'])+4 for n in net_conf]) }\n",
    "    return [routers, node_conf, net_conf, exp_conf]\n"
   ]
  },
  {
   "cell_type": "markdown",
   "id": "832d2876-fc14-43dd-b1d3-d7dbfa7bd805",
   "metadata": {},
   "source": [
    "Next, we will call create_AS() function to generate the number of autonomous systems which was defined in one of the previous cell."
   ]
  },
  {
   "cell_type": "code",
   "execution_count": null,
   "id": "12625077-e1ac-4ce7-8433-12ffa22eda82",
   "metadata": {},
   "outputs": [],
   "source": [
    "if cdn:\n",
    "    number_of_AS=number_of_AS_cdn\n",
    "    hops_final_AS=hops_final_AS_cdn\n",
    "    max_hops_intermediate=max_hops_intermediate_cdn\n",
    "    \n",
    "else:    \n",
    "    number_of_AS=number_of_AS_not_cdn\n",
    "    hops_final_AS=hops_final_AS_not_cdn\n",
    "    max_hops_intermediate=max_hops_intermediate_not_cdn\n",
    "\n",
    "\n",
    "# set up the number of routers in first AS\n",
    "\n",
    "data_routers=[create_AS(0, hops_AS_1, redundancy_AS_1)]\n",
    "\n",
    "  \n",
    "# set up the number of routers in intermediate AS\n",
    "# hops in intermediate AS is randomly selected between 1 and max_hops_intermediate value\n",
    "# redundant path can start at any value between 2nd hop and hops_intermediate-1 in the intermediate AS\n",
    "\n",
    "for i in range(1, 2*number_of_AS-3):\n",
    "    hops_intermediate=random.randint(1,max_hops_intermediate)\n",
    "    print(hops_intermediate)\n",
    "    data_routers+=[create_AS(i, hops_intermediate, r=random.randint(1,hops_intermediate))]\n",
    "\n",
    "# set up the number of routers in Destination AS\n",
    "# redundant path can start at any value between 2nd hop and hops_final_AS-1 in the destination AS\n",
    "data_routers+=[create_AS(2*number_of_AS-3, hops_final_AS, random.randint(1,hops_final_AS))]"
   ]
  },
  {
   "cell_type": "markdown",
   "id": "58330b4c-d928-491b-b0ee-19deca5f8f1e",
   "metadata": {},
   "source": [
    "Get node configuration from the list of routers."
   ]
  },
  {
   "cell_type": "code",
   "execution_count": null,
   "id": "146be1d4-2ab9-4433-be4a-6023fef4722e",
   "metadata": {},
   "outputs": [],
   "source": [
    "node_conf = [node for as_conf in data_routers for node in as_conf[1]]\n",
    "node_conf"
   ]
  },
  {
   "cell_type": "markdown",
   "id": "e1aa0b69-bc7f-4cfb-a458-621f2e5bcbc9",
   "metadata": {},
   "source": [
    "Get network configuration inside an autonomous system from the list of routers."
   ]
  },
  {
   "cell_type": "code",
   "execution_count": null,
   "id": "dee27746-5b51-4e96-bfe6-0a6e814e9551",
   "metadata": {},
   "outputs": [],
   "source": [
    "as_net_conf = [net for as_conf in data_routers for net in as_conf[2]]\n",
    "as_net_conf"
   ]
  },
  {
   "cell_type": "markdown",
   "id": "f3528ea9-e6d4-423b-9776-c7c7b45a009c",
   "metadata": {},
   "source": [
    "Below is a function to create network configuration between autonomous systems. First all possible edges are defined between two AS, then we select randomly between two edges and length of all possible edges to have redundant paths."
   ]
  },
  {
   "cell_type": "code",
   "execution_count": null,
   "id": "7d32532b-db8a-48f5-b983-bc078566a63f",
   "metadata": {},
   "outputs": [],
   "source": [
    "def create_out_AS_conf(out_first,out_last,inner_loop):\n",
    "    all_edges=[[k,k+k%2+j] for k in range(out_first,out_last) for j in range(1,inner_loop)]\n",
    "    edges=sorted(random.sample(all_edges, random.randint(2,len(all_edges))))\n",
    "    print(sorted(edges))\n",
    "    out_as_net_conf=[{\"name\":\"ext-net\"+str(e[0])+\"-\"+str(e[1]), \"subnet\": \"10.100.\"+str(e[1])+str(e[0])+\".0/24\",\n",
    "              \"nodes\": [{\"name\":data_routers[e[0]][1][-1]['name'], \"addr\":\"10.100.\"+str(e[1])+str(e[0])+\".1\"}]+\n",
    "              [{\"name\":data_routers[e[1]][1][0]['name'], \"addr\":\"10.100.\"+str(e[1])+str(e[0])+\".2\"}]}\n",
    "              for e in edges]\n",
    "    return out_as_net_conf"
   ]
  },
  {
   "cell_type": "markdown",
   "id": "e31d15b7-c25f-41ef-b384-5354bfe8e50c",
   "metadata": {},
   "source": [
    "Call create_out_AS_conf() to get the network configuration outside the Autonomous system."
   ]
  },
  {
   "cell_type": "code",
   "execution_count": null,
   "id": "de185466-193d-4df8-928d-90ee5ba1bbf5",
   "metadata": {},
   "outputs": [],
   "source": [
    "\n",
    "out_as_net_conf=[]\n",
    "out_as_net_conf+=create_out_AS_conf(0,1,3)\n",
    "for i in range(1,2*number_of_AS-5,2):\n",
    "    out_as_net_conf+=create_out_AS_conf(i,i+2,3)\n",
    "\n",
    "out_as_net_conf+=create_out_AS_conf(2*number_of_AS-5,2*number_of_AS-3,2)\n"
   ]
  },
  {
   "cell_type": "code",
   "execution_count": null,
   "id": "10d54b52-ecb1-412c-8679-7355ef2de722",
   "metadata": {},
   "outputs": [],
   "source": [
    "out_as_net_conf"
   ]
  },
  {
   "cell_type": "markdown",
   "id": "374df06a-35b3-41ef-a82e-19d2d854883b",
   "metadata": {},
   "source": [
    "Combine both types of network configuration into one"
   ]
  },
  {
   "cell_type": "code",
   "execution_count": null,
   "id": "7819e29d-2f3a-4443-b9a6-8373653fb1c7",
   "metadata": {},
   "outputs": [],
   "source": [
    "net_conf=as_net_conf+out_as_net_conf\n",
    "net_conf"
   ]
  },
  {
   "cell_type": "markdown",
   "id": "4211e696-ed71-42bd-8404-497df5726c4a",
   "metadata": {},
   "source": [
    "### Reserve resources\n",
    "\n",
    "Now we will get a list of sites that has sufficient resources for the experiment."
   ]
  },
  {
   "cell_type": "code",
   "execution_count": null,
   "id": "e00439d7-8ec8-4da5-95f4-a57978406601",
   "metadata": {},
   "outputs": [],
   "source": [
    "\n",
    "# Get the sites\n",
    "as_sites = []\n",
    "for i,r in enumerate(data_routers):   \n",
    "    while True:\n",
    "        site_name = fablib.get_random_site(avoid=[''] + as_sites)\n",
    "        if ( (fablib.resources.get_core_available(site_name) > 1.2*r[3]['cores']) and\n",
    "            (fablib.resources.get_component_available(site_name, 'SharedNIC-ConnectX-6') > 1.2**r[3]['nic']) ):\n",
    "            break\n",
    "\n",
    "    print(f\"AS {i} will use {site_name}\")\n",
    "    #fablib.show_site(site_name)\n",
    "    as_sites.append(site_name)\n"
   ]
  },
  {
   "cell_type": "code",
   "execution_count": null,
   "id": "1a55113a-0fc4-4c4c-8b28-ef3b0084f1ac",
   "metadata": {},
   "outputs": [],
   "source": [
    "print(as_sites)"
   ]
  },
  {
   "cell_type": "markdown",
   "id": "0f07e15e-c673-4c5b-a437-5ddc503a3e02",
   "metadata": {},
   "source": [
    "Then we will add hosts and network segments"
   ]
  },
  {
   "cell_type": "code",
   "execution_count": null,
   "id": "7ff9dfc7-e961-4e2d-b2a5-96fffe706b78",
   "metadata": {},
   "outputs": [],
   "source": [
    "for i,r in enumerate(data_routers):\n",
    "     for n in r[1]: # iterate over the nodes_conf for this AS\n",
    "        slice.add_node(name=n['name'], site=as_sites[i], \n",
    "                       cores=n['cores'], \n",
    "                       ram=n['ram'], \n",
    "                       disk=n['disk'], \n",
    "                       image=n['image'])"
   ]
  },
  {
   "cell_type": "code",
   "execution_count": null,
   "id": "5808fa79-4458-4c73-b63a-83e71424c8ff",
   "metadata": {},
   "outputs": [],
   "source": [
    "print(slice.list_nodes())"
   ]
  },
  {
   "cell_type": "code",
   "execution_count": null,
   "id": "9fd35a30-6b86-47c7-b814-29b6ff2aab8c",
   "metadata": {},
   "outputs": [],
   "source": [
    "# this cell sets up the network links \n",
    "for n in net_conf:\n",
    "    ifaces = [slice.get_node(node[\"name\"]).add_component(model=\"NIC_Basic\", \n",
    "                                                 name=n[\"name\"]).get_interfaces()[0] for node in n['nodes'] ]\n",
    "    slice.add_l2network(name=n[\"name\"], interfaces=ifaces)"
   ]
  },
  {
   "cell_type": "markdown",
   "id": "2376a13c-3beb-4848-8a01-749c8864efe1",
   "metadata": {},
   "source": [
    "The following cell submits our request to the FABRIC site. The output of this cell will update automatically as the status of our request changes. While it is being prepared, the “State” of the slice will appear as “Configuring”. When it is ready, the “State” of the slice will change to “StableOK”."
   ]
  },
  {
   "cell_type": "code",
   "execution_count": null,
   "id": "ed30edb9-3b36-43a9-a962-c637223b4154",
   "metadata": {},
   "outputs": [],
   "source": [
    "slice.submit()"
   ]
  },
  {
   "cell_type": "code",
   "execution_count": null,
   "id": "d414937c-2be5-40e7-8773-2cab42e3d381",
   "metadata": {},
   "outputs": [],
   "source": [
    "slice.get_state()\n",
    "slice.wait_ssh(progress=True)"
   ]
  },
  {
   "cell_type": "markdown",
   "id": "f90bff48-fb3b-4b84-b19d-34b64bcbdecd",
   "metadata": {},
   "source": [
    "### Configure resources\n",
    "\n",
    "Next, we will configure the resources so they are ready to use."
   ]
  },
  {
   "cell_type": "code",
   "execution_count": null,
   "id": "4ff2b1a3-c71b-494b-9012-96871cbef171",
   "metadata": {},
   "outputs": [],
   "source": [
    "slice = fablib.get_slice(name=slice_name)"
   ]
  },
  {
   "cell_type": "code",
   "execution_count": null,
   "id": "a5043f1e-517f-4556-b781-4e0a866bdebc",
   "metadata": {},
   "outputs": [],
   "source": [
    "# install packages\n",
    "# this will take a while and will run in background while you do other steps\n",
    "for n in node_conf:\n",
    "    if len(n['packages']):\n",
    "        node = slice.get_node(n['name'])\n",
    "        pkg = \" \".join(n['packages'])\n",
    "        node.execute_thread(\"sudo apt update; sudo apt -y install %s\" % pkg)"
   ]
  },
  {
   "cell_type": "code",
   "execution_count": null,
   "id": "1377a550-e1a8-46cd-b16b-4728416305d5",
   "metadata": {},
   "outputs": [],
   "source": [
    "# bring interfaces up and either assign an address (if there is one) or flush address\n",
    "from ipaddress import ip_address, IPv4Address, IPv4Network\n",
    "\n",
    "for net in net_conf:\n",
    "    for n in net['nodes']:\n",
    "        if_name = n['name'] + '-' + net['name'] + '-p1'\n",
    "        iface = slice.get_interface(if_name)\n",
    "        iface.ip_link_up()\n",
    "        if n['addr']:\n",
    "            iface.ip_addr_add(addr=n['addr'], subnet=IPv4Network(net['subnet']))\n",
    "        else:\n",
    "            iface.get_node().execute(\"sudo ip addr flush dev %s\"  % iface.get_device_name())"
   ]
  },
  {
   "cell_type": "code",
   "execution_count": null,
   "id": "496aae07-d114-4bcf-81d9-d33b661e063e",
   "metadata": {},
   "outputs": [],
   "source": [
    "# prepare a \"hosts\" file that has names and addresses of every node\n",
    "hosts_txt = [ \"%s\\t%s\" % ( n['addr'], n['name'] ) for net in net_conf  for n in net['nodes'] if type(n) is dict and n['addr']]\n",
    "for n in slice.get_nodes():\n",
    "    for h in hosts_txt:\n",
    "        n.execute(\"echo %s | sudo tee -a /etc/hosts\" % h)"
   ]
  },
  {
   "cell_type": "code",
   "execution_count": null,
   "id": "04c79f79-c659-4ca1-a55f-bd7afc20870d",
   "metadata": {},
   "outputs": [],
   "source": [
    "# enable IPv4 forwarding on all nodes\n",
    "for n in slice.get_nodes():\n",
    "    n.execute(\"sudo sysctl -w net.ipv4.ip_forward=1\")"
   ]
  },
  {
   "cell_type": "code",
   "execution_count": null,
   "id": "b4daec52-22ab-4c60-9bf2-9b106c23f7ec",
   "metadata": {},
   "outputs": [],
   "source": [
    "# set up static routes\n",
    "# for rt in route_conf:\n",
    "#     for n in rt['nodes']:\n",
    "#         slice.get_node(name=n).ip_route_add(subnet=IPv4Network(rt['addr']), gateway=rt['gw'])"
   ]
  },
  {
   "cell_type": "markdown",
   "id": "2fb7a506-b4b2-430f-a0d5-c22625b2f874",
   "metadata": {},
   "source": [
    "### Set up the routes\n",
    "\n",
    "We will then install FRR routing software on all of the routers, and then configure to use OSPF as their internal routing protocol."
   ]
  },
  {
   "cell_type": "code",
   "execution_count": null,
   "id": "6580745c-1442-4c6f-b5ce-e82a30f6496c",
   "metadata": {},
   "outputs": [],
   "source": [
    "router_nodes=[slice.get_node(name=r['name']) for r in node_conf]\n"
   ]
  },
  {
   "cell_type": "code",
   "execution_count": null,
   "id": "b4d65f60-78fd-45f8-bd0e-5da432aabe70",
   "metadata": {},
   "outputs": [],
   "source": [
    "\n",
    "for n in router_nodes:\n",
    "    n.execute(\"curl -s https://deb.frrouting.org/frr/keys.asc | sudo apt-key add -\")\n",
    "    n.execute(\"echo deb https://deb.frrouting.org/frr $(lsb_release -s -c) frr-stable | sudo tee -a /etc/apt/sources.list.d/frr.list\")\n",
    "    n.execute(\"sudo apt update\")\n",
    "    n.execute(\"sudo apt -y install frr frr-pythontools nload\")\n",
    "    n.execute(\"sudo sed -i 's/ospfd=no/ospfd=yes/g' /etc/frr/daemons\")\n",
    "    n.execute(\"sudo sed -i 's/bgpd=no/bgpd=yes/g' /etc/frr/daemons\")\n",
    "    n.execute(\"sudo systemctl restart frr.service\")    "
   ]
  },
  {
   "cell_type": "code",
   "execution_count": null,
   "id": "7d3c8eef-66c0-475e-843f-91b21160705f",
   "metadata": {},
   "outputs": [],
   "source": [
    "\n",
    "for n in router_nodes:\n",
    "    n.execute(\"sudo vtysh -E -c'configure terminal\\nrouter ospf\\nnetwork 10.\"+n.get_name()[2]+\".0.0/16 area 0.0.0.0\\n exit\\n exit\\n exit'  \")    "
   ]
  },
  {
   "cell_type": "code",
   "execution_count": null,
   "id": "4244026e-68c1-4129-879d-47253d9eb6ed",
   "metadata": {},
   "outputs": [],
   "source": [
    "\n",
    "for n in router_nodes:\n",
    "    n.execute(\"sudo vtysh -E -c 'show ip route\\nexit'\")   "
   ]
  },
  {
   "cell_type": "markdown",
   "id": "23c5659b-4c7f-43fc-99f9-43c1f462cbd3",
   "metadata": {},
   "source": [
    "Validate internal routing by running ping across the network within an Autonomous system:"
   ]
  },
  {
   "cell_type": "code",
   "execution_count": null,
   "id": "2e94c159-19f6-4a4a-ba30-331cfb52e4d8",
   "metadata": {},
   "outputs": [],
   "source": [
    "for r in data_routers:\n",
    "    if r[2]:\n",
    "        [(slice.get_node(name=r[1][0]['name']).execute(\"ping -c 5 \"+i['addr'] +\" | grep rtt\")) for i in r[2][-1]['nodes']]"
   ]
  },
  {
   "cell_type": "markdown",
   "id": "1418899f-99fd-4e02-bf39-d7f8d6e4c330",
   "metadata": {},
   "source": [
    "Setup BGP as the exterior routing protocol:"
   ]
  },
  {
   "cell_type": "code",
   "execution_count": null,
   "id": "3340040d-58bf-4640-be4b-82b2af6d355f",
   "metadata": {},
   "outputs": [],
   "source": [
    "import re\n",
    "for i, as_net in enumerate(out_as_net_conf):\n",
    "    nodes=[slice.get_node(name=r['name']) for r in as_net['nodes']]\n",
    "    print(as_net['nodes'][0])\n",
    "    print(as_net['nodes'][1])\n",
    "    for node_num, n in enumerate(nodes):\n",
    "        as_no=int(re.search(r'as(\\d+)-',n.get_name()).group(1))+1\n",
    "        neighbor=as_net['nodes'][(node_num+1)%2]['addr']\n",
    "        neighbor_as=int(as_net['nodes'][(1+node_num)%2]['name'][2])+1\n",
    "        n.execute(\"sudo vtysh -E -c'configure terminal\\nrouter bgp \"+str(as_no)+ \"00\\nno bgp ebgp-requires-policy\\nno bgp network import-check\\nneighbor \"+ neighbor + \" remote-as \" + str(neighbor_as) +\"00\\nredistribute ospf\\nexit\\nrouter ospf\\nredistribute bgp\\nredistribute connected\\nexit\\n exit'  \")  \n",
    " \n",
    "        "
   ]
  },
  {
   "cell_type": "markdown",
   "id": "627602d5-8806-40c2-9d20-e5bd23c8d92e",
   "metadata": {},
   "source": [
    "Validate the external routing by running ping across the network from first AS to last AS:"
   ]
  },
  {
   "cell_type": "code",
   "execution_count": null,
   "id": "c38c3b5e-1760-4995-a639-302e257fba2c",
   "metadata": {},
   "outputs": [],
   "source": [
    "[(slice.get_node(name=net_conf[0]['nodes'][0]['name']).execute(\"ping -c 5 \"+i['addr'])) for i in as_net_conf[-1]['nodes']]"
   ]
  },
  {
   "cell_type": "markdown",
   "id": "0f2f8280-cf59-49df-8202-5237246d5c51",
   "metadata": {},
   "source": [
    "#### Draw the network topology"
   ]
  },
  {
   "cell_type": "markdown",
   "id": "0f360f3f-98d4-4fda-9d06-55e453a8440a",
   "metadata": {},
   "source": [
    "The following cell will draw the network topology, for your reference."
   ]
  },
  {
   "cell_type": "code",
   "execution_count": null,
   "id": "891965eb-70b8-4e9a-8b65-7da15e234bff",
   "metadata": {},
   "outputs": [],
   "source": [
    "colors=['bisque', 'aquamarine', 'lightblue', 'lightsalmon', 'lightgreen', 'pink', 'cyan', 'yellow', 'peachpuff', 'gold', 'plum' , 'lightskyblue',  ]\n",
    "color_dict=dict(zip(as_sites,colors[:len(as_sites)]))"
   ]
  },
  {
   "cell_type": "code",
   "execution_count": null,
   "id": "8be3ca8d-abcc-406f-8063-c4fd2854aecb",
   "metadata": {},
   "outputs": [],
   "source": [
    "l2_nets = [(n.get_name(), {'color': 'lavender'}) for n in slice.get_l2networks() ]\n",
    "l3_nets = [(n.get_name(), {'color': 'pink'}) for n in slice.get_l3networks() ]\n",
    "hosts   =   [(n.get_name(), {'color': color_dict[n.get_site()]}) for n in slice.get_nodes()]\n",
    "nodes = l2_nets + l3_nets + hosts\n",
    "ifaces = [iface.toDict() for iface in slice.get_interfaces()]\n",
    "edges = [(iface['network'], iface['node']) for iface in ifaces]"
   ]
  },
  {
   "cell_type": "code",
   "execution_count": null,
   "id": "a570a70f-29b5-452b-9f5c-965a526f5f95",
   "metadata": {},
   "outputs": [],
   "source": [
    "import networkx as nx\n",
    "import matplotlib.pyplot as plt\n",
    "plt.figure(figsize=(len(nodes),len(nodes)))\n",
    "G = nx.Graph()\n",
    "G.add_nodes_from(nodes)\n",
    "G.add_edges_from(edges)\n",
    "pos = nx.spring_layout(G)\n",
    "nx.draw(G, pos, node_shape='s',  \n",
    "        node_color=[n[1]['color'] for n in nodes], \n",
    "        node_size=[len(n[0])*400 for n in nodes],  \n",
    "        with_labels=True);"
   ]
  },
  {
   "cell_type": "markdown",
   "id": "52d54b04-d96a-40af-a35c-3a4017ec5397",
   "metadata": {},
   "source": [
    "### Log into resources"
   ]
  },
  {
   "cell_type": "markdown",
   "id": "2b5add5a-870d-4e5a-98ac-02b58f45388f",
   "metadata": {},
   "source": [
    "Now, we are finally ready to log in to our resources over SSH! Run the following cells, and observe the table output - you will see an SSH command for each of the resources in your topology."
   ]
  },
  {
   "cell_type": "code",
   "execution_count": null,
   "id": "06c99189-c310-4cbe-84cc-a4bc52934eea",
   "metadata": {},
   "outputs": [],
   "source": [
    "import pandas as pd\n",
    "pd.set_option('display.max_colwidth', None)\n",
    "slice_info = [{'Name': n.get_name(), 'SSH command': n.get_ssh_command()} for n in slice.get_nodes()]\n",
    "pd.DataFrame(slice_info).set_index('Name')"
   ]
  },
  {
   "cell_type": "markdown",
   "id": "777aadd8-2edb-4e43-975d-7508494014b3",
   "metadata": {},
   "source": [
    "Now, you can open an SSH session on any of the resources as follows:\n",
    "\n",
    "-   in Jupyter, from the menu bar, use File \\> New \\> Terminal to open a new terminal.\n",
    "-   copy an SSH command from the table, and paste it into the terminal. (Note that each SSH command is a single line, even if the display wraps the text to a second line! When you copy and paste it, paste it all together.)\n",
    "\n",
    "You can repeat this process (open several terminals) to start a session on each resource. Each terminal session will have a tab in the Jupyter environment, so that you can easily switch between them."
   ]
  },
  {
   "cell_type": "markdown",
   "id": "332510c6-55f7-497b-8b96-72e8186db35d",
   "metadata": {},
   "source": [
    "### Delete your slice"
   ]
  },
  {
   "cell_type": "markdown",
   "id": "0b6eafca-41a2-4f17-902b-c08f983d49b6",
   "metadata": {},
   "source": [
    "When you finish your experiment, you should delete your slice! The following cells deletes all the resources in your slice, freeing them for other experimenters."
   ]
  },
  {
   "cell_type": "code",
   "execution_count": null,
   "id": "1e9b98e3-6be2-4ac9-bafc-90a114bd6d50",
   "metadata": {},
   "outputs": [],
   "source": [
    "slice = fablib.get_slice(name=slice_name)\n",
    "fablib.delete_slice(slice_name)"
   ]
  },
  {
   "cell_type": "code",
   "execution_count": null,
   "id": "a8068f23-598a-4ffa-9c36-5b463c06954c",
   "metadata": {},
   "outputs": [],
   "source": [
    "# slice should end up in \"Dead\" state\n",
    "# re-run this cell until you see it in \"Dead\" state\n",
    "slice.update()\n",
    "_ = slice.show()"
   ]
  }
 ],
 "metadata": {
  "language_info": {
   "name": "python"
  }
 },
 "nbformat": 4,
 "nbformat_minor": 5
}
