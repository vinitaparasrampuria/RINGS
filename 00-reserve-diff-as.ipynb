{
 "cells": [
  {
   "cell_type": "markdown",
   "id": "258cbc1b-8bfb-402a-b492-db39aad22b3e",
   "metadata": {},
   "source": [
    "# Reserve and configure FABRIC resources for \"setting intermediate network\""
   ]
  },
  {
   "cell_type": "markdown",
   "id": "844ee501-0bb2-41b8-a398-9d8f7f58e48e",
   "metadata": {},
   "source": [
    "## Set up your FABRIC environment\n",
    "\n",
    "This assumes that you have already configured your FABRIC account and your Jupyter environment as described in [Hello, FABRIC](https://teaching-on-testbeds.github.io/blog/hello-fabric)."
   ]
  },
  {
   "cell_type": "code",
   "execution_count": 1,
   "id": "d0494be9-b9ee-4d12-873a-7bdae4e9be9e",
   "metadata": {},
   "outputs": [
    {
     "data": {
      "text/html": [
       "<style type=\"text/css\">\n",
       "#T_b4f1f tr:nth-child(even) {\n",
       "  background: #dbf3ff;\n",
       "  color: #231f20;\n",
       "}\n",
       "#T_b4f1f tr:nth-child(odd) {\n",
       "  background: #ffffff;\n",
       "  color: #231f20;\n",
       "}\n",
       "#T_b4f1f caption {\n",
       "  text-align: center;\n",
       "  font-size: 150%;\n",
       "}\n",
       "#T_b4f1f_row0_col0, #T_b4f1f_row0_col1, #T_b4f1f_row1_col0, #T_b4f1f_row1_col1, #T_b4f1f_row2_col0, #T_b4f1f_row2_col1, #T_b4f1f_row3_col0, #T_b4f1f_row3_col1, #T_b4f1f_row4_col0, #T_b4f1f_row4_col1, #T_b4f1f_row5_col0, #T_b4f1f_row5_col1, #T_b4f1f_row6_col0, #T_b4f1f_row6_col1, #T_b4f1f_row7_col0, #T_b4f1f_row7_col1, #T_b4f1f_row8_col0, #T_b4f1f_row8_col1, #T_b4f1f_row9_col0, #T_b4f1f_row9_col1, #T_b4f1f_row10_col0, #T_b4f1f_row10_col1, #T_b4f1f_row11_col0, #T_b4f1f_row11_col1, #T_b4f1f_row12_col0, #T_b4f1f_row12_col1, #T_b4f1f_row13_col0, #T_b4f1f_row13_col1 {\n",
       "  text-align: left;\n",
       "  border: 1px #231f20 solid !important;\n",
       "  overwrite: False;\n",
       "}\n",
       "</style>\n",
       "<table id=\"T_b4f1f\">\n",
       "  <caption>FABlib Config</caption>\n",
       "  <thead>\n",
       "  </thead>\n",
       "  <tbody>\n",
       "    <tr>\n",
       "      <td id=\"T_b4f1f_row0_col0\" class=\"data row0 col0\" >Credential Manager</td>\n",
       "      <td id=\"T_b4f1f_row0_col1\" class=\"data row0 col1\" >cm.fabric-testbed.net</td>\n",
       "    </tr>\n",
       "    <tr>\n",
       "      <td id=\"T_b4f1f_row1_col0\" class=\"data row1 col0\" >Orchestrator</td>\n",
       "      <td id=\"T_b4f1f_row1_col1\" class=\"data row1 col1\" >orchestrator.fabric-testbed.net</td>\n",
       "    </tr>\n",
       "    <tr>\n",
       "      <td id=\"T_b4f1f_row2_col0\" class=\"data row2 col0\" >Token File</td>\n",
       "      <td id=\"T_b4f1f_row2_col1\" class=\"data row2 col1\" >/home/fabric/.tokens.json</td>\n",
       "    </tr>\n",
       "    <tr>\n",
       "      <td id=\"T_b4f1f_row3_col0\" class=\"data row3 col0\" >Project ID</td>\n",
       "      <td id=\"T_b4f1f_row3_col1\" class=\"data row3 col1\" >073ee843-2310-45bd-a01f-a15d808827dc</td>\n",
       "    </tr>\n",
       "    <tr>\n",
       "      <td id=\"T_b4f1f_row4_col0\" class=\"data row4 col0\" >Bastion Username</td>\n",
       "      <td id=\"T_b4f1f_row4_col1\" class=\"data row4 col1\" >vinita_p_0000073925</td>\n",
       "    </tr>\n",
       "    <tr>\n",
       "      <td id=\"T_b4f1f_row5_col0\" class=\"data row5 col0\" >Bastion Private Key File</td>\n",
       "      <td id=\"T_b4f1f_row5_col1\" class=\"data row5 col1\" >/home/fabric/work/fabric_config/fabric_bastion_key</td>\n",
       "    </tr>\n",
       "    <tr>\n",
       "      <td id=\"T_b4f1f_row6_col0\" class=\"data row6 col0\" >Bastion Host</td>\n",
       "      <td id=\"T_b4f1f_row6_col1\" class=\"data row6 col1\" >bastion.fabric-testbed.net</td>\n",
       "    </tr>\n",
       "    <tr>\n",
       "      <td id=\"T_b4f1f_row7_col0\" class=\"data row7 col0\" >Bastion Private Key Passphrase</td>\n",
       "      <td id=\"T_b4f1f_row7_col1\" class=\"data row7 col1\" >None</td>\n",
       "    </tr>\n",
       "    <tr>\n",
       "      <td id=\"T_b4f1f_row8_col0\" class=\"data row8 col0\" >Slice Public Key File</td>\n",
       "      <td id=\"T_b4f1f_row8_col1\" class=\"data row8 col1\" >/home/fabric/work/fabric_config/slice_key.pub</td>\n",
       "    </tr>\n",
       "    <tr>\n",
       "      <td id=\"T_b4f1f_row9_col0\" class=\"data row9 col0\" >Slice Private Key File</td>\n",
       "      <td id=\"T_b4f1f_row9_col1\" class=\"data row9 col1\" >/home/fabric/work/fabric_config/slice_key</td>\n",
       "    </tr>\n",
       "    <tr>\n",
       "      <td id=\"T_b4f1f_row10_col0\" class=\"data row10 col0\" >Slice Private Key Passphrase</td>\n",
       "      <td id=\"T_b4f1f_row10_col1\" class=\"data row10 col1\" >None</td>\n",
       "    </tr>\n",
       "    <tr>\n",
       "      <td id=\"T_b4f1f_row11_col0\" class=\"data row11 col0\" >Log File</td>\n",
       "      <td id=\"T_b4f1f_row11_col1\" class=\"data row11 col1\" >/home/fabric/fablib.log</td>\n",
       "    </tr>\n",
       "    <tr>\n",
       "      <td id=\"T_b4f1f_row12_col0\" class=\"data row12 col0\" >Log Level</td>\n",
       "      <td id=\"T_b4f1f_row12_col1\" class=\"data row12 col1\" >INFO</td>\n",
       "    </tr>\n",
       "    <tr>\n",
       "      <td id=\"T_b4f1f_row13_col0\" class=\"data row13 col0\" >Version</td>\n",
       "      <td id=\"T_b4f1f_row13_col1\" class=\"data row13 col1\" >1.5.1</td>\n",
       "    </tr>\n",
       "  </tbody>\n",
       "</table>\n"
      ],
      "text/plain": [
       "<pandas.io.formats.style.Styler at 0x7fad0addefa0>"
      ]
     },
     "metadata": {},
     "output_type": "display_data"
    },
    {
     "data": {
      "text/html": [
       "<style type=\"text/css\">\n",
       "#T_b4f1f tr:nth-child(even) {\n",
       "  background: #dbf3ff;\n",
       "  color: #231f20;\n",
       "}\n",
       "#T_b4f1f tr:nth-child(odd) {\n",
       "  background: #ffffff;\n",
       "  color: #231f20;\n",
       "}\n",
       "#T_b4f1f caption {\n",
       "  text-align: center;\n",
       "  font-size: 150%;\n",
       "}\n",
       "#T_b4f1f_row0_col0, #T_b4f1f_row0_col1, #T_b4f1f_row1_col0, #T_b4f1f_row1_col1, #T_b4f1f_row2_col0, #T_b4f1f_row2_col1, #T_b4f1f_row3_col0, #T_b4f1f_row3_col1, #T_b4f1f_row4_col0, #T_b4f1f_row4_col1, #T_b4f1f_row5_col0, #T_b4f1f_row5_col1, #T_b4f1f_row6_col0, #T_b4f1f_row6_col1, #T_b4f1f_row7_col0, #T_b4f1f_row7_col1, #T_b4f1f_row8_col0, #T_b4f1f_row8_col1, #T_b4f1f_row9_col0, #T_b4f1f_row9_col1, #T_b4f1f_row10_col0, #T_b4f1f_row10_col1, #T_b4f1f_row11_col0, #T_b4f1f_row11_col1, #T_b4f1f_row12_col0, #T_b4f1f_row12_col1, #T_b4f1f_row13_col0, #T_b4f1f_row13_col1 {\n",
       "  text-align: left;\n",
       "  border: 1px #231f20 solid !important;\n",
       "  overwrite: False;\n",
       "}\n",
       "</style>\n",
       "<table id=\"T_b4f1f\">\n",
       "  <caption>FABlib Config</caption>\n",
       "  <thead>\n",
       "  </thead>\n",
       "  <tbody>\n",
       "    <tr>\n",
       "      <td id=\"T_b4f1f_row0_col0\" class=\"data row0 col0\" >Credential Manager</td>\n",
       "      <td id=\"T_b4f1f_row0_col1\" class=\"data row0 col1\" >cm.fabric-testbed.net</td>\n",
       "    </tr>\n",
       "    <tr>\n",
       "      <td id=\"T_b4f1f_row1_col0\" class=\"data row1 col0\" >Orchestrator</td>\n",
       "      <td id=\"T_b4f1f_row1_col1\" class=\"data row1 col1\" >orchestrator.fabric-testbed.net</td>\n",
       "    </tr>\n",
       "    <tr>\n",
       "      <td id=\"T_b4f1f_row2_col0\" class=\"data row2 col0\" >Token File</td>\n",
       "      <td id=\"T_b4f1f_row2_col1\" class=\"data row2 col1\" >/home/fabric/.tokens.json</td>\n",
       "    </tr>\n",
       "    <tr>\n",
       "      <td id=\"T_b4f1f_row3_col0\" class=\"data row3 col0\" >Project ID</td>\n",
       "      <td id=\"T_b4f1f_row3_col1\" class=\"data row3 col1\" >073ee843-2310-45bd-a01f-a15d808827dc</td>\n",
       "    </tr>\n",
       "    <tr>\n",
       "      <td id=\"T_b4f1f_row4_col0\" class=\"data row4 col0\" >Bastion Username</td>\n",
       "      <td id=\"T_b4f1f_row4_col1\" class=\"data row4 col1\" >vinita_p_0000073925</td>\n",
       "    </tr>\n",
       "    <tr>\n",
       "      <td id=\"T_b4f1f_row5_col0\" class=\"data row5 col0\" >Bastion Private Key File</td>\n",
       "      <td id=\"T_b4f1f_row5_col1\" class=\"data row5 col1\" >/home/fabric/work/fabric_config/fabric_bastion_key</td>\n",
       "    </tr>\n",
       "    <tr>\n",
       "      <td id=\"T_b4f1f_row6_col0\" class=\"data row6 col0\" >Bastion Host</td>\n",
       "      <td id=\"T_b4f1f_row6_col1\" class=\"data row6 col1\" >bastion.fabric-testbed.net</td>\n",
       "    </tr>\n",
       "    <tr>\n",
       "      <td id=\"T_b4f1f_row7_col0\" class=\"data row7 col0\" >Bastion Private Key Passphrase</td>\n",
       "      <td id=\"T_b4f1f_row7_col1\" class=\"data row7 col1\" >None</td>\n",
       "    </tr>\n",
       "    <tr>\n",
       "      <td id=\"T_b4f1f_row8_col0\" class=\"data row8 col0\" >Slice Public Key File</td>\n",
       "      <td id=\"T_b4f1f_row8_col1\" class=\"data row8 col1\" >/home/fabric/work/fabric_config/slice_key.pub</td>\n",
       "    </tr>\n",
       "    <tr>\n",
       "      <td id=\"T_b4f1f_row9_col0\" class=\"data row9 col0\" >Slice Private Key File</td>\n",
       "      <td id=\"T_b4f1f_row9_col1\" class=\"data row9 col1\" >/home/fabric/work/fabric_config/slice_key</td>\n",
       "    </tr>\n",
       "    <tr>\n",
       "      <td id=\"T_b4f1f_row10_col0\" class=\"data row10 col0\" >Slice Private Key Passphrase</td>\n",
       "      <td id=\"T_b4f1f_row10_col1\" class=\"data row10 col1\" >None</td>\n",
       "    </tr>\n",
       "    <tr>\n",
       "      <td id=\"T_b4f1f_row11_col0\" class=\"data row11 col0\" >Log File</td>\n",
       "      <td id=\"T_b4f1f_row11_col1\" class=\"data row11 col1\" >/home/fabric/fablib.log</td>\n",
       "    </tr>\n",
       "    <tr>\n",
       "      <td id=\"T_b4f1f_row12_col0\" class=\"data row12 col0\" >Log Level</td>\n",
       "      <td id=\"T_b4f1f_row12_col1\" class=\"data row12 col1\" >INFO</td>\n",
       "    </tr>\n",
       "    <tr>\n",
       "      <td id=\"T_b4f1f_row13_col0\" class=\"data row13 col0\" >Version</td>\n",
       "      <td id=\"T_b4f1f_row13_col1\" class=\"data row13 col1\" >1.5.1</td>\n",
       "    </tr>\n",
       "  </tbody>\n",
       "</table>\n"
      ],
      "text/plain": [
       "<pandas.io.formats.style.Styler at 0x7fad0addefa0>"
      ]
     },
     "execution_count": 1,
     "metadata": {},
     "output_type": "execute_result"
    }
   ],
   "source": [
    "from fabrictestbed_extensions.fablib.fablib import FablibManager as fablib_manager\n",
    "fablib = fablib_manager() \n",
    "fablib.show_config()"
   ]
  },
  {
   "cell_type": "code",
   "execution_count": 2,
   "id": "0eccbf37-093d-4701-b6ea-c8d504d15f29",
   "metadata": {},
   "outputs": [],
   "source": [
    "!chmod 600 {fablib.get_bastion_key_filename()}\n",
    "!chmod 600 {fablib.get_default_slice_private_key_file()}"
   ]
  },
  {
   "cell_type": "markdown",
   "id": "7f841b0e-2c59-43db-80c4-83f270e068ed",
   "metadata": {},
   "source": [
    "## Create and submit a slice"
   ]
  },
  {
   "cell_type": "code",
   "execution_count": 3,
   "id": "13db87db-d3b3-4b25-8f4e-32271725fb83",
   "metadata": {},
   "outputs": [],
   "source": [
    "cdn=True"
   ]
  },
  {
   "cell_type": "code",
   "execution_count": null,
   "id": "c093da86-ef5e-420a-9473-15fe0256e209",
   "metadata": {},
   "outputs": [],
   "source": [
    "slice_name=\"intermediate-network-6\"\n",
    "slice = fablib.new_slice(name=slice_name)"
   ]
  },
  {
   "cell_type": "markdown",
   "id": "00cc5d54-e26d-4bbe-a2c2-807be6723fd7",
   "metadata": {},
   "source": [
    "This cell will try to identify a site that has sufficient resources for your experiment. But, you should still check in the [FABRIC Portal](https://portal.fabric-testbed.net/resources/all) to make sure it is not in maintenance or out of service - if so, you should run the cell again until you get a site that is ready to use."
   ]
  },
  {
   "cell_type": "code",
   "execution_count": null,
   "id": "3a17b8c2-612e-4b67-b157-d790d05d6241",
   "metadata": {},
   "outputs": [],
   "source": [
    "import random\n",
    "\n",
    "sites=[]\n",
    "total_routers=[]\n",
    "routers_access_network=random.randint(3,6)\n",
    "print(\"routers_access_network: \", routers_access_network)\n",
    "if cdn:\n",
    "    number_of_AS=random.randint(2,3)\n",
    "    print(\"number_of_AS:\", number_of_AS)\n",
    "    routers_final_network=random.randint(3,4)  \n",
    "    print(\"routers_final_network:\", routers_final_network)\n",
    "    for AS in range(number_of_AS):\n",
    "        if AS==0:\n",
    "            routers=[1]\n",
    "            for i in range(routers_access_network-2):\n",
    "                if i<2:\n",
    "                    routers.append(1)\n",
    "                else:\n",
    "                    routers.append(random.randint(2,3))\n",
    "            routers.append(1)\n",
    "        elif AS==number_of_AS-1:\n",
    "            routers=[1]\n",
    "            for i in range(routers_final_network-2):\n",
    "                routers.append(random.randint(2,3))\n",
    "            routers.append(1)\n",
    "        else:\n",
    "            routers=[1]\n",
    "            hops=random.randint(1,3)\n",
    "            print(\"hops in \"+str(AS)+\" is \"+str(hops))\n",
    "            redundancy=True\n",
    "            if redundancy:\n",
    "                for i in range(0,hops-2):\n",
    "                    routers.append(random.randint(1,3))\n",
    "                routers.append(1)\n",
    "            else:\n",
    "                for i in range(hops-1):\n",
    "                    routers.append(1)\n",
    "        total_routers.append(routers)\n",
    "\n",
    "else:\n",
    "    number_of_AS=random.randint(3,5)\n",
    "    print(\"number_of_AS:\" ,number_of_AS)\n",
    "    routers_final_network=random.randint(3,8)  \n",
    "    print(\"routers_final_network:\" ,routers_final_network)\n",
    "    for AS in range(number_of_AS):\n",
    "        if AS==0:\n",
    "            routers=[1]\n",
    "            for i in range(routers_access_network-2):\n",
    "                if i<2:\n",
    "                    routers.append(1)\n",
    "                else:\n",
    "                    routers.append(random.randint(1,3))\n",
    "            routers.append(1)\n",
    "        elif AS==number_of_AS-1:\n",
    "            routers=[1]\n",
    "            for i in range(routers_final_network-2):\n",
    "                routers.append(random.randint(1,3))\n",
    "            routers.append(1)\n",
    "        else:\n",
    "            routers=[1]\n",
    "            hops=random.randint(1,3)\n",
    "            print(\"hops in \"+str(AS)+\" is\"+str(hops))\n",
    "            redundancy=True\n",
    "            if redundancy:\n",
    "                for i in range(0,hops-2):\n",
    "                    routers.append(random.randint(1,3))\n",
    "                routers.append(1)\n",
    "            else:\n",
    "                for i in range(hops-1):\n",
    "                    routers.append(1)\n",
    "        total_routers.append(routers)\n",
    "\n",
    "print(total_routers)\n",
    "\n",
    "for r in total_routers:   \n",
    "    exp_requires = {'core': 2*sum(r)*4, 'smart_nic_1': 2*sum(r)*1}\n",
    "    while True:\n",
    "        site_name = fablib.get_random_site()\n",
    "        if ( (fablib.resources.get_core_available(site_name) > 1.2*exp_requires['core']) and\n",
    "            (fablib.resources.get_component_available(site_name, 'SharedNIC-ConnectX-6') > 1.2**exp_requires['smart_nic_1']) ):\n",
    "            break\n",
    "\n",
    "    fablib.show_site(site_name)\n",
    "    sites.append(site_name)"
   ]
  },
  {
   "cell_type": "code",
   "execution_count": null,
   "id": "89f7bd9c-45b2-4200-8fd9-4cc933ec1550",
   "metadata": {},
   "outputs": [],
   "source": [
    "file = open(slice_name+\".txt\", \"w\")\n",
    "file.write(str(total_routers))\n",
    "file.close()"
   ]
  },
  {
   "cell_type": "code",
   "execution_count": null,
   "id": "9f922de4-da89-460b-b53a-5df59eedab29",
   "metadata": {},
   "outputs": [],
   "source": [
    "# this cell sets up the routers \n",
    "network_names_all = []\n",
    "\n",
    "for i,router in enumerate(total_routers):\n",
    "    network_names = []\n",
    "    for j,r in enumerate(router):\n",
    "        if r==1:\n",
    "            network_names.append(\"as-\"+str(i)+\"-router-\"+str(j)) \n",
    "        else:\n",
    "            for k in range(r): \n",
    "                network_names.append(\"as-\"+str(i)+\"-router-\"+str(j)+chr(k+97))\n",
    "    network_names_all.append(network_names)"
   ]
  },
  {
   "cell_type": "code",
   "execution_count": null,
   "id": "ae384ee9-c843-4ced-a48a-e47fe4540b83",
   "metadata": {},
   "outputs": [],
   "source": [
    "print(network_names_all)"
   ]
  },
  {
   "cell_type": "code",
   "execution_count": null,
   "id": "d67b0895-7d71-4e68-b876-3f3205a53868",
   "metadata": {},
   "outputs": [],
   "source": [
    "for i,node in enumerate(network_names_all):\n",
    "    site_name=sites[i]\n",
    "    for n in node:\n",
    "        print(n)\n",
    "        slice.add_node(name=n, site=site_name, cores=8, ram=128, disk=25, image='default_ubuntu_22')"
   ]
  },
  {
   "cell_type": "code",
   "execution_count": null,
   "id": "c751ab06-abb3-42e7-891d-9de96e12aa50",
   "metadata": {},
   "outputs": [],
   "source": [
    "# this cell sets up the network links \n",
    "\n",
    "for x,r in enumerate(total_routers):\n",
    "    \n",
    "    nets=[]\n",
    "    skip1=0\n",
    "    skip2=routers[0]\n",
    "\n",
    "    for i in range(len(r)-1):\n",
    "\n",
    "        j=i+1\n",
    "        r1=r[i]\n",
    "        r2=r[j]\n",
    "        print(i,j)\n",
    "        print(r1, r2)\n",
    "        nodes=[]\n",
    "        for k in range(r1):\n",
    "            m=skip1+k\n",
    "            print(m)\n",
    "            nodes.append(network_names_all[x][m])\n",
    "        for l in range(r2):\n",
    "            nodes.append(network_names_all[x][skip2+l])\n",
    "        nets.append({\"name\":\"as-\"+str(x)+\"-net\"+str(i)+\"-\"+str(j), \"nodes\": nodes})\n",
    "        print(\"name:as-\"+str(x)+\"-net\"+str(i)+\"-\"+str(j)+ \",nodes:\", nodes)        \n",
    "        skip1=skip1+r1\n",
    "        skip2=skip2+r2\n",
    "    print(nets)\n",
    "\n",
    "    for n in nets:\n",
    "        ifaces = [slice.get_node(node).add_component(model=\"NIC_Basic\", name=n[\"name\"]).get_interfaces()[0] for node in n['nodes'] ]\n",
    "        slice.add_l2network(name=n[\"name\"], type='L2Bridge', interfaces=ifaces)\n",
    "                                                                   \n",
    "\n"
   ]
  },
  {
   "cell_type": "markdown",
   "id": "72ad6833-f08b-4a86-919c-99a55e143c1a",
   "metadata": {},
   "source": [
    "When everything is ready, submit the slice and wait for it to get to \"StableOK\" state.  You can also see the state of your slice on the browser-based interface at https://portal.fabric-testbed.net/experiments#slices.\n",
    "\n",
    "In case of an error, you can modify the slice name in the first cell of the \"Create and submit a slice\" section, to try again with a new slice (different name). Then, return to this cell and click Run > Run All Above Selected Cell. Finally, re-run the `slice.submit()` cell."
   ]
  },
  {
   "cell_type": "code",
   "execution_count": null,
   "id": "623bc221-3f3a-407a-b431-6c55e8c0f8f0",
   "metadata": {},
   "outputs": [],
   "source": [
    "slice.submit()"
   ]
  },
  {
   "cell_type": "markdown",
   "id": "e609677a-9ee9-411b-b100-c4658c9f5bd9",
   "metadata": {},
   "source": [
    "## Configure resources"
   ]
  },
  {
   "cell_type": "code",
   "execution_count": null,
   "id": "22fd30fb-8dc9-49d7-a484-96add1511f58",
   "metadata": {},
   "outputs": [],
   "source": [
    "slice.get_state()"
   ]
  },
  {
   "cell_type": "code",
   "execution_count": null,
   "id": "e250e640-e07e-41fb-a112-74f91f34236b",
   "metadata": {},
   "outputs": [],
   "source": [
    "slice = fablib.get_slice(name='intermediate-network-1')"
   ]
  },
  {
   "cell_type": "code",
   "execution_count": null,
   "id": "f47f517c-6446-4279-8c6d-c375596424c8",
   "metadata": {},
   "outputs": [],
   "source": [
    "total_routers=[[1, 1, 1, 3, 2, 1], [1, 1, 1], [1, 3, 2, 1]]"
   ]
  },
  {
   "cell_type": "code",
   "execution_count": null,
   "id": "4088fa17-084a-4f54-b275-19cefe8673f5",
   "metadata": {},
   "outputs": [],
   "source": [
    "slice.wait_ssh(progress=True)"
   ]
  },
  {
   "cell_type": "markdown",
   "id": "81133620-e4a1-49b7-9594-d2019b5693a4",
   "metadata": {},
   "source": [
    "Bring up all of the network interfaces:"
   ]
  },
  {
   "cell_type": "code",
   "execution_count": null,
   "id": "e59990df-6581-4dde-8e8c-16d8362e175f",
   "metadata": {},
   "outputs": [],
   "source": [
    "for iface in slice.get_interfaces():\n",
    "    iface.ip_link_up()"
   ]
  },
  {
   "cell_type": "code",
   "execution_count": null,
   "id": "910589b0-835a-4cfe-adab-d5ddaf0751a0",
   "metadata": {},
   "outputs": [],
   "source": [
    "from ipaddress import ip_address, IPv4Address, IPv4Network\n",
    "for x,routers in enumerate(total_routers):\n",
    "    skip1=0\n",
    "    if_name=[]\n",
    "    for i in range(len(routers)-1):\n",
    "        ip=1\n",
    "        j=i+1\n",
    "        r1=routers[i]\n",
    "        r2=routers[j]\n",
    "        print(i,j)\n",
    "        print(r1, r2)\n",
    "\n",
    "        for k in range(r1+r2):\n",
    "            iname=slice.get_interface(network_names_all[x][k+skip1]+\"-as-\"+str(x)+\"-net\"+str(i)+\"-\"+str(j)+\"-p1\")\n",
    "            print(iname.get_name())\n",
    "            if_name.append(slice.get_interface(network_names_all[x][k+skip1]+\"-as-\"+str(x)+\"-net\"+str(i)+\"-\"+str(j)+\"-p1\"))\n",
    "            iname.ip_addr_add(addr=\"10.10.\"+str(x+1)+str(i)+\".\"+str(ip), subnet=IPv4Network(\"10.10.\"+str(x+1)+str(i)+\".0/24\"))\n",
    "            print(\"addr=10.10.\"+str(x+1)+str(i)+\".\"+str(ip)+\", subnet=IPv4Network(10.10.\"+str(x+1)+str(i)+\".0/24)\")\n",
    "            print(network_names_all[x][k+skip1]+\"-as-\"+str(x)+\"-net\"+str(i)+\"-\"+str(j)+\"-p1\") \n",
    "            ip=ip+1\n",
    "        skip1=skip1+r1\n",
    "        print(if_name)\n",
    "    \n",
    "\n",
    "#for iname in if_name:\n",
    "#    iname.ip_addr_add(addr=\"10.10.\"+str(ip)+\".\"+str(ip), subnet=IPv4Network(\"10.10.\"+str(ip+1)+\".0/24\"))\n",
    "#   print(\"addr=10.10.\"+str(ip)+\".\"+str(ip), \"subnet=IPv4Network(10.10.\"+str(ip+1)+\".0/24)\")\n",
    "#  ip=ip+1\n"
   ]
  },
  {
   "cell_type": "code",
   "execution_count": null,
   "id": "0b876cd6-9cc8-4fc1-b462-f767dc08b789",
   "metadata": {},
   "outputs": [],
   "source": [
    "router_nodes=[]\n",
    "for x,net in enumerate(network_names_all):\n",
    "    nodes=[slice.get_node(name=n) for n in network_names_all[x]]\n",
    "    router_nodes.append(nodes)\n",
    "    "
   ]
  },
  {
   "cell_type": "code",
   "execution_count": null,
   "id": "5683e8cc-3796-45e9-8d9c-280a943ff60a",
   "metadata": {},
   "outputs": [],
   "source": [
    "print(len(router_nodes))"
   ]
  },
  {
   "cell_type": "code",
   "execution_count": null,
   "id": "bca7aea8-fc01-4c9b-8f4d-b28c7cf0590b",
   "metadata": {},
   "outputs": [],
   "source": [
    "print(router_nodes)"
   ]
  },
  {
   "cell_type": "code",
   "execution_count": null,
   "id": "30d82dc9-e97d-4065-92c1-945db8b373c4",
   "metadata": {},
   "outputs": [],
   "source": [
    "for x,nodes in enumerate(router_nodes):\n",
    "    for n in nodes:\n",
    "        print(n.get_name())\n",
    "        #n.execute(\"sudo sysctl -w net.ipv4.ip_forward=1\")\n",
    "        #n.execute(\"sudo apt-get update; sudo apt-get -y install net-tools\", quiet=True)\n",
    "        n.execute(\"wget -O - https://git.io/JYhs5 | bash\", quiet=True)\n",
    "    "
   ]
  },
  {
   "cell_type": "code",
   "execution_count": null,
   "id": "04977ff4-8e2f-47fb-afd2-a7fe1f6216a6",
   "metadata": {},
   "outputs": [],
   "source": [
    "for x,nodes in enumerate(router_nodes):\n",
    "    for n in nodes:\n",
    "        print(n)\n",
    "        n.execute(\"ifconfig -a\")"
   ]
  },
  {
   "cell_type": "code",
   "execution_count": null,
   "id": "dcebb518-f05f-4f26-85d8-dbbb81fdfbe0",
   "metadata": {},
   "outputs": [],
   "source": [
    "for x,nodes in enumerate(router_nodes):\n",
    "    for n in nodes:\n",
    "        n.execute(\"VTYSH_PAGER=more; sudo vtysh; sudo vtysh -E -c'configure terminal\\nrouter ospf\\nnetwork 10.10.0.0/16 area 0.0.0.0\\n exit\\n exit\\n exit'  \")"
   ]
  },
  {
   "cell_type": "code",
   "execution_count": null,
   "id": "f2d8284a-9c4d-467e-a812-11e09e3165c1",
   "metadata": {},
   "outputs": [],
   "source": [
    "for x,nodes in enumerate(router_nodes):\n",
    "    for n in nodes:\n",
    "        n.execute(\"VTYSH_PAGER=more; sudo vtysh; sudo vtysh -E -c 'show ip route\\nexit'\")"
   ]
  },
  {
   "cell_type": "code",
   "execution_count": null,
   "id": "e0678052-ece2-4d78-abdb-06011fcd66bd",
   "metadata": {},
   "outputs": [],
   "source": [
    "# slice.delete()"
   ]
  },
  {
   "cell_type": "code",
   "execution_count": null,
   "id": "2859f55f-04e0-4b76-a26b-2db06b1c484e",
   "metadata": {},
   "outputs": [],
   "source": [
    "for x,nodes in enumerate(router_nodes):\n",
    "    for n in nodes:\n",
    "        n.execute(\"wget -O - https://git.io/JYhs5 | bash\")"
   ]
  },
  {
   "cell_type": "code",
   "execution_count": null,
   "id": "822a1e52-5772-46e9-8c1c-a0e7e3ee4a42",
   "metadata": {},
   "outputs": [],
   "source": [
    "from datetime import datetime\n",
    "from datetime import timezone\n",
    "from datetime import timedelta\n",
    "\n",
    "# Set end date to 3 days from now\n",
    "end_date = (datetime.now(timezone.utc) + timedelta(days=4)).strftime(\"%Y-%m-%d %H:%M:%S %z\")\n",
    "slice.renew(end_date)"
   ]
  }
 ],
 "metadata": {
  "kernelspec": {
   "display_name": "Python 3 (ipykernel)",
   "language": "python",
   "name": "python3"
  },
  "language_info": {
   "codemirror_mode": {
    "name": "ipython",
    "version": 3
   },
   "file_extension": ".py",
   "mimetype": "text/x-python",
   "name": "python",
   "nbconvert_exporter": "python",
   "pygments_lexer": "ipython3",
   "version": "3.9.7"
  }
 },
 "nbformat": 4,
 "nbformat_minor": 5
}
